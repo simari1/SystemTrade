{
 "cells": [
  {
   "cell_type": "code",
   "execution_count": 6,
   "metadata": {},
   "outputs": [
    {
     "ename": "RemoteDataError",
     "evalue": "Unable to read URL: https://finance.yahoo.com/quote/JPY/BTC/history?period1=1654883332&period2=1662836399&interval=1d&frequency=1d&filter=history\nResponse Text:\nb'<html>\\n<meta charset=\\'utf-8\\'>\\n<script>\\nvar u=\\'https://www.yahoo.com/?err=404&err_url=https%3a%2f%2ffinance.yahoo.com%2fquote%2fJPY%2fBTC%2fhistory%3fperiod1%3d1654883332%26period2%3d1662836399%26interval%3d1d%26frequency%3d1d%26filter%3dhistory\\';\\nif(window!=window.top){\\n  document.write(\\'<p>Content is currently unavailable.</p><img src=\"//geo.yahoo.com/p?s=1197757039&t=\\'+new Date().getTime()+\\'&_R=\\'+encodeURIComponent(document.referrer)+\\'&err=404&err_url=\\'+u+\\'\" width=\"0px\" height=\"0px\"/>\\');\\n}else{\\n  window.location.replace(u);\\n}\\n</script>\\n<noscript><META http-equiv=\"refresh\" content=\"0;URL=\\'https://www.yahoo.com/?err=404&err_url=https%3a%2f%2ffinance.yahoo.com%2fquote%2fJPY%2fBTC%2fhistory%3fperiod1%3d1654883332%26period2%3d1662836399%26interval%3d1d%26frequency%3d1d%26filter%3dhistory\\'\"></noscript>\\n</html>\\n'",
     "output_type": "error",
     "traceback": [
      "\u001b[1;31m---------------------------------------------------------------------------\u001b[0m",
      "\u001b[1;31mRemoteDataError\u001b[0m                           Traceback (most recent call last)",
      "\u001b[1;32mセル1 を c:\\Work\\Python\\SystemTrade\\AnalyzeStock.ipynb\u001b[0m in \u001b[0;36m<cell line: 9>\u001b[1;34m()\u001b[0m\n\u001b[0;32m      <a href='vscode-notebook-cell:/c%3A/Work/Python/SystemTrade/AnalyzeStock.ipynb#W0sZmlsZQ%3D%3D?line=6'>7</a>\u001b[0m importlib\u001b[39m.\u001b[39mreload(st)\n\u001b[0;32m      <a href='vscode-notebook-cell:/c%3A/Work/Python/SystemTrade/AnalyzeStock.ipynb#W0sZmlsZQ%3D%3D?line=7'>8</a>\u001b[0m aaa \u001b[39m=\u001b[39m (datetime\u001b[39m.\u001b[39mdatetime\u001b[39m.\u001b[39mtoday() \u001b[39m+\u001b[39m relativedelta\u001b[39m.\u001b[39mrelativedelta(years\u001b[39m=\u001b[39m\u001b[39m-\u001b[39m\u001b[39m3\u001b[39m))\n\u001b[1;32m----> <a href='vscode-notebook-cell:/c%3A/Work/Python/SystemTrade/AnalyzeStock.ipynb#W0sZmlsZQ%3D%3D?line=8'>9</a>\u001b[0m st\u001b[39m.\u001b[39;49mshow_technicals((datetime\u001b[39m.\u001b[39;49mdatetime\u001b[39m.\u001b[39;49mtoday() \u001b[39m+\u001b[39;49m relativedelta\u001b[39m.\u001b[39;49mrelativedelta(months\u001b[39m=\u001b[39;49m\u001b[39m-\u001b[39;49m\u001b[39m3\u001b[39;49m)), datetime\u001b[39m.\u001b[39;49mdatetime\u001b[39m.\u001b[39;49mtoday(), \u001b[39m\"\u001b[39;49m\u001b[39mJPY/BTC\u001b[39;49m\u001b[39m\"\u001b[39;49m)\n\u001b[0;32m     <a href='vscode-notebook-cell:/c%3A/Work/Python/SystemTrade/AnalyzeStock.ipynb#W0sZmlsZQ%3D%3D?line=9'>10</a>\u001b[0m importlib\u001b[39m.\u001b[39mreload(si)\n\u001b[0;32m     <a href='vscode-notebook-cell:/c%3A/Work/Python/SystemTrade/AnalyzeStock.ipynb#W0sZmlsZQ%3D%3D?line=10'>11</a>\u001b[0m si\u001b[39m.\u001b[39mshow_ichimokukinkou((datetime\u001b[39m.\u001b[39mdatetime\u001b[39m.\u001b[39mtoday() \u001b[39m+\u001b[39m relativedelta\u001b[39m.\u001b[39mrelativedelta(months\u001b[39m=\u001b[39m\u001b[39m-\u001b[39m\u001b[39m3\u001b[39m)), datetime\u001b[39m.\u001b[39mdatetime\u001b[39m.\u001b[39mtoday(), \u001b[39m\"\u001b[39m\u001b[39mJPY/BTC\u001b[39m\u001b[39m\"\u001b[39m)\n",
      "File \u001b[1;32mc:\\Work\\Python\\SystemTrade\\lib\\ShowTechnicals.py:15\u001b[0m, in \u001b[0;36mshow_technicals\u001b[1;34m(start, end, code)\u001b[0m\n\u001b[0;32m     12\u001b[0m \u001b[39melse\u001b[39;00m:\n\u001b[0;32m     13\u001b[0m     \u001b[39mimport\u001b[39;00m \u001b[39mlib\u001b[39;00m\u001b[39m.\u001b[39;00m\u001b[39mGetCross\u001b[39;00m \u001b[39mas\u001b[39;00m \u001b[39mgc\u001b[39;00m\n\u001b[1;32m---> 15\u001b[0m df \u001b[39m=\u001b[39m data\u001b[39m.\u001b[39;49mDataReader(code, \u001b[39m\"\u001b[39;49m\u001b[39myahoo\u001b[39;49m\u001b[39m\"\u001b[39;49m, start, end)\n\u001b[0;32m     16\u001b[0m close \u001b[39m=\u001b[39m df[\u001b[39m\"\u001b[39m\u001b[39mAdj Close\u001b[39m\u001b[39m\"\u001b[39m]\n\u001b[0;32m     17\u001b[0m date \u001b[39m=\u001b[39m df\u001b[39m.\u001b[39mindex\n",
      "File \u001b[1;32m~\\AppData\\Roaming\\Python\\Python310\\site-packages\\pandas\\util\\_decorators.py:207\u001b[0m, in \u001b[0;36mdeprecate_kwarg.<locals>._deprecate_kwarg.<locals>.wrapper\u001b[1;34m(*args, **kwargs)\u001b[0m\n\u001b[0;32m    205\u001b[0m     \u001b[39melse\u001b[39;00m:\n\u001b[0;32m    206\u001b[0m         kwargs[new_arg_name] \u001b[39m=\u001b[39m new_arg_value\n\u001b[1;32m--> 207\u001b[0m \u001b[39mreturn\u001b[39;00m func(\u001b[39m*\u001b[39margs, \u001b[39m*\u001b[39m\u001b[39m*\u001b[39mkwargs)\n",
      "File \u001b[1;32mc:\\Python310\\lib\\site-packages\\pandas_datareader\\data.py:379\u001b[0m, in \u001b[0;36mDataReader\u001b[1;34m(name, data_source, start, end, retry_count, pause, session, api_key)\u001b[0m\n\u001b[0;32m    367\u001b[0m     \u001b[39mraise\u001b[39;00m \u001b[39mNotImplementedError\u001b[39;00m(msg)\n\u001b[0;32m    369\u001b[0m \u001b[39mif\u001b[39;00m data_source \u001b[39m==\u001b[39m \u001b[39m\"\u001b[39m\u001b[39myahoo\u001b[39m\u001b[39m\"\u001b[39m:\n\u001b[0;32m    370\u001b[0m     \u001b[39mreturn\u001b[39;00m YahooDailyReader(\n\u001b[0;32m    371\u001b[0m         symbols\u001b[39m=\u001b[39;49mname,\n\u001b[0;32m    372\u001b[0m         start\u001b[39m=\u001b[39;49mstart,\n\u001b[0;32m    373\u001b[0m         end\u001b[39m=\u001b[39;49mend,\n\u001b[0;32m    374\u001b[0m         adjust_price\u001b[39m=\u001b[39;49m\u001b[39mFalse\u001b[39;49;00m,\n\u001b[0;32m    375\u001b[0m         chunksize\u001b[39m=\u001b[39;49m\u001b[39m25\u001b[39;49m,\n\u001b[0;32m    376\u001b[0m         retry_count\u001b[39m=\u001b[39;49mretry_count,\n\u001b[0;32m    377\u001b[0m         pause\u001b[39m=\u001b[39;49mpause,\n\u001b[0;32m    378\u001b[0m         session\u001b[39m=\u001b[39;49msession,\n\u001b[1;32m--> 379\u001b[0m     )\u001b[39m.\u001b[39;49mread()\n\u001b[0;32m    381\u001b[0m \u001b[39melif\u001b[39;00m data_source \u001b[39m==\u001b[39m \u001b[39m\"\u001b[39m\u001b[39miex\u001b[39m\u001b[39m\"\u001b[39m:\n\u001b[0;32m    382\u001b[0m     \u001b[39mreturn\u001b[39;00m IEXDailyReader(\n\u001b[0;32m    383\u001b[0m         symbols\u001b[39m=\u001b[39mname,\n\u001b[0;32m    384\u001b[0m         start\u001b[39m=\u001b[39mstart,\n\u001b[1;32m   (...)\u001b[0m\n\u001b[0;32m    390\u001b[0m         session\u001b[39m=\u001b[39msession,\n\u001b[0;32m    391\u001b[0m     )\u001b[39m.\u001b[39mread()\n",
      "File \u001b[1;32mc:\\Python310\\lib\\site-packages\\pandas_datareader\\base.py:253\u001b[0m, in \u001b[0;36m_DailyBaseReader.read\u001b[1;34m(self)\u001b[0m\n\u001b[0;32m    251\u001b[0m \u001b[39m# If a single symbol, (e.g., 'GOOG')\u001b[39;00m\n\u001b[0;32m    252\u001b[0m \u001b[39mif\u001b[39;00m \u001b[39misinstance\u001b[39m(\u001b[39mself\u001b[39m\u001b[39m.\u001b[39msymbols, (string_types, \u001b[39mint\u001b[39m)):\n\u001b[1;32m--> 253\u001b[0m     df \u001b[39m=\u001b[39m \u001b[39mself\u001b[39;49m\u001b[39m.\u001b[39;49m_read_one_data(\u001b[39mself\u001b[39;49m\u001b[39m.\u001b[39;49murl, params\u001b[39m=\u001b[39;49m\u001b[39mself\u001b[39;49m\u001b[39m.\u001b[39;49m_get_params(\u001b[39mself\u001b[39;49m\u001b[39m.\u001b[39;49msymbols))\n\u001b[0;32m    254\u001b[0m \u001b[39m# Or multiple symbols, (e.g., ['GOOG', 'AAPL', 'MSFT'])\u001b[39;00m\n\u001b[0;32m    255\u001b[0m \u001b[39melif\u001b[39;00m \u001b[39misinstance\u001b[39m(\u001b[39mself\u001b[39m\u001b[39m.\u001b[39msymbols, DataFrame):\n",
      "File \u001b[1;32mc:\\Python310\\lib\\site-packages\\pandas_datareader\\yahoo\\daily.py:149\u001b[0m, in \u001b[0;36mYahooDailyReader._read_one_data\u001b[1;34m(self, url, params)\u001b[0m\n\u001b[0;32m    146\u001b[0m \u001b[39mdel\u001b[39;00m params[\u001b[39m\"\u001b[39m\u001b[39msymbol\u001b[39m\u001b[39m\"\u001b[39m]\n\u001b[0;32m    147\u001b[0m url \u001b[39m=\u001b[39m url\u001b[39m.\u001b[39mformat(symbol)\n\u001b[1;32m--> 149\u001b[0m resp \u001b[39m=\u001b[39m \u001b[39mself\u001b[39;49m\u001b[39m.\u001b[39;49m_get_response(url, params\u001b[39m=\u001b[39;49mparams, headers\u001b[39m=\u001b[39;49m\u001b[39mself\u001b[39;49m\u001b[39m.\u001b[39;49mheaders)\n\u001b[0;32m    150\u001b[0m ptrn \u001b[39m=\u001b[39m \u001b[39mr\u001b[39m\u001b[39m\"\u001b[39m\u001b[39mroot\u001b[39m\u001b[39m\\\u001b[39m\u001b[39m.App\u001b[39m\u001b[39m\\\u001b[39m\u001b[39m.main = (.*?);\u001b[39m\u001b[39m\\\u001b[39m\u001b[39mn}\u001b[39m\u001b[39m\\\u001b[39m\u001b[39m(this\u001b[39m\u001b[39m\\\u001b[39m\u001b[39m)\u001b[39m\u001b[39m\\\u001b[39m\u001b[39m);\u001b[39m\u001b[39m\"\u001b[39m\n\u001b[0;32m    151\u001b[0m \u001b[39mtry\u001b[39;00m:\n",
      "File \u001b[1;32mc:\\Python310\\lib\\site-packages\\pandas_datareader\\base.py:181\u001b[0m, in \u001b[0;36m_BaseReader._get_response\u001b[1;34m(self, url, params, headers)\u001b[0m\n\u001b[0;32m    178\u001b[0m \u001b[39mif\u001b[39;00m last_response_text:\n\u001b[0;32m    179\u001b[0m     msg \u001b[39m+\u001b[39m\u001b[39m=\u001b[39m \u001b[39m\"\u001b[39m\u001b[39m\\n\u001b[39;00m\u001b[39mResponse Text:\u001b[39m\u001b[39m\\n\u001b[39;00m\u001b[39m{0}\u001b[39;00m\u001b[39m\"\u001b[39m\u001b[39m.\u001b[39mformat(last_response_text)\n\u001b[1;32m--> 181\u001b[0m \u001b[39mraise\u001b[39;00m RemoteDataError(msg)\n",
      "\u001b[1;31mRemoteDataError\u001b[0m: Unable to read URL: https://finance.yahoo.com/quote/JPY/BTC/history?period1=1654883332&period2=1662836399&interval=1d&frequency=1d&filter=history\nResponse Text:\nb'<html>\\n<meta charset=\\'utf-8\\'>\\n<script>\\nvar u=\\'https://www.yahoo.com/?err=404&err_url=https%3a%2f%2ffinance.yahoo.com%2fquote%2fJPY%2fBTC%2fhistory%3fperiod1%3d1654883332%26period2%3d1662836399%26interval%3d1d%26frequency%3d1d%26filter%3dhistory\\';\\nif(window!=window.top){\\n  document.write(\\'<p>Content is currently unavailable.</p><img src=\"//geo.yahoo.com/p?s=1197757039&t=\\'+new Date().getTime()+\\'&_R=\\'+encodeURIComponent(document.referrer)+\\'&err=404&err_url=\\'+u+\\'\" width=\"0px\" height=\"0px\"/>\\');\\n}else{\\n  window.location.replace(u);\\n}\\n</script>\\n<noscript><META http-equiv=\"refresh\" content=\"0;URL=\\'https://www.yahoo.com/?err=404&err_url=https%3a%2f%2ffinance.yahoo.com%2fquote%2fJPY%2fBTC%2fhistory%3fperiod1%3d1654883332%26period2%3d1662836399%26interval%3d1d%26frequency%3d1d%26filter%3dhistory\\'\"></noscript>\\n</html>\\n'"
     ]
    }
   ],
   "source": [
    "import lib.ShowTechnicals as st\n",
    "import lib.ShowIchimokuKinkou as si\n",
    "import importlib\n",
    "import datetime\n",
    "from dateutil import relativedelta\n",
    "\n",
    "importlib.reload(st)\n",
    "aaa = (datetime.datetime.today() + relativedelta.relativedelta(years=-3))\n",
    "st.show_technicals((datetime.datetime.today() + relativedelta.relativedelta(months=-3)), datetime.datetime.today(), \"JPY/BTC\")\n",
    "importlib.reload(si)\n",
    "si.show_ichimokukinkou((datetime.datetime.today() + relativedelta.relativedelta(months=-3)), datetime.datetime.today(), \"JPY/BTC\")"
   ]
  },
  {
   "cell_type": "code",
   "execution_count": null,
   "metadata": {},
   "outputs": [],
   "source": []
  }
 ],
 "metadata": {
  "kernelspec": {
   "display_name": "Python 3.10.6 64-bit",
   "language": "python",
   "name": "python3"
  },
  "language_info": {
   "codemirror_mode": {
    "name": "ipython",
    "version": 3
   },
   "file_extension": ".py",
   "mimetype": "text/x-python",
   "name": "python",
   "nbconvert_exporter": "python",
   "pygments_lexer": "ipython3",
   "version": "3.10.6"
  },
  "orig_nbformat": 4,
  "vscode": {
   "interpreter": {
    "hash": "369f2c481f4da34e4445cda3fffd2e751bd1c4d706f27375911949ba6bb62e1c"
   }
  }
 },
 "nbformat": 4,
 "nbformat_minor": 2
}
