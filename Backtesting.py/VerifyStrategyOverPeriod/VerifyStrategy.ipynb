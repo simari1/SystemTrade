{
 "cells": [
  {
   "cell_type": "code",
   "execution_count": 41,
   "metadata": {},
   "outputs": [],
   "source": [
    "import pandas_datareader.data as web\n",
    "import pandas as pd\n",
    "import datetime\n",
    "from decimal import Decimal\n",
    "from dateutil import relativedelta\n",
    "from backtesting import Backtest, Strategy\n",
    "from backtesting.lib import crossover, resample_apply\n",
    "import importlib\n",
    "import plotly.express as px\n",
    "\n",
    "#Change me!\n",
    "start = datetime.datetime.today() + relativedelta.relativedelta(years=-5)\n",
    "split_unit = \"6M\"\n",
    "modulename = \"BacktestingStrategies.Strategy_SMAandRSI\"\n",
    "classname = \"btst.EntryRSIandExitSMA_WithShortPosition\"\n",
    "end = datetime.date.today()\n",
    "\n",
    "data = web.DataReader('1357.T', 'yahoo', start, end)  #NEXT FUNDS 日経平均ダブルインバース・インデックス連動型上場投信\n",
    "data = data.astype(\"double\")\n",
    "\n",
    "initial = 1000_000\n",
    "fname = f\"html/plot-\""
   ]
  },
  {
   "cell_type": "code",
   "execution_count": 42,
   "metadata": {},
   "outputs": [],
   "source": [
    "#日付データを検証期間単位ごとにSplit\n",
    "#https://kakakakakku.hatenablog.com/entry/2021/05/24/002542\n",
    "grouped_data = data.groupby(pd.Grouper(freq = split_unit))\n",
    "dfs = [group for _, group in grouped_data]"
   ]
  },
  {
   "cell_type": "code",
   "execution_count": 43,
   "metadata": {},
   "outputs": [],
   "source": [
    "#検証期間単位ごとにバックテスト＆結果を蓄積\n",
    "#親ディレクトリ経由で呼び出し   # https://qiita.com/yokohama4580/items/466a483ae022d264c8ee\n",
    "import os\n",
    "import sys\n",
    "sys.path.append(os.pardir)\n",
    "\n",
    "btst = importlib.import_module(modulename)\n",
    "# from BacktestingStrategies import Strategy_RsiOscillator as btst\n",
    "importlib.reload(btst)\n",
    "import warnings\n",
    "warnings.simplefilter('ignore')\n",
    "\n",
    "returns = []\n",
    "\n",
    "for monthly_data in dfs:\n",
    "    # バックテストを設定\n",
    "    bt = Backtest(\n",
    "        monthly_data, # チャートデータ\n",
    "        eval(classname), # 売買戦略\n",
    "        cash=initial, # 最初の所持金\n",
    "        commission=0.00495, # 取引手数料\n",
    "        margin=1.0, # レバレッジ倍率の逆数（0.5で2倍レバレッジ）\n",
    "        trade_on_close=False, # True：現在の終値で取引，False：次の時間の始値で取引\n",
    "        exclusive_orders=True #自動でポジションをクローズ(オープン)\n",
    "    )\n",
    "\n",
    "    output = bt.run() # バックテスト実行\n",
    "    returns.append(output)"
   ]
  },
  {
   "cell_type": "code",
   "execution_count": 44,
   "metadata": {},
   "outputs": [
    {
     "name": "stdout",
     "output_type": "stream",
     "text": [
      "１期間単位: 12M\n",
      "テスト期間: 6\n",
      "平均Return [%]: 13.4567\n",
      "最大Return [%]: 41.70668510499997\n",
      "最大Return期間: 2018-10-01T00:00:00.000000000 - 2019-09-30T00:00:00.000000000\n",
      "最低Return [%]: -17.220470880000025\n",
      "最低Return期間: 2019-10-01T00:00:00.000000000 - 2020-09-30T00:00:00.000000000\n"
     ]
    }
   ],
   "source": [
    "import statistics\n",
    "\n",
    "df = pd.DataFrame(returns)\n",
    "\n",
    "#最低と最大の期間のBacktestingを表示＆実行\n",
    "lines = \"１期間単位: \" + split_unit + \"\\n\"\n",
    "lines += \"テスト期間: \" + str(len(returns)) + \"\\n\"\n",
    "res = round(statistics.mean(df[\"Return [%]\"]), 4)\n",
    "\n",
    "#リターンが最小のものの期間を取得\n",
    "min_return = df[df[\"# Trades\"] != 0][\"Return [%]\"].min()\n",
    "min_period_start = pd.to_datetime(df[df[\"Return [%]\"] == min_return][\"Start\"]).values[0]\n",
    "min_period_end = pd.to_datetime(df[df[\"Return [%]\"] == min_return][\"End\"]).values[0]\n",
    "df_min = data[min_period_start : min_period_end]\n",
    "\n",
    "#リターンが2番目、3番目に小さいものの期間を取得\n",
    "min_return_3 = df[df[\"# Trades\"] != 0][\"Return [%]\"].nsmallest(3)\n",
    "min2_period_start = pd.to_datetime(df[df[\"Return [%]\"] == min_return_3.values[1]][\"Start\"]).values[0]\n",
    "min2_period_end = pd.to_datetime(df[df[\"Return [%]\"] == min_return_3.values[1]][\"End\"]).values[0]\n",
    "min3_period_start = pd.to_datetime(df[df[\"Return [%]\"] == min_return_3.values[2]][\"Start\"]).values[0]\n",
    "min3_period_end = pd.to_datetime(df[df[\"Return [%]\"] == min_return_3.values[2]][\"End\"]).values[0]\n",
    "df_min2 = data[min2_period_start : min2_period_end]\n",
    "df_min3 = data[min3_period_start : min3_period_end]\n",
    "\n",
    "#リターンが最大のものの期間を取得\n",
    "max_return = df[df[\"# Trades\"] != 0][\"Return [%]\"].max()\n",
    "max_period_start = pd.to_datetime(df[df[\"Return [%]\"] == max_return][\"Start\"]).values[0]\n",
    "max_period_end = pd.to_datetime(df[df[\"Return [%]\"] == max_return][\"End\"]).values[0]\n",
    "df_max = data[max_period_start : max_period_end]\n",
    "\n",
    "lines += \"平均Return [%]: \" + str(res) + \"\\n\"\n",
    "lines += \"最大Return [%]: \" + str(max_return) + \"\\n\"\n",
    "lines += \"最大Return期間: \" + str(max_period_start) + \" - \" + str(max_period_end) + \"\\n\"\n",
    "lines += \"最低Return [%]: \" + str(min_return) + \"\\n\"\n",
    "lines += \"最低Return期間: \" + str(min_period_start) + \" - \" + str(min_period_end) \n",
    "\n",
    "print(lines)\n",
    "\n"
   ]
  },
  {
   "cell_type": "code",
   "execution_count": 45,
   "metadata": {},
   "outputs": [
    {
     "data": {
      "application/vnd.plotly.v1+json": {
       "config": {
        "plotlyServerURL": "https://plot.ly"
       },
       "data": [
        {
         "alignmentgroup": "True",
         "boxpoints": "all",
         "hovertemplate": "variable=%{x}<br>value=%{y}<extra></extra>",
         "legendgroup": "",
         "marker": {
          "color": "#636efa"
         },
         "name": "",
         "notched": false,
         "offsetgroup": "",
         "orientation": "v",
         "showlegend": false,
         "type": "box",
         "x": [
          "Return [%]",
          "Return [%]",
          "Return [%]",
          "Return [%]",
          "Return [%]",
          "Return [%]"
         ],
         "x0": " ",
         "xaxis": "x",
         "y": [
          0,
          10.267071554999985,
          41.70668510499997,
          -17.220470880000025,
          16.39922078999998,
          29.587807599999966
         ],
         "y0": " ",
         "yaxis": "y"
        }
       ],
       "layout": {
        "boxmode": "group",
        "legend": {
         "tracegroupgap": 0
        },
        "margin": {
         "t": 60
        },
        "template": {
         "data": {
          "bar": [
           {
            "error_x": {
             "color": "#2a3f5f"
            },
            "error_y": {
             "color": "#2a3f5f"
            },
            "marker": {
             "line": {
              "color": "#E5ECF6",
              "width": 0.5
             },
             "pattern": {
              "fillmode": "overlay",
              "size": 10,
              "solidity": 0.2
             }
            },
            "type": "bar"
           }
          ],
          "barpolar": [
           {
            "marker": {
             "line": {
              "color": "#E5ECF6",
              "width": 0.5
             },
             "pattern": {
              "fillmode": "overlay",
              "size": 10,
              "solidity": 0.2
             }
            },
            "type": "barpolar"
           }
          ],
          "carpet": [
           {
            "aaxis": {
             "endlinecolor": "#2a3f5f",
             "gridcolor": "white",
             "linecolor": "white",
             "minorgridcolor": "white",
             "startlinecolor": "#2a3f5f"
            },
            "baxis": {
             "endlinecolor": "#2a3f5f",
             "gridcolor": "white",
             "linecolor": "white",
             "minorgridcolor": "white",
             "startlinecolor": "#2a3f5f"
            },
            "type": "carpet"
           }
          ],
          "choropleth": [
           {
            "colorbar": {
             "outlinewidth": 0,
             "ticks": ""
            },
            "type": "choropleth"
           }
          ],
          "contour": [
           {
            "colorbar": {
             "outlinewidth": 0,
             "ticks": ""
            },
            "colorscale": [
             [
              0,
              "#0d0887"
             ],
             [
              0.1111111111111111,
              "#46039f"
             ],
             [
              0.2222222222222222,
              "#7201a8"
             ],
             [
              0.3333333333333333,
              "#9c179e"
             ],
             [
              0.4444444444444444,
              "#bd3786"
             ],
             [
              0.5555555555555556,
              "#d8576b"
             ],
             [
              0.6666666666666666,
              "#ed7953"
             ],
             [
              0.7777777777777778,
              "#fb9f3a"
             ],
             [
              0.8888888888888888,
              "#fdca26"
             ],
             [
              1,
              "#f0f921"
             ]
            ],
            "type": "contour"
           }
          ],
          "contourcarpet": [
           {
            "colorbar": {
             "outlinewidth": 0,
             "ticks": ""
            },
            "type": "contourcarpet"
           }
          ],
          "heatmap": [
           {
            "colorbar": {
             "outlinewidth": 0,
             "ticks": ""
            },
            "colorscale": [
             [
              0,
              "#0d0887"
             ],
             [
              0.1111111111111111,
              "#46039f"
             ],
             [
              0.2222222222222222,
              "#7201a8"
             ],
             [
              0.3333333333333333,
              "#9c179e"
             ],
             [
              0.4444444444444444,
              "#bd3786"
             ],
             [
              0.5555555555555556,
              "#d8576b"
             ],
             [
              0.6666666666666666,
              "#ed7953"
             ],
             [
              0.7777777777777778,
              "#fb9f3a"
             ],
             [
              0.8888888888888888,
              "#fdca26"
             ],
             [
              1,
              "#f0f921"
             ]
            ],
            "type": "heatmap"
           }
          ],
          "heatmapgl": [
           {
            "colorbar": {
             "outlinewidth": 0,
             "ticks": ""
            },
            "colorscale": [
             [
              0,
              "#0d0887"
             ],
             [
              0.1111111111111111,
              "#46039f"
             ],
             [
              0.2222222222222222,
              "#7201a8"
             ],
             [
              0.3333333333333333,
              "#9c179e"
             ],
             [
              0.4444444444444444,
              "#bd3786"
             ],
             [
              0.5555555555555556,
              "#d8576b"
             ],
             [
              0.6666666666666666,
              "#ed7953"
             ],
             [
              0.7777777777777778,
              "#fb9f3a"
             ],
             [
              0.8888888888888888,
              "#fdca26"
             ],
             [
              1,
              "#f0f921"
             ]
            ],
            "type": "heatmapgl"
           }
          ],
          "histogram": [
           {
            "marker": {
             "pattern": {
              "fillmode": "overlay",
              "size": 10,
              "solidity": 0.2
             }
            },
            "type": "histogram"
           }
          ],
          "histogram2d": [
           {
            "colorbar": {
             "outlinewidth": 0,
             "ticks": ""
            },
            "colorscale": [
             [
              0,
              "#0d0887"
             ],
             [
              0.1111111111111111,
              "#46039f"
             ],
             [
              0.2222222222222222,
              "#7201a8"
             ],
             [
              0.3333333333333333,
              "#9c179e"
             ],
             [
              0.4444444444444444,
              "#bd3786"
             ],
             [
              0.5555555555555556,
              "#d8576b"
             ],
             [
              0.6666666666666666,
              "#ed7953"
             ],
             [
              0.7777777777777778,
              "#fb9f3a"
             ],
             [
              0.8888888888888888,
              "#fdca26"
             ],
             [
              1,
              "#f0f921"
             ]
            ],
            "type": "histogram2d"
           }
          ],
          "histogram2dcontour": [
           {
            "colorbar": {
             "outlinewidth": 0,
             "ticks": ""
            },
            "colorscale": [
             [
              0,
              "#0d0887"
             ],
             [
              0.1111111111111111,
              "#46039f"
             ],
             [
              0.2222222222222222,
              "#7201a8"
             ],
             [
              0.3333333333333333,
              "#9c179e"
             ],
             [
              0.4444444444444444,
              "#bd3786"
             ],
             [
              0.5555555555555556,
              "#d8576b"
             ],
             [
              0.6666666666666666,
              "#ed7953"
             ],
             [
              0.7777777777777778,
              "#fb9f3a"
             ],
             [
              0.8888888888888888,
              "#fdca26"
             ],
             [
              1,
              "#f0f921"
             ]
            ],
            "type": "histogram2dcontour"
           }
          ],
          "mesh3d": [
           {
            "colorbar": {
             "outlinewidth": 0,
             "ticks": ""
            },
            "type": "mesh3d"
           }
          ],
          "parcoords": [
           {
            "line": {
             "colorbar": {
              "outlinewidth": 0,
              "ticks": ""
             }
            },
            "type": "parcoords"
           }
          ],
          "pie": [
           {
            "automargin": true,
            "type": "pie"
           }
          ],
          "scatter": [
           {
            "fillpattern": {
             "fillmode": "overlay",
             "size": 10,
             "solidity": 0.2
            },
            "type": "scatter"
           }
          ],
          "scatter3d": [
           {
            "line": {
             "colorbar": {
              "outlinewidth": 0,
              "ticks": ""
             }
            },
            "marker": {
             "colorbar": {
              "outlinewidth": 0,
              "ticks": ""
             }
            },
            "type": "scatter3d"
           }
          ],
          "scattercarpet": [
           {
            "marker": {
             "colorbar": {
              "outlinewidth": 0,
              "ticks": ""
             }
            },
            "type": "scattercarpet"
           }
          ],
          "scattergeo": [
           {
            "marker": {
             "colorbar": {
              "outlinewidth": 0,
              "ticks": ""
             }
            },
            "type": "scattergeo"
           }
          ],
          "scattergl": [
           {
            "marker": {
             "colorbar": {
              "outlinewidth": 0,
              "ticks": ""
             }
            },
            "type": "scattergl"
           }
          ],
          "scattermapbox": [
           {
            "marker": {
             "colorbar": {
              "outlinewidth": 0,
              "ticks": ""
             }
            },
            "type": "scattermapbox"
           }
          ],
          "scatterpolar": [
           {
            "marker": {
             "colorbar": {
              "outlinewidth": 0,
              "ticks": ""
             }
            },
            "type": "scatterpolar"
           }
          ],
          "scatterpolargl": [
           {
            "marker": {
             "colorbar": {
              "outlinewidth": 0,
              "ticks": ""
             }
            },
            "type": "scatterpolargl"
           }
          ],
          "scatterternary": [
           {
            "marker": {
             "colorbar": {
              "outlinewidth": 0,
              "ticks": ""
             }
            },
            "type": "scatterternary"
           }
          ],
          "surface": [
           {
            "colorbar": {
             "outlinewidth": 0,
             "ticks": ""
            },
            "colorscale": [
             [
              0,
              "#0d0887"
             ],
             [
              0.1111111111111111,
              "#46039f"
             ],
             [
              0.2222222222222222,
              "#7201a8"
             ],
             [
              0.3333333333333333,
              "#9c179e"
             ],
             [
              0.4444444444444444,
              "#bd3786"
             ],
             [
              0.5555555555555556,
              "#d8576b"
             ],
             [
              0.6666666666666666,
              "#ed7953"
             ],
             [
              0.7777777777777778,
              "#fb9f3a"
             ],
             [
              0.8888888888888888,
              "#fdca26"
             ],
             [
              1,
              "#f0f921"
             ]
            ],
            "type": "surface"
           }
          ],
          "table": [
           {
            "cells": {
             "fill": {
              "color": "#EBF0F8"
             },
             "line": {
              "color": "white"
             }
            },
            "header": {
             "fill": {
              "color": "#C8D4E3"
             },
             "line": {
              "color": "white"
             }
            },
            "type": "table"
           }
          ]
         },
         "layout": {
          "annotationdefaults": {
           "arrowcolor": "#2a3f5f",
           "arrowhead": 0,
           "arrowwidth": 1
          },
          "autotypenumbers": "strict",
          "coloraxis": {
           "colorbar": {
            "outlinewidth": 0,
            "ticks": ""
           }
          },
          "colorscale": {
           "diverging": [
            [
             0,
             "#8e0152"
            ],
            [
             0.1,
             "#c51b7d"
            ],
            [
             0.2,
             "#de77ae"
            ],
            [
             0.3,
             "#f1b6da"
            ],
            [
             0.4,
             "#fde0ef"
            ],
            [
             0.5,
             "#f7f7f7"
            ],
            [
             0.6,
             "#e6f5d0"
            ],
            [
             0.7,
             "#b8e186"
            ],
            [
             0.8,
             "#7fbc41"
            ],
            [
             0.9,
             "#4d9221"
            ],
            [
             1,
             "#276419"
            ]
           ],
           "sequential": [
            [
             0,
             "#0d0887"
            ],
            [
             0.1111111111111111,
             "#46039f"
            ],
            [
             0.2222222222222222,
             "#7201a8"
            ],
            [
             0.3333333333333333,
             "#9c179e"
            ],
            [
             0.4444444444444444,
             "#bd3786"
            ],
            [
             0.5555555555555556,
             "#d8576b"
            ],
            [
             0.6666666666666666,
             "#ed7953"
            ],
            [
             0.7777777777777778,
             "#fb9f3a"
            ],
            [
             0.8888888888888888,
             "#fdca26"
            ],
            [
             1,
             "#f0f921"
            ]
           ],
           "sequentialminus": [
            [
             0,
             "#0d0887"
            ],
            [
             0.1111111111111111,
             "#46039f"
            ],
            [
             0.2222222222222222,
             "#7201a8"
            ],
            [
             0.3333333333333333,
             "#9c179e"
            ],
            [
             0.4444444444444444,
             "#bd3786"
            ],
            [
             0.5555555555555556,
             "#d8576b"
            ],
            [
             0.6666666666666666,
             "#ed7953"
            ],
            [
             0.7777777777777778,
             "#fb9f3a"
            ],
            [
             0.8888888888888888,
             "#fdca26"
            ],
            [
             1,
             "#f0f921"
            ]
           ]
          },
          "colorway": [
           "#636efa",
           "#EF553B",
           "#00cc96",
           "#ab63fa",
           "#FFA15A",
           "#19d3f3",
           "#FF6692",
           "#B6E880",
           "#FF97FF",
           "#FECB52"
          ],
          "font": {
           "color": "#2a3f5f"
          },
          "geo": {
           "bgcolor": "white",
           "lakecolor": "white",
           "landcolor": "#E5ECF6",
           "showlakes": true,
           "showland": true,
           "subunitcolor": "white"
          },
          "hoverlabel": {
           "align": "left"
          },
          "hovermode": "closest",
          "mapbox": {
           "style": "light"
          },
          "paper_bgcolor": "white",
          "plot_bgcolor": "#E5ECF6",
          "polar": {
           "angularaxis": {
            "gridcolor": "white",
            "linecolor": "white",
            "ticks": ""
           },
           "bgcolor": "#E5ECF6",
           "radialaxis": {
            "gridcolor": "white",
            "linecolor": "white",
            "ticks": ""
           }
          },
          "scene": {
           "xaxis": {
            "backgroundcolor": "#E5ECF6",
            "gridcolor": "white",
            "gridwidth": 2,
            "linecolor": "white",
            "showbackground": true,
            "ticks": "",
            "zerolinecolor": "white"
           },
           "yaxis": {
            "backgroundcolor": "#E5ECF6",
            "gridcolor": "white",
            "gridwidth": 2,
            "linecolor": "white",
            "showbackground": true,
            "ticks": "",
            "zerolinecolor": "white"
           },
           "zaxis": {
            "backgroundcolor": "#E5ECF6",
            "gridcolor": "white",
            "gridwidth": 2,
            "linecolor": "white",
            "showbackground": true,
            "ticks": "",
            "zerolinecolor": "white"
           }
          },
          "shapedefaults": {
           "line": {
            "color": "#2a3f5f"
           }
          },
          "ternary": {
           "aaxis": {
            "gridcolor": "white",
            "linecolor": "white",
            "ticks": ""
           },
           "baxis": {
            "gridcolor": "white",
            "linecolor": "white",
            "ticks": ""
           },
           "bgcolor": "#E5ECF6",
           "caxis": {
            "gridcolor": "white",
            "linecolor": "white",
            "ticks": ""
           }
          },
          "title": {
           "x": 0.05
          },
          "xaxis": {
           "automargin": true,
           "gridcolor": "white",
           "linecolor": "white",
           "ticks": "",
           "title": {
            "standoff": 15
           },
           "zerolinecolor": "white",
           "zerolinewidth": 2
          },
          "yaxis": {
           "automargin": true,
           "gridcolor": "white",
           "linecolor": "white",
           "ticks": "",
           "title": {
            "standoff": 15
           },
           "zerolinecolor": "white",
           "zerolinewidth": 2
          }
         }
        },
        "xaxis": {
         "anchor": "y",
         "domain": [
          0,
          1
         ],
         "title": {
          "text": "Strategy"
         }
        },
        "yaxis": {
         "anchor": "x",
         "domain": [
          0,
          1
         ],
         "title": {
          "text": "Return [%]"
         }
        }
       }
      }
     },
     "metadata": {},
     "output_type": "display_data"
    }
   ],
   "source": [
    "#取引ない月込み\n",
    "fig = px.box(df[\"Return [%]\"], points = \"all\")\n",
    "fig.update_layout(\n",
    "    xaxis_title = \"Strategy\",\n",
    "    yaxis_title = \"Return [%]\"\n",
    ")\n",
    "fig.show()"
   ]
  },
  {
   "cell_type": "code",
   "execution_count": 46,
   "metadata": {},
   "outputs": [
    {
     "name": "stdout",
     "output_type": "stream",
     "text": [
      "----------WORST----------\n",
      "Start                     2019-10-01 00:00:00\n",
      "End                       2020-09-30 00:00:00\n",
      "Duration                    365 days 00:00:00\n",
      "Exposure Time [%]                   61.570248\n",
      "Equity Final [$]                  827795.2912\n",
      "Equity Peak [$]                   1056851.032\n",
      "Return [%]                         -17.220471\n",
      "Buy & Hold Return [%]               -32.44529\n",
      "Return (Ann.) [%]                  -17.864418\n",
      "Volatility (Ann.) [%]               81.083296\n",
      "Sharpe Ratio                              0.0\n",
      "Sortino Ratio                             0.0\n",
      "Calmar Ratio                              0.0\n",
      "Max. Drawdown [%]                  -64.744603\n",
      "Avg. Drawdown [%]                  -22.717582\n",
      "Max. Drawdown Duration      231 days 00:00:00\n",
      "Avg. Drawdown Duration       81 days 00:00:00\n",
      "# Trades                                    7\n",
      "Win Rate [%]                        28.571429\n",
      "Best Trade [%]                      14.317888\n",
      "Worst Trade [%]                     -9.180638\n",
      "Avg. Trade [%]                      -2.666325\n",
      "Max. Trade Duration          63 days 00:00:00\n",
      "Avg. Trade Duration          30 days 00:00:00\n",
      "Profit Factor                        0.476028\n",
      "Expectancy [%]                      -2.398095\n",
      "SQN                                  -1.01417\n",
      "_strategy                 EntryRSIandExitS...\n",
      "_equity_curve                             ...\n",
      "_trades                      Size  EntryBa...\n",
      "dtype: object\n"
     ]
    },
    {
     "data": {
      "text/html": [
       "<div>\n",
       "<style scoped>\n",
       "    .dataframe tbody tr th:only-of-type {\n",
       "        vertical-align: middle;\n",
       "    }\n",
       "\n",
       "    .dataframe tbody tr th {\n",
       "        vertical-align: top;\n",
       "    }\n",
       "\n",
       "    .dataframe thead th {\n",
       "        text-align: right;\n",
       "    }\n",
       "</style>\n",
       "<table border=\"1\" class=\"dataframe\">\n",
       "  <thead>\n",
       "    <tr style=\"text-align: right;\">\n",
       "      <th></th>\n",
       "      <th>Size</th>\n",
       "      <th>EntryBar</th>\n",
       "      <th>ExitBar</th>\n",
       "      <th>EntryPrice</th>\n",
       "      <th>ExitPrice</th>\n",
       "      <th>PnL</th>\n",
       "      <th>ReturnPct</th>\n",
       "      <th>EntryTime</th>\n",
       "      <th>ExitTime</th>\n",
       "      <th>Duration</th>\n",
       "    </tr>\n",
       "  </thead>\n",
       "  <tbody>\n",
       "    <tr>\n",
       "      <th>0</th>\n",
       "      <td>-1104</td>\n",
       "      <td>80</td>\n",
       "      <td>97</td>\n",
       "      <td>905.49550</td>\n",
       "      <td>976.00</td>\n",
       "      <td>-77836.96800</td>\n",
       "      <td>-0.077863</td>\n",
       "      <td>2020-01-31</td>\n",
       "      <td>2020-02-27</td>\n",
       "      <td>27 days</td>\n",
       "    </tr>\n",
       "    <tr>\n",
       "      <th>1</th>\n",
       "      <td>-879</td>\n",
       "      <td>98</td>\n",
       "      <td>141</td>\n",
       "      <td>1048.78270</td>\n",
       "      <td>1039.00</td>\n",
       "      <td>8598.99330</td>\n",
       "      <td>0.009328</td>\n",
       "      <td>2020-02-28</td>\n",
       "      <td>2020-05-01</td>\n",
       "      <td>63 days</td>\n",
       "    </tr>\n",
       "    <tr>\n",
       "      <th>2</th>\n",
       "      <td>938</td>\n",
       "      <td>145</td>\n",
       "      <td>155</td>\n",
       "      <td>991.88565</td>\n",
       "      <td>931.00</td>\n",
       "      <td>-57110.73970</td>\n",
       "      <td>-0.061384</td>\n",
       "      <td>2020-05-12</td>\n",
       "      <td>2020-05-26</td>\n",
       "      <td>14 days</td>\n",
       "    </tr>\n",
       "    <tr>\n",
       "      <th>3</th>\n",
       "      <td>961</td>\n",
       "      <td>156</td>\n",
       "      <td>157</td>\n",
       "      <td>908.47480</td>\n",
       "      <td>855.95</td>\n",
       "      <td>-50476.33280</td>\n",
       "      <td>-0.057816</td>\n",
       "      <td>2020-05-27</td>\n",
       "      <td>2020-05-28</td>\n",
       "      <td>1 days</td>\n",
       "    </tr>\n",
       "    <tr>\n",
       "      <th>4</th>\n",
       "      <td>953</td>\n",
       "      <td>158</td>\n",
       "      <td>161</td>\n",
       "      <td>863.25205</td>\n",
       "      <td>784.00</td>\n",
       "      <td>-75527.20365</td>\n",
       "      <td>-0.091806</td>\n",
       "      <td>2020-05-29</td>\n",
       "      <td>2020-06-03</td>\n",
       "      <td>5 days</td>\n",
       "    </tr>\n",
       "    <tr>\n",
       "      <th>5</th>\n",
       "      <td>959</td>\n",
       "      <td>162</td>\n",
       "      <td>191</td>\n",
       "      <td>778.83625</td>\n",
       "      <td>754.30</td>\n",
       "      <td>-23530.26375</td>\n",
       "      <td>-0.031504</td>\n",
       "      <td>2020-06-04</td>\n",
       "      <td>2020-07-15</td>\n",
       "      <td>41 days</td>\n",
       "    </tr>\n",
       "    <tr>\n",
       "      <th>6</th>\n",
       "      <td>-894</td>\n",
       "      <td>202</td>\n",
       "      <td>241</td>\n",
       "      <td>809.97070</td>\n",
       "      <td>694.00</td>\n",
       "      <td>103677.80580</td>\n",
       "      <td>0.143179</td>\n",
       "      <td>2020-08-03</td>\n",
       "      <td>2020-09-30</td>\n",
       "      <td>58 days</td>\n",
       "    </tr>\n",
       "  </tbody>\n",
       "</table>\n",
       "</div>"
      ],
      "text/plain": [
       "   Size  EntryBar  ExitBar  EntryPrice  ExitPrice           PnL  ReturnPct  \\\n",
       "0 -1104        80       97   905.49550     976.00  -77836.96800  -0.077863   \n",
       "1  -879        98      141  1048.78270    1039.00    8598.99330   0.009328   \n",
       "2   938       145      155   991.88565     931.00  -57110.73970  -0.061384   \n",
       "3   961       156      157   908.47480     855.95  -50476.33280  -0.057816   \n",
       "4   953       158      161   863.25205     784.00  -75527.20365  -0.091806   \n",
       "5   959       162      191   778.83625     754.30  -23530.26375  -0.031504   \n",
       "6  -894       202      241   809.97070     694.00  103677.80580   0.143179   \n",
       "\n",
       "   EntryTime   ExitTime Duration  \n",
       "0 2020-01-31 2020-02-27  27 days  \n",
       "1 2020-02-28 2020-05-01  63 days  \n",
       "2 2020-05-12 2020-05-26  14 days  \n",
       "3 2020-05-27 2020-05-28   1 days  \n",
       "4 2020-05-29 2020-06-03   5 days  \n",
       "5 2020-06-04 2020-07-15  41 days  \n",
       "6 2020-08-03 2020-09-30  58 days  "
      ]
     },
     "metadata": {},
     "output_type": "display_data"
    },
    {
     "name": "stdout",
     "output_type": "stream",
     "text": [
      "----------MIN2----------\n",
      "Start                     2017-10-02 00:00:00\n",
      "End                       2018-09-28 00:00:00\n",
      "Duration                    361 days 00:00:00\n",
      "Exposure Time [%]                   61.538462\n",
      "Equity Final [$]                1102670.71555\n",
      "Equity Peak [$]                  1267410.6027\n",
      "Return [%]                          10.267072\n",
      "Buy & Hold Return [%]              -37.130542\n",
      "Return (Ann.) [%]                    9.935971\n",
      "Volatility (Ann.) [%]               29.305641\n",
      "Sharpe Ratio                         0.339046\n",
      "Sortino Ratio                          0.5434\n",
      "Calmar Ratio                         0.581311\n",
      "Max. Drawdown [%]                  -17.092351\n",
      "Avg. Drawdown [%]                   -6.871556\n",
      "Max. Drawdown Duration      149 days 00:00:00\n",
      "Avg. Drawdown Duration       42 days 00:00:00\n",
      "# Trades                                   10\n",
      "Win Rate [%]                             50.0\n",
      "Best Trade [%]                      20.083259\n",
      "Worst Trade [%]                    -11.536085\n",
      "Avg. Trade [%]                       0.982993\n",
      "Max. Trade Duration          66 days 00:00:00\n",
      "Avg. Trade Duration          21 days 00:00:00\n",
      "Profit Factor                        1.498757\n",
      "Expectancy [%]                       1.358208\n",
      "SQN                                  0.321798\n",
      "_strategy                 EntryRSIandExitS...\n",
      "_equity_curve                             ...\n",
      "_trades                      Size  EntryBa...\n",
      "dtype: object\n"
     ]
    },
    {
     "data": {
      "text/html": [
       "<div>\n",
       "<style scoped>\n",
       "    .dataframe tbody tr th:only-of-type {\n",
       "        vertical-align: middle;\n",
       "    }\n",
       "\n",
       "    .dataframe tbody tr th {\n",
       "        vertical-align: top;\n",
       "    }\n",
       "\n",
       "    .dataframe thead th {\n",
       "        text-align: right;\n",
       "    }\n",
       "</style>\n",
       "<table border=\"1\" class=\"dataframe\">\n",
       "  <thead>\n",
       "    <tr style=\"text-align: right;\">\n",
       "      <th></th>\n",
       "      <th>Size</th>\n",
       "      <th>EntryBar</th>\n",
       "      <th>ExitBar</th>\n",
       "      <th>EntryPrice</th>\n",
       "      <th>ExitPrice</th>\n",
       "      <th>PnL</th>\n",
       "      <th>ReturnPct</th>\n",
       "      <th>EntryTime</th>\n",
       "      <th>ExitTime</th>\n",
       "      <th>Duration</th>\n",
       "    </tr>\n",
       "  </thead>\n",
       "  <tbody>\n",
       "    <tr>\n",
       "      <th>0</th>\n",
       "      <td>864</td>\n",
       "      <td>71</td>\n",
       "      <td>91</td>\n",
       "      <td>1156.69745</td>\n",
       "      <td>1389.00</td>\n",
       "      <td>200709.40320</td>\n",
       "      <td>0.200833</td>\n",
       "      <td>2018-01-09</td>\n",
       "      <td>2018-02-06</td>\n",
       "      <td>28 days</td>\n",
       "    </tr>\n",
       "    <tr>\n",
       "      <th>1</th>\n",
       "      <td>-920</td>\n",
       "      <td>92</td>\n",
       "      <td>94</td>\n",
       "      <td>1304.51055</td>\n",
       "      <td>1455.00</td>\n",
       "      <td>-138450.29400</td>\n",
       "      <td>-0.115361</td>\n",
       "      <td>2018-02-07</td>\n",
       "      <td>2018-02-09</td>\n",
       "      <td>2 days</td>\n",
       "    </tr>\n",
       "    <tr>\n",
       "      <th>2</th>\n",
       "      <td>-750</td>\n",
       "      <td>95</td>\n",
       "      <td>143</td>\n",
       "      <td>1414.96110</td>\n",
       "      <td>1258.00</td>\n",
       "      <td>117720.82500</td>\n",
       "      <td>0.110930</td>\n",
       "      <td>2018-02-12</td>\n",
       "      <td>2018-04-19</td>\n",
       "      <td>66 days</td>\n",
       "    </tr>\n",
       "    <tr>\n",
       "      <th>3</th>\n",
       "      <td>924</td>\n",
       "      <td>144</td>\n",
       "      <td>159</td>\n",
       "      <td>1276.28650</td>\n",
       "      <td>1201.75</td>\n",
       "      <td>-68871.72600</td>\n",
       "      <td>-0.058401</td>\n",
       "      <td>2018-04-20</td>\n",
       "      <td>2018-05-11</td>\n",
       "      <td>21 days</td>\n",
       "    </tr>\n",
       "    <tr>\n",
       "      <th>4</th>\n",
       "      <td>921</td>\n",
       "      <td>160</td>\n",
       "      <td>199</td>\n",
       "      <td>1205.94000</td>\n",
       "      <td>1308.00</td>\n",
       "      <td>93997.26000</td>\n",
       "      <td>0.084631</td>\n",
       "      <td>2018-05-14</td>\n",
       "      <td>2018-07-06</td>\n",
       "      <td>53 days</td>\n",
       "    </tr>\n",
       "    <tr>\n",
       "      <th>5</th>\n",
       "      <td>1025</td>\n",
       "      <td>208</td>\n",
       "      <td>209</td>\n",
       "      <td>1174.78655</td>\n",
       "      <td>1185.00</td>\n",
       "      <td>10468.78625</td>\n",
       "      <td>0.008694</td>\n",
       "      <td>2018-07-19</td>\n",
       "      <td>2018-07-20</td>\n",
       "      <td>1 days</td>\n",
       "    </tr>\n",
       "    <tr>\n",
       "      <th>6</th>\n",
       "      <td>-975</td>\n",
       "      <td>226</td>\n",
       "      <td>231</td>\n",
       "      <td>1245.80260</td>\n",
       "      <td>1242.00</td>\n",
       "      <td>3707.53500</td>\n",
       "      <td>0.003052</td>\n",
       "      <td>2018-08-14</td>\n",
       "      <td>2018-08-21</td>\n",
       "      <td>7 days</td>\n",
       "    </tr>\n",
       "    <tr>\n",
       "      <th>7</th>\n",
       "      <td>1041</td>\n",
       "      <td>237</td>\n",
       "      <td>251</td>\n",
       "      <td>1170.76675</td>\n",
       "      <td>1107.70</td>\n",
       "      <td>-65652.48675</td>\n",
       "      <td>-0.053868</td>\n",
       "      <td>2018-08-29</td>\n",
       "      <td>2018-09-18</td>\n",
       "      <td>20 days</td>\n",
       "    </tr>\n",
       "    <tr>\n",
       "      <th>8</th>\n",
       "      <td>1074</td>\n",
       "      <td>252</td>\n",
       "      <td>257</td>\n",
       "      <td>1073.28660</td>\n",
       "      <td>1045.00</td>\n",
       "      <td>-30379.80840</td>\n",
       "      <td>-0.026355</td>\n",
       "      <td>2018-09-19</td>\n",
       "      <td>2018-09-26</td>\n",
       "      <td>7 days</td>\n",
       "    </tr>\n",
       "    <tr>\n",
       "      <th>9</th>\n",
       "      <td>1075</td>\n",
       "      <td>258</td>\n",
       "      <td>259</td>\n",
       "      <td>1044.14305</td>\n",
       "      <td>1025.00</td>\n",
       "      <td>-20578.77875</td>\n",
       "      <td>-0.018334</td>\n",
       "      <td>2018-09-27</td>\n",
       "      <td>2018-09-28</td>\n",
       "      <td>1 days</td>\n",
       "    </tr>\n",
       "  </tbody>\n",
       "</table>\n",
       "</div>"
      ],
      "text/plain": [
       "   Size  EntryBar  ExitBar  EntryPrice  ExitPrice           PnL  ReturnPct  \\\n",
       "0   864        71       91  1156.69745    1389.00  200709.40320   0.200833   \n",
       "1  -920        92       94  1304.51055    1455.00 -138450.29400  -0.115361   \n",
       "2  -750        95      143  1414.96110    1258.00  117720.82500   0.110930   \n",
       "3   924       144      159  1276.28650    1201.75  -68871.72600  -0.058401   \n",
       "4   921       160      199  1205.94000    1308.00   93997.26000   0.084631   \n",
       "5  1025       208      209  1174.78655    1185.00   10468.78625   0.008694   \n",
       "6  -975       226      231  1245.80260    1242.00    3707.53500   0.003052   \n",
       "7  1041       237      251  1170.76675    1107.70  -65652.48675  -0.053868   \n",
       "8  1074       252      257  1073.28660    1045.00  -30379.80840  -0.026355   \n",
       "9  1075       258      259  1044.14305    1025.00  -20578.77875  -0.018334   \n",
       "\n",
       "   EntryTime   ExitTime Duration  \n",
       "0 2018-01-09 2018-02-06  28 days  \n",
       "1 2018-02-07 2018-02-09   2 days  \n",
       "2 2018-02-12 2018-04-19  66 days  \n",
       "3 2018-04-20 2018-05-11  21 days  \n",
       "4 2018-05-14 2018-07-06  53 days  \n",
       "5 2018-07-19 2018-07-20   1 days  \n",
       "6 2018-08-14 2018-08-21   7 days  \n",
       "7 2018-08-29 2018-09-18  20 days  \n",
       "8 2018-09-19 2018-09-26   7 days  \n",
       "9 2018-09-27 2018-09-28   1 days  "
      ]
     },
     "metadata": {},
     "output_type": "display_data"
    },
    {
     "name": "stdout",
     "output_type": "stream",
     "text": [
      "----------MIN3----------\n",
      "Start                     2020-10-02 00:00:00\n",
      "End                       2021-09-30 00:00:00\n",
      "Duration                    363 days 00:00:00\n",
      "Exposure Time [%]                    61.47541\n",
      "Equity Final [$]                 1163992.2079\n",
      "Equity Peak [$]                  1197880.9517\n",
      "Return [%]                          16.399221\n",
      "Buy & Hold Return [%]              -46.952909\n",
      "Return (Ann.) [%]                   16.980203\n",
      "Volatility (Ann.) [%]               35.311921\n",
      "Sharpe Ratio                         0.480863\n",
      "Sortino Ratio                        0.885413\n",
      "Calmar Ratio                          0.99345\n",
      "Max. Drawdown [%]                  -17.092158\n",
      "Avg. Drawdown [%]                   -8.132494\n",
      "Max. Drawdown Duration      143 days 00:00:00\n",
      "Avg. Drawdown Duration       43 days 00:00:00\n",
      "# Trades                                    7\n",
      "Win Rate [%]                        57.142857\n",
      "Best Trade [%]                      13.573151\n",
      "Worst Trade [%]                     -7.694599\n",
      "Avg. Trade [%]                       2.193195\n",
      "Max. Trade Duration          85 days 00:00:00\n",
      "Avg. Trade Duration          31 days 00:00:00\n",
      "Profit Factor                        1.923279\n",
      "Expectancy [%]                       2.521527\n",
      "SQN                                  0.703427\n",
      "_strategy                 EntryRSIandExitS...\n",
      "_equity_curve                             ...\n",
      "_trades                      Size  EntryBa...\n",
      "dtype: object\n"
     ]
    },
    {
     "data": {
      "text/html": [
       "<div>\n",
       "<style scoped>\n",
       "    .dataframe tbody tr th:only-of-type {\n",
       "        vertical-align: middle;\n",
       "    }\n",
       "\n",
       "    .dataframe tbody tr th {\n",
       "        vertical-align: top;\n",
       "    }\n",
       "\n",
       "    .dataframe thead th {\n",
       "        text-align: right;\n",
       "    }\n",
       "</style>\n",
       "<table border=\"1\" class=\"dataframe\">\n",
       "  <thead>\n",
       "    <tr style=\"text-align: right;\">\n",
       "      <th></th>\n",
       "      <th>Size</th>\n",
       "      <th>EntryBar</th>\n",
       "      <th>ExitBar</th>\n",
       "      <th>EntryPrice</th>\n",
       "      <th>ExitPrice</th>\n",
       "      <th>PnL</th>\n",
       "      <th>ReturnPct</th>\n",
       "      <th>EntryTime</th>\n",
       "      <th>ExitTime</th>\n",
       "      <th>Duration</th>\n",
       "    </tr>\n",
       "  </thead>\n",
       "  <tbody>\n",
       "    <tr>\n",
       "      <th>0</th>\n",
       "      <td>2130</td>\n",
       "      <td>71</td>\n",
       "      <td>86</td>\n",
       "      <td>469.31165</td>\n",
       "      <td>433.20</td>\n",
       "      <td>-76917.8145</td>\n",
       "      <td>-0.076946</td>\n",
       "      <td>2021-01-18</td>\n",
       "      <td>2021-02-08</td>\n",
       "      <td>21 days</td>\n",
       "    </tr>\n",
       "    <tr>\n",
       "      <th>1</th>\n",
       "      <td>2176</td>\n",
       "      <td>87</td>\n",
       "      <td>91</td>\n",
       "      <td>424.08890</td>\n",
       "      <td>402.00</td>\n",
       "      <td>-48065.4464</td>\n",
       "      <td>-0.052086</td>\n",
       "      <td>2021-02-09</td>\n",
       "      <td>2021-02-16</td>\n",
       "      <td>7 days</td>\n",
       "    </tr>\n",
       "    <tr>\n",
       "      <th>2</th>\n",
       "      <td>2182</td>\n",
       "      <td>92</td>\n",
       "      <td>148</td>\n",
       "      <td>400.97505</td>\n",
       "      <td>455.40</td>\n",
       "      <td>118755.2409</td>\n",
       "      <td>0.135732</td>\n",
       "      <td>2021-02-17</td>\n",
       "      <td>2021-05-13</td>\n",
       "      <td>85 days</td>\n",
       "    </tr>\n",
       "    <tr>\n",
       "      <th>3</th>\n",
       "      <td>2447</td>\n",
       "      <td>172</td>\n",
       "      <td>189</td>\n",
       "      <td>405.99980</td>\n",
       "      <td>445.00</td>\n",
       "      <td>95433.4894</td>\n",
       "      <td>0.096060</td>\n",
       "      <td>2021-06-16</td>\n",
       "      <td>2021-07-09</td>\n",
       "      <td>23 days</td>\n",
       "    </tr>\n",
       "    <tr>\n",
       "      <th>4</th>\n",
       "      <td>-2593</td>\n",
       "      <td>190</td>\n",
       "      <td>228</td>\n",
       "      <td>419.91110</td>\n",
       "      <td>378.00</td>\n",
       "      <td>108675.4823</td>\n",
       "      <td>0.099809</td>\n",
       "      <td>2021-07-12</td>\n",
       "      <td>2021-09-07</td>\n",
       "      <td>57 days</td>\n",
       "    </tr>\n",
       "    <tr>\n",
       "      <th>5</th>\n",
       "      <td>3136</td>\n",
       "      <td>229</td>\n",
       "      <td>233</td>\n",
       "      <td>381.88100</td>\n",
       "      <td>358.15</td>\n",
       "      <td>-74420.4160</td>\n",
       "      <td>-0.062142</td>\n",
       "      <td>2021-09-08</td>\n",
       "      <td>2021-09-14</td>\n",
       "      <td>6 days</td>\n",
       "    </tr>\n",
       "    <tr>\n",
       "      <th>6</th>\n",
       "      <td>3071</td>\n",
       "      <td>234</td>\n",
       "      <td>243</td>\n",
       "      <td>365.80180</td>\n",
       "      <td>379.00</td>\n",
       "      <td>40531.6722</td>\n",
       "      <td>0.036080</td>\n",
       "      <td>2021-09-15</td>\n",
       "      <td>2021-09-30</td>\n",
       "      <td>15 days</td>\n",
       "    </tr>\n",
       "  </tbody>\n",
       "</table>\n",
       "</div>"
      ],
      "text/plain": [
       "   Size  EntryBar  ExitBar  EntryPrice  ExitPrice          PnL  ReturnPct  \\\n",
       "0  2130        71       86   469.31165     433.20  -76917.8145  -0.076946   \n",
       "1  2176        87       91   424.08890     402.00  -48065.4464  -0.052086   \n",
       "2  2182        92      148   400.97505     455.40  118755.2409   0.135732   \n",
       "3  2447       172      189   405.99980     445.00   95433.4894   0.096060   \n",
       "4 -2593       190      228   419.91110     378.00  108675.4823   0.099809   \n",
       "5  3136       229      233   381.88100     358.15  -74420.4160  -0.062142   \n",
       "6  3071       234      243   365.80180     379.00   40531.6722   0.036080   \n",
       "\n",
       "   EntryTime   ExitTime Duration  \n",
       "0 2021-01-18 2021-02-08  21 days  \n",
       "1 2021-02-09 2021-02-16   7 days  \n",
       "2 2021-02-17 2021-05-13  85 days  \n",
       "3 2021-06-16 2021-07-09  23 days  \n",
       "4 2021-07-12 2021-09-07  57 days  \n",
       "5 2021-09-08 2021-09-14   6 days  \n",
       "6 2021-09-15 2021-09-30  15 days  "
      ]
     },
     "metadata": {},
     "output_type": "display_data"
    },
    {
     "name": "stdout",
     "output_type": "stream",
     "text": [
      "----------BEST----------\n",
      "Start                     2018-10-01 00:00:00\n",
      "End                       2019-09-30 00:00:00\n",
      "Duration                    364 days 00:00:00\n",
      "Exposure Time [%]                   55.510204\n",
      "Equity Final [$]                1417066.85105\n",
      "Equity Peak [$]                  1422744.0068\n",
      "Return [%]                          41.706685\n",
      "Buy & Hold Return [%]                5.544554\n",
      "Return (Ann.) [%]                   43.125091\n",
      "Volatility (Ann.) [%]               32.036515\n",
      "Sharpe Ratio                         1.346123\n",
      "Sortino Ratio                        3.267183\n",
      "Calmar Ratio                         4.204139\n",
      "Max. Drawdown [%]                  -10.257771\n",
      "Avg. Drawdown [%]                   -3.452101\n",
      "Max. Drawdown Duration       50 days 00:00:00\n",
      "Avg. Drawdown Duration       14 days 00:00:00\n",
      "# Trades                                    7\n",
      "Win Rate [%]                        71.428571\n",
      "Best Trade [%]                      14.671331\n",
      "Worst Trade [%]                     -5.704264\n",
      "Avg. Trade [%]                       5.109634\n",
      "Max. Trade Duration          39 days 00:00:00\n",
      "Avg. Trade Duration          28 days 00:00:00\n",
      "Profit Factor                        7.118469\n",
      "Expectancy [%]                       5.334773\n",
      "SQN                                  1.901005\n",
      "_strategy                 EntryRSIandExitS...\n",
      "_equity_curve                             ...\n",
      "_trades                      Size  EntryBa...\n",
      "dtype: object\n"
     ]
    },
    {
     "data": {
      "text/html": [
       "<div>\n",
       "<style scoped>\n",
       "    .dataframe tbody tr th:only-of-type {\n",
       "        vertical-align: middle;\n",
       "    }\n",
       "\n",
       "    .dataframe tbody tr th {\n",
       "        vertical-align: top;\n",
       "    }\n",
       "\n",
       "    .dataframe thead th {\n",
       "        text-align: right;\n",
       "    }\n",
       "</style>\n",
       "<table border=\"1\" class=\"dataframe\">\n",
       "  <thead>\n",
       "    <tr style=\"text-align: right;\">\n",
       "      <th></th>\n",
       "      <th>Size</th>\n",
       "      <th>EntryBar</th>\n",
       "      <th>ExitBar</th>\n",
       "      <th>EntryPrice</th>\n",
       "      <th>ExitPrice</th>\n",
       "      <th>PnL</th>\n",
       "      <th>ReturnPct</th>\n",
       "      <th>EntryTime</th>\n",
       "      <th>ExitTime</th>\n",
       "      <th>Duration</th>\n",
       "    </tr>\n",
       "  </thead>\n",
       "  <tbody>\n",
       "    <tr>\n",
       "      <th>0</th>\n",
       "      <td>829</td>\n",
       "      <td>98</td>\n",
       "      <td>124</td>\n",
       "      <td>1205.94000</td>\n",
       "      <td>1137.15</td>\n",
       "      <td>-57026.91000</td>\n",
       "      <td>-0.057043</td>\n",
       "      <td>2019-02-21</td>\n",
       "      <td>2019-04-01</td>\n",
       "      <td>39 days</td>\n",
       "    </tr>\n",
       "    <tr>\n",
       "      <th>1</th>\n",
       "      <td>865</td>\n",
       "      <td>135</td>\n",
       "      <td>156</td>\n",
       "      <td>1089.36580</td>\n",
       "      <td>1179.00</td>\n",
       "      <td>77533.58300</td>\n",
       "      <td>0.082281</td>\n",
       "      <td>2019-04-16</td>\n",
       "      <td>2019-05-23</td>\n",
       "      <td>37 days</td>\n",
       "    </tr>\n",
       "    <tr>\n",
       "      <th>2</th>\n",
       "      <td>-869</td>\n",
       "      <td>158</td>\n",
       "      <td>184</td>\n",
       "      <td>1173.16395</td>\n",
       "      <td>1109.00</td>\n",
       "      <td>55758.47255</td>\n",
       "      <td>0.054693</td>\n",
       "      <td>2019-05-27</td>\n",
       "      <td>2019-07-02</td>\n",
       "      <td>36 days</td>\n",
       "    </tr>\n",
       "    <tr>\n",
       "      <th>3</th>\n",
       "      <td>965</td>\n",
       "      <td>185</td>\n",
       "      <td>208</td>\n",
       "      <td>1114.48955</td>\n",
       "      <td>1278.00</td>\n",
       "      <td>157787.58425</td>\n",
       "      <td>0.146713</td>\n",
       "      <td>2019-07-03</td>\n",
       "      <td>2019-08-06</td>\n",
       "      <td>34 days</td>\n",
       "    </tr>\n",
       "    <tr>\n",
       "      <th>4</th>\n",
       "      <td>-1012</td>\n",
       "      <td>209</td>\n",
       "      <td>211</td>\n",
       "      <td>1218.93625</td>\n",
       "      <td>1199.00</td>\n",
       "      <td>20175.48500</td>\n",
       "      <td>0.016355</td>\n",
       "      <td>2019-08-07</td>\n",
       "      <td>2019-08-09</td>\n",
       "      <td>2 days</td>\n",
       "    </tr>\n",
       "    <tr>\n",
       "      <th>5</th>\n",
       "      <td>-1016</td>\n",
       "      <td>212</td>\n",
       "      <td>235</td>\n",
       "      <td>1233.86200</td>\n",
       "      <td>1068.00</td>\n",
       "      <td>168515.79200</td>\n",
       "      <td>0.134425</td>\n",
       "      <td>2019-08-13</td>\n",
       "      <td>2019-09-13</td>\n",
       "      <td>31 days</td>\n",
       "    </tr>\n",
       "    <tr>\n",
       "      <th>6</th>\n",
       "      <td>1329</td>\n",
       "      <td>236</td>\n",
       "      <td>244</td>\n",
       "      <td>1070.27175</td>\n",
       "      <td>1066.00</td>\n",
       "      <td>-5677.15575</td>\n",
       "      <td>-0.003991</td>\n",
       "      <td>2019-09-17</td>\n",
       "      <td>2019-09-30</td>\n",
       "      <td>13 days</td>\n",
       "    </tr>\n",
       "  </tbody>\n",
       "</table>\n",
       "</div>"
      ],
      "text/plain": [
       "   Size  EntryBar  ExitBar  EntryPrice  ExitPrice           PnL  ReturnPct  \\\n",
       "0   829        98      124  1205.94000    1137.15  -57026.91000  -0.057043   \n",
       "1   865       135      156  1089.36580    1179.00   77533.58300   0.082281   \n",
       "2  -869       158      184  1173.16395    1109.00   55758.47255   0.054693   \n",
       "3   965       185      208  1114.48955    1278.00  157787.58425   0.146713   \n",
       "4 -1012       209      211  1218.93625    1199.00   20175.48500   0.016355   \n",
       "5 -1016       212      235  1233.86200    1068.00  168515.79200   0.134425   \n",
       "6  1329       236      244  1070.27175    1066.00   -5677.15575  -0.003991   \n",
       "\n",
       "   EntryTime   ExitTime Duration  \n",
       "0 2019-02-21 2019-04-01  39 days  \n",
       "1 2019-04-16 2019-05-23  37 days  \n",
       "2 2019-05-27 2019-07-02  36 days  \n",
       "3 2019-07-03 2019-08-06  34 days  \n",
       "4 2019-08-07 2019-08-09   2 days  \n",
       "5 2019-08-13 2019-09-13  31 days  \n",
       "6 2019-09-17 2019-09-30  13 days  "
      ]
     },
     "metadata": {},
     "output_type": "display_data"
    },
    {
     "data": {
      "text/html": [
       "<div style=\"display: table;\"><div style=\"display: table-row;\"><div style=\"display: table-cell;\"><b title=\"bokeh.models.layouts.Row\">Row</b>(</div><div style=\"display: table-cell;\">id&nbsp;=&nbsp;'37069', <span id=\"37800\" style=\"cursor: pointer;\">&hellip;)</span></div></div><div class=\"37799\" style=\"display: none;\"><div style=\"display: table-cell;\"></div><div style=\"display: table-cell;\">align&nbsp;=&nbsp;'start',</div></div><div class=\"37799\" style=\"display: none;\"><div style=\"display: table-cell;\"></div><div style=\"display: table-cell;\">aspect_ratio&nbsp;=&nbsp;None,</div></div><div class=\"37799\" style=\"display: none;\"><div style=\"display: table-cell;\"></div><div style=\"display: table-cell;\">background&nbsp;=&nbsp;None,</div></div><div class=\"37799\" style=\"display: none;\"><div style=\"display: table-cell;\"></div><div style=\"display: table-cell;\">children&nbsp;=&nbsp;[GridBox(id='37066', ...), ToolbarBox(id='37068', ...)],</div></div><div class=\"37799\" style=\"display: none;\"><div style=\"display: table-cell;\"></div><div style=\"display: table-cell;\">cols&nbsp;=&nbsp;'auto',</div></div><div class=\"37799\" style=\"display: none;\"><div style=\"display: table-cell;\"></div><div style=\"display: table-cell;\">css_classes&nbsp;=&nbsp;[],</div></div><div class=\"37799\" style=\"display: none;\"><div style=\"display: table-cell;\"></div><div style=\"display: table-cell;\">disabled&nbsp;=&nbsp;False,</div></div><div class=\"37799\" style=\"display: none;\"><div style=\"display: table-cell;\"></div><div style=\"display: table-cell;\">height&nbsp;=&nbsp;None,</div></div><div class=\"37799\" style=\"display: none;\"><div style=\"display: table-cell;\"></div><div style=\"display: table-cell;\">height_policy&nbsp;=&nbsp;'auto',</div></div><div class=\"37799\" style=\"display: none;\"><div style=\"display: table-cell;\"></div><div style=\"display: table-cell;\">js_event_callbacks&nbsp;=&nbsp;{},</div></div><div class=\"37799\" style=\"display: none;\"><div style=\"display: table-cell;\"></div><div style=\"display: table-cell;\">js_property_callbacks&nbsp;=&nbsp;{},</div></div><div class=\"37799\" style=\"display: none;\"><div style=\"display: table-cell;\"></div><div style=\"display: table-cell;\">margin&nbsp;=&nbsp;(0, 0, 0, 0),</div></div><div class=\"37799\" style=\"display: none;\"><div style=\"display: table-cell;\"></div><div style=\"display: table-cell;\">max_height&nbsp;=&nbsp;None,</div></div><div class=\"37799\" style=\"display: none;\"><div style=\"display: table-cell;\"></div><div style=\"display: table-cell;\">max_width&nbsp;=&nbsp;None,</div></div><div class=\"37799\" style=\"display: none;\"><div style=\"display: table-cell;\"></div><div style=\"display: table-cell;\">min_height&nbsp;=&nbsp;None,</div></div><div class=\"37799\" style=\"display: none;\"><div style=\"display: table-cell;\"></div><div style=\"display: table-cell;\">min_width&nbsp;=&nbsp;None,</div></div><div class=\"37799\" style=\"display: none;\"><div style=\"display: table-cell;\"></div><div style=\"display: table-cell;\">name&nbsp;=&nbsp;None,</div></div><div class=\"37799\" style=\"display: none;\"><div style=\"display: table-cell;\"></div><div style=\"display: table-cell;\">sizing_mode&nbsp;=&nbsp;'stretch_width',</div></div><div class=\"37799\" style=\"display: none;\"><div style=\"display: table-cell;\"></div><div style=\"display: table-cell;\">spacing&nbsp;=&nbsp;0,</div></div><div class=\"37799\" style=\"display: none;\"><div style=\"display: table-cell;\"></div><div style=\"display: table-cell;\">subscribed_events&nbsp;=&nbsp;[],</div></div><div class=\"37799\" style=\"display: none;\"><div style=\"display: table-cell;\"></div><div style=\"display: table-cell;\">syncable&nbsp;=&nbsp;True,</div></div><div class=\"37799\" style=\"display: none;\"><div style=\"display: table-cell;\"></div><div style=\"display: table-cell;\">tags&nbsp;=&nbsp;[],</div></div><div class=\"37799\" style=\"display: none;\"><div style=\"display: table-cell;\"></div><div style=\"display: table-cell;\">visible&nbsp;=&nbsp;True,</div></div><div class=\"37799\" style=\"display: none;\"><div style=\"display: table-cell;\"></div><div style=\"display: table-cell;\">width&nbsp;=&nbsp;None,</div></div><div class=\"37799\" style=\"display: none;\"><div style=\"display: table-cell;\"></div><div style=\"display: table-cell;\">width_policy&nbsp;=&nbsp;'auto')</div></div></div>\n",
       "<script>\n",
       "(function() {\n",
       "  let expanded = false;\n",
       "  const ellipsis = document.getElementById(\"37800\");\n",
       "  ellipsis.addEventListener(\"click\", function() {\n",
       "    const rows = document.getElementsByClassName(\"37799\");\n",
       "    for (let i = 0; i < rows.length; i++) {\n",
       "      const el = rows[i];\n",
       "      el.style.display = expanded ? \"none\" : \"table-row\";\n",
       "    }\n",
       "    ellipsis.innerHTML = expanded ? \"&hellip;)\" : \"&lsaquo;&lsaquo;&lsaquo;\";\n",
       "    expanded = !expanded;\n",
       "  });\n",
       "})();\n",
       "</script>\n"
      ],
      "text/plain": [
       "Row(id='37069', ...)"
      ]
     },
     "execution_count": 46,
     "metadata": {},
     "output_type": "execute_result"
    }
   ],
   "source": [
    "#最低と最高の期間のバックテストを表示\n",
    "\n",
    "print(\"----------WORST----------\")\n",
    "bt = Backtest(\n",
    "    df_min, # チャートデータ\n",
    "    eval(classname), # 売買戦略\n",
    "    cash=initial, # 最初の所持金\n",
    "    commission=0.00495, # 取引手数料\n",
    "    margin=1.0, # レバレッジ倍率の逆数（0.5で2倍レバレッジ）\n",
    "    trade_on_close=False, # True：現在の終値で取引，False：次の時間の始値で取引\n",
    "    exclusive_orders=True, #自動でポジションをクローズ(オープン)\n",
    ")\n",
    "output = bt.run() # バックテスト実行\n",
    "print(output) # 実行結果(データ)\n",
    "display(output._trades)\n",
    "bt.plot(filename = fname + str(output._strategy) + \"_min.html\") # 実行結果（グラフ）\n",
    "\n",
    "print(\"----------MIN2----------\")\n",
    "bt = Backtest(\n",
    "    df_min2, # チャートデータ\n",
    "    eval(classname), # 売買戦略\n",
    "    cash=initial, # 最初の所持金\n",
    "    commission=0.00495, # 取引手数料\n",
    "    margin=1.0, # レバレッジ倍率の逆数（0.5で2倍レバレッジ）\n",
    "    trade_on_close=False, # True：現在の終値で取引，False：次の時間の始値で取引\n",
    "    exclusive_orders=True, #自動でポジションをクローズ(オープン)\n",
    ")\n",
    "output = bt.run() # バックテスト実行\n",
    "print(output) # 実行結果(データ)\n",
    "display(output._trades)\n",
    "bt.plot(filename = fname + str(output._strategy) + \"_min2.html\") # 実行結果（グラフ）\n",
    "\n",
    "print(\"----------MIN3----------\")\n",
    "bt = Backtest(\n",
    "    df_min3, # チャートデータ\n",
    "    eval(classname), # 売買戦略\n",
    "    cash=initial, # 最初の所持金\n",
    "    commission=0.00495, # 取引手数料\n",
    "    margin=1.0, # レバレッジ倍率の逆数（0.5で2倍レバレッジ）\n",
    "    trade_on_close=False, # True：現在の終値で取引，False：次の時間の始値で取引\n",
    "    exclusive_orders=True, #自動でポジションをクローズ(オープン)\n",
    ")\n",
    "output = bt.run() # バックテスト実行\n",
    "print(output) # 実行結果(データ)\n",
    "display(output._trades)\n",
    "bt.plot(filename = fname + str(output._strategy) + \"_min3.html\") # 実行結果（グラフ）\n",
    "\n",
    "print(\"----------BEST----------\")\n",
    "bt = Backtest(\n",
    "    df_max, # チャートデータ\n",
    "    eval(classname), # 売買戦略\n",
    "    cash=initial, # 最初の所持金\n",
    "    commission=0.00495, # 取引手数料\n",
    "    margin=1.0, # レバレッジ倍率の逆数（0.5で2倍レバレッジ）\n",
    "    trade_on_close=False, # True：現在の終値で取引，False：次の時間の始値で取引\n",
    "    exclusive_orders=True, #自動でポジションをクローズ(オープン)\n",
    ")\n",
    "output = bt.run() # バックテスト実行\n",
    "print(output) # 実行結果(データ)\n",
    "display(output._trades)\n",
    "bt.plot(filename = fname + str(output._strategy) + \"_max.html\") # 実行結果（グラフ）"
   ]
  }
 ],
 "metadata": {
  "kernelspec": {
   "display_name": "Python 3.10.6 64-bit",
   "language": "python",
   "name": "python3"
  },
  "language_info": {
   "codemirror_mode": {
    "name": "ipython",
    "version": 3
   },
   "file_extension": ".py",
   "mimetype": "text/x-python",
   "name": "python",
   "nbconvert_exporter": "python",
   "pygments_lexer": "ipython3",
   "version": "3.10.6"
  },
  "orig_nbformat": 4,
  "vscode": {
   "interpreter": {
    "hash": "369f2c481f4da34e4445cda3fffd2e751bd1c4d706f27375911949ba6bb62e1c"
   }
  }
 },
 "nbformat": 4,
 "nbformat_minor": 2
}
