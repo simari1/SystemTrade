{
 "cells": [
  {
   "cell_type": "code",
   "execution_count": 27,
   "metadata": {},
   "outputs": [],
   "source": [
    "import pandas_datareader.data as web\n",
    "import pandas as pd\n",
    "import datetime\n",
    "from decimal import Decimal\n",
    "from dateutil import relativedelta\n",
    "from backtesting import Backtest, Strategy\n",
    "from backtesting.lib import crossover, resample_apply\n",
    "import importlib\n",
    "import plotly.express as px\n",
    "\n",
    "#Change me!\n",
    "start = datetime.datetime.today() + relativedelta.relativedelta(years=-5)\n",
    "split_unit = \"6M\"\n",
    "modulename = \"BacktestingStrategies.Strategy_BBDandRSI\"\n",
    "classname = \"btst.EntryRSI50andExitBBWithATRStopLoss\"\n",
    "end = datetime.date.today()\n",
    "\n",
    "data = web.DataReader('1357.T', 'yahoo', start, end)  #NEXT FUNDS 日経平均ダブルインバース・インデックス連動型上場投信\n",
    "data = data.astype(\"double\")\n",
    "\n",
    "initial = 1000_000\n",
    "fname = f\"html/plot-\""
   ]
  },
  {
   "cell_type": "code",
   "execution_count": 28,
   "metadata": {},
   "outputs": [],
   "source": [
    "#日付データを検証期間単位ごとにSplit\n",
    "#https://kakakakakku.hatenablog.com/entry/2021/05/24/002542\n",
    "grouped_data = data.groupby(pd.Grouper(freq = split_unit))\n",
    "dfs = [group for _, group in grouped_data]"
   ]
  },
  {
   "cell_type": "code",
   "execution_count": 29,
   "metadata": {},
   "outputs": [],
   "source": [
    "#検証期間単位ごとにバックテスト＆結果を蓄積\n",
    "#親ディレクトリ経由で呼び出し   # https://qiita.com/yokohama4580/items/466a483ae022d264c8ee\n",
    "import os\n",
    "import sys\n",
    "sys.path.append(os.pardir)\n",
    "\n",
    "btst = importlib.import_module(modulename)\n",
    "# from BacktestingStrategies import Strategy_RsiOscillator as btst\n",
    "importlib.reload(btst)\n",
    "import warnings\n",
    "warnings.simplefilter('ignore')\n",
    "\n",
    "returns = []\n",
    "\n",
    "for monthly_data in dfs:\n",
    "    # バックテストを設定\n",
    "    bt = Backtest(\n",
    "        monthly_data, # チャートデータ\n",
    "        eval(classname), # 売買戦略\n",
    "        cash=initial, # 最初の所持金\n",
    "        commission=0.00495, # 取引手数料\n",
    "        margin=1.0, # レバレッジ倍率の逆数（0.5で2倍レバレッジ）\n",
    "        trade_on_close=False, # True：現在の終値で取引，False：次の時間の始値で取引\n",
    "        exclusive_orders=True #自動でポジションをクローズ(オープン)\n",
    "    )\n",
    "\n",
    "    output = bt.run() # バックテスト実行\n",
    "    returns.append(output)"
   ]
  },
  {
   "cell_type": "code",
   "execution_count": 30,
   "metadata": {},
   "outputs": [
    {
     "name": "stdout",
     "output_type": "stream",
     "text": [
      "１期間単位: 6M\n",
      "テスト期間: 11\n",
      "平均Return [%]: -1.6484\n",
      "最大Return [%]: 19.410385034999997\n",
      "最大Return期間: 2017-10-02T00:00:00.000000000 - 2018-03-30T00:00:00.000000000\n",
      "最低Return [%]: -16.639641095000005\n",
      "最低Return期間: 2018-10-01T00:00:00.000000000 - 2019-03-29T00:00:00.000000000\n"
     ]
    }
   ],
   "source": [
    "import statistics\n",
    "\n",
    "df = pd.DataFrame(returns)\n",
    "\n",
    "#最低と最大の期間のBacktestingを表示＆実行\n",
    "lines = \"１期間単位: \" + split_unit + \"\\n\"\n",
    "lines += \"テスト期間: \" + str(len(returns)) + \"\\n\"\n",
    "res = round(statistics.mean(df[\"Return [%]\"]), 4)\n",
    "\n",
    "#リターンが最小のものの期間を取得\n",
    "min_return = df[df[\"# Trades\"] != 0][\"Return [%]\"].min()\n",
    "min_period_start = pd.to_datetime(df[df[\"Return [%]\"] == min_return][\"Start\"]).values[0]\n",
    "min_period_end = pd.to_datetime(df[df[\"Return [%]\"] == min_return][\"End\"]).values[0]\n",
    "df_min = data[min_period_start : min_period_end]\n",
    "\n",
    "#リターンが2番目、3番目に小さいものの期間を取得\n",
    "min_return_3 = df[df[\"# Trades\"] != 0][\"Return [%]\"].nsmallest(3)\n",
    "min2_period_start = pd.to_datetime(df[df[\"Return [%]\"] == min_return_3.values[1]][\"Start\"]).values[0]\n",
    "min2_period_end = pd.to_datetime(df[df[\"Return [%]\"] == min_return_3.values[1]][\"End\"]).values[0]\n",
    "min3_period_start = pd.to_datetime(df[df[\"Return [%]\"] == min_return_3.values[2]][\"Start\"]).values[0]\n",
    "min3_period_end = pd.to_datetime(df[df[\"Return [%]\"] == min_return_3.values[2]][\"End\"]).values[0]\n",
    "df_min2 = data[min2_period_start : min2_period_end]\n",
    "df_min3 = data[min3_period_start : min3_period_end]\n",
    "\n",
    "#リターンが最大のものの期間を取得\n",
    "max_return = df[df[\"# Trades\"] != 0][\"Return [%]\"].max()\n",
    "max_period_start = pd.to_datetime(df[df[\"Return [%]\"] == max_return][\"Start\"]).values[0]\n",
    "max_period_end = pd.to_datetime(df[df[\"Return [%]\"] == max_return][\"End\"]).values[0]\n",
    "df_max = data[max_period_start : max_period_end]\n",
    "\n",
    "lines += \"平均Return [%]: \" + str(res) + \"\\n\"\n",
    "lines += \"最大Return [%]: \" + str(max_return) + \"\\n\"\n",
    "lines += \"最大Return期間: \" + str(max_period_start) + \" - \" + str(max_period_end) + \"\\n\"\n",
    "lines += \"最低Return [%]: \" + str(min_return) + \"\\n\"\n",
    "lines += \"最低Return期間: \" + str(min_period_start) + \" - \" + str(min_period_end) \n",
    "\n",
    "print(lines)\n",
    "\n"
   ]
  },
  {
   "cell_type": "code",
   "execution_count": 31,
   "metadata": {},
   "outputs": [
    {
     "data": {
      "application/vnd.plotly.v1+json": {
       "config": {
        "plotlyServerURL": "https://plot.ly"
       },
       "data": [
        {
         "alignmentgroup": "True",
         "boxpoints": "all",
         "hovertemplate": "variable=%{x}<br>value=%{y}<extra></extra>",
         "legendgroup": "",
         "marker": {
          "color": "#636efa"
         },
         "name": "",
         "notched": false,
         "offsetgroup": "",
         "orientation": "v",
         "showlegend": false,
         "type": "box",
         "x": [
          "Return [%]",
          "Return [%]",
          "Return [%]",
          "Return [%]",
          "Return [%]",
          "Return [%]",
          "Return [%]",
          "Return [%]",
          "Return [%]",
          "Return [%]",
          "Return [%]"
         ],
         "x0": " ",
         "xaxis": "x",
         "y": [
          0,
          19.410385034999997,
          -5.134067564999987,
          -16.639641095000005,
          -4.506676864999974,
          7.494584975000006,
          -2.638761910000001,
          -9.01742703000001,
          4.039226949999959,
          3.1971778750000053,
          -14.336751705000014
         ],
         "y0": " ",
         "yaxis": "y"
        }
       ],
       "layout": {
        "boxmode": "group",
        "legend": {
         "tracegroupgap": 0
        },
        "margin": {
         "t": 60
        },
        "template": {
         "data": {
          "bar": [
           {
            "error_x": {
             "color": "#2a3f5f"
            },
            "error_y": {
             "color": "#2a3f5f"
            },
            "marker": {
             "line": {
              "color": "#E5ECF6",
              "width": 0.5
             },
             "pattern": {
              "fillmode": "overlay",
              "size": 10,
              "solidity": 0.2
             }
            },
            "type": "bar"
           }
          ],
          "barpolar": [
           {
            "marker": {
             "line": {
              "color": "#E5ECF6",
              "width": 0.5
             },
             "pattern": {
              "fillmode": "overlay",
              "size": 10,
              "solidity": 0.2
             }
            },
            "type": "barpolar"
           }
          ],
          "carpet": [
           {
            "aaxis": {
             "endlinecolor": "#2a3f5f",
             "gridcolor": "white",
             "linecolor": "white",
             "minorgridcolor": "white",
             "startlinecolor": "#2a3f5f"
            },
            "baxis": {
             "endlinecolor": "#2a3f5f",
             "gridcolor": "white",
             "linecolor": "white",
             "minorgridcolor": "white",
             "startlinecolor": "#2a3f5f"
            },
            "type": "carpet"
           }
          ],
          "choropleth": [
           {
            "colorbar": {
             "outlinewidth": 0,
             "ticks": ""
            },
            "type": "choropleth"
           }
          ],
          "contour": [
           {
            "colorbar": {
             "outlinewidth": 0,
             "ticks": ""
            },
            "colorscale": [
             [
              0,
              "#0d0887"
             ],
             [
              0.1111111111111111,
              "#46039f"
             ],
             [
              0.2222222222222222,
              "#7201a8"
             ],
             [
              0.3333333333333333,
              "#9c179e"
             ],
             [
              0.4444444444444444,
              "#bd3786"
             ],
             [
              0.5555555555555556,
              "#d8576b"
             ],
             [
              0.6666666666666666,
              "#ed7953"
             ],
             [
              0.7777777777777778,
              "#fb9f3a"
             ],
             [
              0.8888888888888888,
              "#fdca26"
             ],
             [
              1,
              "#f0f921"
             ]
            ],
            "type": "contour"
           }
          ],
          "contourcarpet": [
           {
            "colorbar": {
             "outlinewidth": 0,
             "ticks": ""
            },
            "type": "contourcarpet"
           }
          ],
          "heatmap": [
           {
            "colorbar": {
             "outlinewidth": 0,
             "ticks": ""
            },
            "colorscale": [
             [
              0,
              "#0d0887"
             ],
             [
              0.1111111111111111,
              "#46039f"
             ],
             [
              0.2222222222222222,
              "#7201a8"
             ],
             [
              0.3333333333333333,
              "#9c179e"
             ],
             [
              0.4444444444444444,
              "#bd3786"
             ],
             [
              0.5555555555555556,
              "#d8576b"
             ],
             [
              0.6666666666666666,
              "#ed7953"
             ],
             [
              0.7777777777777778,
              "#fb9f3a"
             ],
             [
              0.8888888888888888,
              "#fdca26"
             ],
             [
              1,
              "#f0f921"
             ]
            ],
            "type": "heatmap"
           }
          ],
          "heatmapgl": [
           {
            "colorbar": {
             "outlinewidth": 0,
             "ticks": ""
            },
            "colorscale": [
             [
              0,
              "#0d0887"
             ],
             [
              0.1111111111111111,
              "#46039f"
             ],
             [
              0.2222222222222222,
              "#7201a8"
             ],
             [
              0.3333333333333333,
              "#9c179e"
             ],
             [
              0.4444444444444444,
              "#bd3786"
             ],
             [
              0.5555555555555556,
              "#d8576b"
             ],
             [
              0.6666666666666666,
              "#ed7953"
             ],
             [
              0.7777777777777778,
              "#fb9f3a"
             ],
             [
              0.8888888888888888,
              "#fdca26"
             ],
             [
              1,
              "#f0f921"
             ]
            ],
            "type": "heatmapgl"
           }
          ],
          "histogram": [
           {
            "marker": {
             "pattern": {
              "fillmode": "overlay",
              "size": 10,
              "solidity": 0.2
             }
            },
            "type": "histogram"
           }
          ],
          "histogram2d": [
           {
            "colorbar": {
             "outlinewidth": 0,
             "ticks": ""
            },
            "colorscale": [
             [
              0,
              "#0d0887"
             ],
             [
              0.1111111111111111,
              "#46039f"
             ],
             [
              0.2222222222222222,
              "#7201a8"
             ],
             [
              0.3333333333333333,
              "#9c179e"
             ],
             [
              0.4444444444444444,
              "#bd3786"
             ],
             [
              0.5555555555555556,
              "#d8576b"
             ],
             [
              0.6666666666666666,
              "#ed7953"
             ],
             [
              0.7777777777777778,
              "#fb9f3a"
             ],
             [
              0.8888888888888888,
              "#fdca26"
             ],
             [
              1,
              "#f0f921"
             ]
            ],
            "type": "histogram2d"
           }
          ],
          "histogram2dcontour": [
           {
            "colorbar": {
             "outlinewidth": 0,
             "ticks": ""
            },
            "colorscale": [
             [
              0,
              "#0d0887"
             ],
             [
              0.1111111111111111,
              "#46039f"
             ],
             [
              0.2222222222222222,
              "#7201a8"
             ],
             [
              0.3333333333333333,
              "#9c179e"
             ],
             [
              0.4444444444444444,
              "#bd3786"
             ],
             [
              0.5555555555555556,
              "#d8576b"
             ],
             [
              0.6666666666666666,
              "#ed7953"
             ],
             [
              0.7777777777777778,
              "#fb9f3a"
             ],
             [
              0.8888888888888888,
              "#fdca26"
             ],
             [
              1,
              "#f0f921"
             ]
            ],
            "type": "histogram2dcontour"
           }
          ],
          "mesh3d": [
           {
            "colorbar": {
             "outlinewidth": 0,
             "ticks": ""
            },
            "type": "mesh3d"
           }
          ],
          "parcoords": [
           {
            "line": {
             "colorbar": {
              "outlinewidth": 0,
              "ticks": ""
             }
            },
            "type": "parcoords"
           }
          ],
          "pie": [
           {
            "automargin": true,
            "type": "pie"
           }
          ],
          "scatter": [
           {
            "fillpattern": {
             "fillmode": "overlay",
             "size": 10,
             "solidity": 0.2
            },
            "type": "scatter"
           }
          ],
          "scatter3d": [
           {
            "line": {
             "colorbar": {
              "outlinewidth": 0,
              "ticks": ""
             }
            },
            "marker": {
             "colorbar": {
              "outlinewidth": 0,
              "ticks": ""
             }
            },
            "type": "scatter3d"
           }
          ],
          "scattercarpet": [
           {
            "marker": {
             "colorbar": {
              "outlinewidth": 0,
              "ticks": ""
             }
            },
            "type": "scattercarpet"
           }
          ],
          "scattergeo": [
           {
            "marker": {
             "colorbar": {
              "outlinewidth": 0,
              "ticks": ""
             }
            },
            "type": "scattergeo"
           }
          ],
          "scattergl": [
           {
            "marker": {
             "colorbar": {
              "outlinewidth": 0,
              "ticks": ""
             }
            },
            "type": "scattergl"
           }
          ],
          "scattermapbox": [
           {
            "marker": {
             "colorbar": {
              "outlinewidth": 0,
              "ticks": ""
             }
            },
            "type": "scattermapbox"
           }
          ],
          "scatterpolar": [
           {
            "marker": {
             "colorbar": {
              "outlinewidth": 0,
              "ticks": ""
             }
            },
            "type": "scatterpolar"
           }
          ],
          "scatterpolargl": [
           {
            "marker": {
             "colorbar": {
              "outlinewidth": 0,
              "ticks": ""
             }
            },
            "type": "scatterpolargl"
           }
          ],
          "scatterternary": [
           {
            "marker": {
             "colorbar": {
              "outlinewidth": 0,
              "ticks": ""
             }
            },
            "type": "scatterternary"
           }
          ],
          "surface": [
           {
            "colorbar": {
             "outlinewidth": 0,
             "ticks": ""
            },
            "colorscale": [
             [
              0,
              "#0d0887"
             ],
             [
              0.1111111111111111,
              "#46039f"
             ],
             [
              0.2222222222222222,
              "#7201a8"
             ],
             [
              0.3333333333333333,
              "#9c179e"
             ],
             [
              0.4444444444444444,
              "#bd3786"
             ],
             [
              0.5555555555555556,
              "#d8576b"
             ],
             [
              0.6666666666666666,
              "#ed7953"
             ],
             [
              0.7777777777777778,
              "#fb9f3a"
             ],
             [
              0.8888888888888888,
              "#fdca26"
             ],
             [
              1,
              "#f0f921"
             ]
            ],
            "type": "surface"
           }
          ],
          "table": [
           {
            "cells": {
             "fill": {
              "color": "#EBF0F8"
             },
             "line": {
              "color": "white"
             }
            },
            "header": {
             "fill": {
              "color": "#C8D4E3"
             },
             "line": {
              "color": "white"
             }
            },
            "type": "table"
           }
          ]
         },
         "layout": {
          "annotationdefaults": {
           "arrowcolor": "#2a3f5f",
           "arrowhead": 0,
           "arrowwidth": 1
          },
          "autotypenumbers": "strict",
          "coloraxis": {
           "colorbar": {
            "outlinewidth": 0,
            "ticks": ""
           }
          },
          "colorscale": {
           "diverging": [
            [
             0,
             "#8e0152"
            ],
            [
             0.1,
             "#c51b7d"
            ],
            [
             0.2,
             "#de77ae"
            ],
            [
             0.3,
             "#f1b6da"
            ],
            [
             0.4,
             "#fde0ef"
            ],
            [
             0.5,
             "#f7f7f7"
            ],
            [
             0.6,
             "#e6f5d0"
            ],
            [
             0.7,
             "#b8e186"
            ],
            [
             0.8,
             "#7fbc41"
            ],
            [
             0.9,
             "#4d9221"
            ],
            [
             1,
             "#276419"
            ]
           ],
           "sequential": [
            [
             0,
             "#0d0887"
            ],
            [
             0.1111111111111111,
             "#46039f"
            ],
            [
             0.2222222222222222,
             "#7201a8"
            ],
            [
             0.3333333333333333,
             "#9c179e"
            ],
            [
             0.4444444444444444,
             "#bd3786"
            ],
            [
             0.5555555555555556,
             "#d8576b"
            ],
            [
             0.6666666666666666,
             "#ed7953"
            ],
            [
             0.7777777777777778,
             "#fb9f3a"
            ],
            [
             0.8888888888888888,
             "#fdca26"
            ],
            [
             1,
             "#f0f921"
            ]
           ],
           "sequentialminus": [
            [
             0,
             "#0d0887"
            ],
            [
             0.1111111111111111,
             "#46039f"
            ],
            [
             0.2222222222222222,
             "#7201a8"
            ],
            [
             0.3333333333333333,
             "#9c179e"
            ],
            [
             0.4444444444444444,
             "#bd3786"
            ],
            [
             0.5555555555555556,
             "#d8576b"
            ],
            [
             0.6666666666666666,
             "#ed7953"
            ],
            [
             0.7777777777777778,
             "#fb9f3a"
            ],
            [
             0.8888888888888888,
             "#fdca26"
            ],
            [
             1,
             "#f0f921"
            ]
           ]
          },
          "colorway": [
           "#636efa",
           "#EF553B",
           "#00cc96",
           "#ab63fa",
           "#FFA15A",
           "#19d3f3",
           "#FF6692",
           "#B6E880",
           "#FF97FF",
           "#FECB52"
          ],
          "font": {
           "color": "#2a3f5f"
          },
          "geo": {
           "bgcolor": "white",
           "lakecolor": "white",
           "landcolor": "#E5ECF6",
           "showlakes": true,
           "showland": true,
           "subunitcolor": "white"
          },
          "hoverlabel": {
           "align": "left"
          },
          "hovermode": "closest",
          "mapbox": {
           "style": "light"
          },
          "paper_bgcolor": "white",
          "plot_bgcolor": "#E5ECF6",
          "polar": {
           "angularaxis": {
            "gridcolor": "white",
            "linecolor": "white",
            "ticks": ""
           },
           "bgcolor": "#E5ECF6",
           "radialaxis": {
            "gridcolor": "white",
            "linecolor": "white",
            "ticks": ""
           }
          },
          "scene": {
           "xaxis": {
            "backgroundcolor": "#E5ECF6",
            "gridcolor": "white",
            "gridwidth": 2,
            "linecolor": "white",
            "showbackground": true,
            "ticks": "",
            "zerolinecolor": "white"
           },
           "yaxis": {
            "backgroundcolor": "#E5ECF6",
            "gridcolor": "white",
            "gridwidth": 2,
            "linecolor": "white",
            "showbackground": true,
            "ticks": "",
            "zerolinecolor": "white"
           },
           "zaxis": {
            "backgroundcolor": "#E5ECF6",
            "gridcolor": "white",
            "gridwidth": 2,
            "linecolor": "white",
            "showbackground": true,
            "ticks": "",
            "zerolinecolor": "white"
           }
          },
          "shapedefaults": {
           "line": {
            "color": "#2a3f5f"
           }
          },
          "ternary": {
           "aaxis": {
            "gridcolor": "white",
            "linecolor": "white",
            "ticks": ""
           },
           "baxis": {
            "gridcolor": "white",
            "linecolor": "white",
            "ticks": ""
           },
           "bgcolor": "#E5ECF6",
           "caxis": {
            "gridcolor": "white",
            "linecolor": "white",
            "ticks": ""
           }
          },
          "title": {
           "x": 0.05
          },
          "xaxis": {
           "automargin": true,
           "gridcolor": "white",
           "linecolor": "white",
           "ticks": "",
           "title": {
            "standoff": 15
           },
           "zerolinecolor": "white",
           "zerolinewidth": 2
          },
          "yaxis": {
           "automargin": true,
           "gridcolor": "white",
           "linecolor": "white",
           "ticks": "",
           "title": {
            "standoff": 15
           },
           "zerolinecolor": "white",
           "zerolinewidth": 2
          }
         }
        },
        "xaxis": {
         "anchor": "y",
         "domain": [
          0,
          1
         ],
         "title": {
          "text": "Strategy"
         }
        },
        "yaxis": {
         "anchor": "x",
         "domain": [
          0,
          1
         ],
         "title": {
          "text": "Return [%]"
         }
        }
       }
      }
     },
     "metadata": {},
     "output_type": "display_data"
    }
   ],
   "source": [
    "#取引ない月込み\n",
    "fig = px.box(df[\"Return [%]\"], points = \"all\")\n",
    "fig.update_layout(\n",
    "    xaxis_title = \"Strategy\",\n",
    "    yaxis_title = \"Return [%]\"\n",
    ")\n",
    "fig.show()"
   ]
  },
  {
   "cell_type": "code",
   "execution_count": 32,
   "metadata": {},
   "outputs": [
    {
     "name": "stdout",
     "output_type": "stream",
     "text": [
      "----------WORST----------\n",
      "Start                     2018-10-01 00:00:00\n",
      "End                       2019-03-29 00:00:00\n",
      "Duration                    179 days 00:00:00\n",
      "Exposure Time [%]                   33.064516\n",
      "Equity Final [$]                 833603.58905\n",
      "Equity Peak [$]                 1024075.54215\n",
      "Return [%]                         -16.639641\n",
      "Buy & Hold Return [%]               17.227723\n",
      "Return (Ann.) [%]                  -30.917275\n",
      "Volatility (Ann.) [%]               13.305847\n",
      "Sharpe Ratio                              0.0\n",
      "Sortino Ratio                             0.0\n",
      "Calmar Ratio                              0.0\n",
      "Max. Drawdown [%]                  -19.013632\n",
      "Avg. Drawdown [%]                   -8.080481\n",
      "Max. Drawdown Duration      109 days 00:00:00\n",
      "Avg. Drawdown Duration       41 days 00:00:00\n",
      "# Trades                                    7\n",
      "Win Rate [%]                        14.285714\n",
      "Best Trade [%]                       3.340921\n",
      "Worst Trade [%]                     -7.196697\n",
      "Avg. Trade [%]                      -2.568462\n",
      "Max. Trade Duration          27 days 00:00:00\n",
      "Avg. Trade Duration           7 days 00:00:00\n",
      "Profit Factor                        0.159338\n",
      "Expectancy [%]                      -2.518083\n",
      "SQN                                 -1.920708\n",
      "_strategy                 EntryRSI50andExi...\n",
      "_equity_curve                             ...\n",
      "_trades                      Size  EntryBa...\n",
      "dtype: object\n"
     ]
    },
    {
     "data": {
      "text/html": [
       "<div>\n",
       "<style scoped>\n",
       "    .dataframe tbody tr th:only-of-type {\n",
       "        vertical-align: middle;\n",
       "    }\n",
       "\n",
       "    .dataframe tbody tr th {\n",
       "        vertical-align: top;\n",
       "    }\n",
       "\n",
       "    .dataframe thead th {\n",
       "        text-align: right;\n",
       "    }\n",
       "</style>\n",
       "<table border=\"1\" class=\"dataframe\">\n",
       "  <thead>\n",
       "    <tr style=\"text-align: right;\">\n",
       "      <th></th>\n",
       "      <th>Size</th>\n",
       "      <th>EntryBar</th>\n",
       "      <th>ExitBar</th>\n",
       "      <th>EntryPrice</th>\n",
       "      <th>ExitPrice</th>\n",
       "      <th>PnL</th>\n",
       "      <th>ReturnPct</th>\n",
       "      <th>EntryTime</th>\n",
       "      <th>ExitTime</th>\n",
       "      <th>Duration</th>\n",
       "    </tr>\n",
       "  </thead>\n",
       "  <tbody>\n",
       "    <tr>\n",
       "      <th>0</th>\n",
       "      <td>-871</td>\n",
       "      <td>43</td>\n",
       "      <td>44</td>\n",
       "      <td>1147.29265</td>\n",
       "      <td>1163.0</td>\n",
       "      <td>-13681.10185</td>\n",
       "      <td>-0.013691</td>\n",
       "      <td>2018-11-29</td>\n",
       "      <td>2018-11-30</td>\n",
       "      <td>1 days</td>\n",
       "    </tr>\n",
       "    <tr>\n",
       "      <th>1</th>\n",
       "      <td>804</td>\n",
       "      <td>47</td>\n",
       "      <td>51</td>\n",
       "      <td>1226.03900</td>\n",
       "      <td>1267.0</td>\n",
       "      <td>32932.64400</td>\n",
       "      <td>0.033409</td>\n",
       "      <td>2018-12-05</td>\n",
       "      <td>2018-12-11</td>\n",
       "      <td>6 days</td>\n",
       "    </tr>\n",
       "    <tr>\n",
       "      <th>2</th>\n",
       "      <td>-840</td>\n",
       "      <td>54</td>\n",
       "      <td>55</td>\n",
       "      <td>1212.96595</td>\n",
       "      <td>1249.0</td>\n",
       "      <td>-30268.60200</td>\n",
       "      <td>-0.029707</td>\n",
       "      <td>2018-12-14</td>\n",
       "      <td>2018-12-17</td>\n",
       "      <td>3 days</td>\n",
       "    </tr>\n",
       "    <tr>\n",
       "      <th>3</th>\n",
       "      <td>-758</td>\n",
       "      <td>73</td>\n",
       "      <td>74</td>\n",
       "      <td>1303.51550</td>\n",
       "      <td>1314.0</td>\n",
       "      <td>-7947.25100</td>\n",
       "      <td>-0.008043</td>\n",
       "      <td>2019-01-16</td>\n",
       "      <td>2019-01-17</td>\n",
       "      <td>1 days</td>\n",
       "    </tr>\n",
       "    <tr>\n",
       "      <th>4</th>\n",
       "      <td>738</td>\n",
       "      <td>75</td>\n",
       "      <td>93</td>\n",
       "      <td>1327.53895</td>\n",
       "      <td>1232.0</td>\n",
       "      <td>-70507.74510</td>\n",
       "      <td>-0.071967</td>\n",
       "      <td>2019-01-18</td>\n",
       "      <td>2019-02-14</td>\n",
       "      <td>27 days</td>\n",
       "    </tr>\n",
       "    <tr>\n",
       "      <th>5</th>\n",
       "      <td>736</td>\n",
       "      <td>110</td>\n",
       "      <td>116</td>\n",
       "      <td>1237.09345</td>\n",
       "      <td>1171.0</td>\n",
       "      <td>-48644.77920</td>\n",
       "      <td>-0.053426</td>\n",
       "      <td>2019-03-11</td>\n",
       "      <td>2019-03-19</td>\n",
       "      <td>8 days</td>\n",
       "    </tr>\n",
       "    <tr>\n",
       "      <th>6</th>\n",
       "      <td>707</td>\n",
       "      <td>120</td>\n",
       "      <td>123</td>\n",
       "      <td>1217.99940</td>\n",
       "      <td>1178.0</td>\n",
       "      <td>-28279.57580</td>\n",
       "      <td>-0.032840</td>\n",
       "      <td>2019-03-26</td>\n",
       "      <td>2019-03-29</td>\n",
       "      <td>3 days</td>\n",
       "    </tr>\n",
       "  </tbody>\n",
       "</table>\n",
       "</div>"
      ],
      "text/plain": [
       "   Size  EntryBar  ExitBar  EntryPrice  ExitPrice          PnL  ReturnPct  \\\n",
       "0  -871        43       44  1147.29265     1163.0 -13681.10185  -0.013691   \n",
       "1   804        47       51  1226.03900     1267.0  32932.64400   0.033409   \n",
       "2  -840        54       55  1212.96595     1249.0 -30268.60200  -0.029707   \n",
       "3  -758        73       74  1303.51550     1314.0  -7947.25100  -0.008043   \n",
       "4   738        75       93  1327.53895     1232.0 -70507.74510  -0.071967   \n",
       "5   736       110      116  1237.09345     1171.0 -48644.77920  -0.053426   \n",
       "6   707       120      123  1217.99940     1178.0 -28279.57580  -0.032840   \n",
       "\n",
       "   EntryTime   ExitTime Duration  \n",
       "0 2018-11-29 2018-11-30   1 days  \n",
       "1 2018-12-05 2018-12-11   6 days  \n",
       "2 2018-12-14 2018-12-17   3 days  \n",
       "3 2019-01-16 2019-01-17   1 days  \n",
       "4 2019-01-18 2019-02-14  27 days  \n",
       "5 2019-03-11 2019-03-19   8 days  \n",
       "6 2019-03-26 2019-03-29   3 days  "
      ]
     },
     "metadata": {},
     "output_type": "display_data"
    },
    {
     "name": "stdout",
     "output_type": "stream",
     "text": [
      "----------MIN2----------\n",
      "Start                     2022-04-01 00:00:00\n",
      "End                       2022-09-20 00:00:00\n",
      "Duration                    172 days 00:00:00\n",
      "Exposure Time [%]                   47.413793\n",
      "Equity Final [$]                 856632.48295\n",
      "Equity Peak [$]                  1018505.5272\n",
      "Return [%]                         -14.336752\n",
      "Buy & Hold Return [%]               -6.169666\n",
      "Return (Ann.) [%]                   -28.55005\n",
      "Volatility (Ann.) [%]               17.581378\n",
      "Sharpe Ratio                              0.0\n",
      "Sortino Ratio                             0.0\n",
      "Calmar Ratio                              0.0\n",
      "Max. Drawdown [%]                  -20.074613\n",
      "Avg. Drawdown [%]                  -20.074613\n",
      "Max. Drawdown Duration      123 days 00:00:00\n",
      "Avg. Drawdown Duration      123 days 00:00:00\n",
      "# Trades                                    5\n",
      "Win Rate [%]                             40.0\n",
      "Best Trade [%]                       1.850609\n",
      "Worst Trade [%]                     -10.08364\n",
      "Avg. Trade [%]                      -3.048125\n",
      "Max. Trade Duration          37 days 00:00:00\n",
      "Avg. Trade Duration          15 days 00:00:00\n",
      "Profit Factor                        0.143965\n",
      "Expectancy [%]                      -2.937233\n",
      "SQN                                 -1.292971\n",
      "_strategy                 EntryRSI50andExi...\n",
      "_equity_curve                             ...\n",
      "_trades                      Size  EntryBa...\n",
      "dtype: object\n"
     ]
    },
    {
     "data": {
      "text/html": [
       "<div>\n",
       "<style scoped>\n",
       "    .dataframe tbody tr th:only-of-type {\n",
       "        vertical-align: middle;\n",
       "    }\n",
       "\n",
       "    .dataframe tbody tr th {\n",
       "        vertical-align: top;\n",
       "    }\n",
       "\n",
       "    .dataframe thead th {\n",
       "        text-align: right;\n",
       "    }\n",
       "</style>\n",
       "<table border=\"1\" class=\"dataframe\">\n",
       "  <thead>\n",
       "    <tr style=\"text-align: right;\">\n",
       "      <th></th>\n",
       "      <th>Size</th>\n",
       "      <th>EntryBar</th>\n",
       "      <th>ExitBar</th>\n",
       "      <th>EntryPrice</th>\n",
       "      <th>ExitPrice</th>\n",
       "      <th>PnL</th>\n",
       "      <th>ReturnPct</th>\n",
       "      <th>EntryTime</th>\n",
       "      <th>ExitTime</th>\n",
       "      <th>Duration</th>\n",
       "    </tr>\n",
       "  </thead>\n",
       "  <tbody>\n",
       "    <tr>\n",
       "      <th>0</th>\n",
       "      <td>-2348</td>\n",
       "      <td>30</td>\n",
       "      <td>31</td>\n",
       "      <td>425.88140</td>\n",
       "      <td>418.0</td>\n",
       "      <td>18505.52720</td>\n",
       "      <td>0.018506</td>\n",
       "      <td>2022-05-19</td>\n",
       "      <td>2022-05-20</td>\n",
       "      <td>1 days</td>\n",
       "    </tr>\n",
       "    <tr>\n",
       "      <th>1</th>\n",
       "      <td>-2552</td>\n",
       "      <td>32</td>\n",
       "      <td>33</td>\n",
       "      <td>399.01505</td>\n",
       "      <td>401.0</td>\n",
       "      <td>-5065.59240</td>\n",
       "      <td>-0.004975</td>\n",
       "      <td>2022-05-23</td>\n",
       "      <td>2022-05-24</td>\n",
       "      <td>1 days</td>\n",
       "    </tr>\n",
       "    <tr>\n",
       "      <th>2</th>\n",
       "      <td>2465</td>\n",
       "      <td>34</td>\n",
       "      <td>42</td>\n",
       "      <td>411.02455</td>\n",
       "      <td>384.0</td>\n",
       "      <td>-66615.51575</td>\n",
       "      <td>-0.065749</td>\n",
       "      <td>2022-05-25</td>\n",
       "      <td>2022-06-06</td>\n",
       "      <td>12 days</td>\n",
       "    </tr>\n",
       "    <tr>\n",
       "      <th>3</th>\n",
       "      <td>2270</td>\n",
       "      <td>48</td>\n",
       "      <td>74</td>\n",
       "      <td>417.05425</td>\n",
       "      <td>375.0</td>\n",
       "      <td>-95463.14750</td>\n",
       "      <td>-0.100836</td>\n",
       "      <td>2022-06-14</td>\n",
       "      <td>2022-07-21</td>\n",
       "      <td>37 days</td>\n",
       "    </tr>\n",
       "    <tr>\n",
       "      <th>4</th>\n",
       "      <td>2366</td>\n",
       "      <td>101</td>\n",
       "      <td>115</td>\n",
       "      <td>359.77210</td>\n",
       "      <td>362.0</td>\n",
       "      <td>5271.21140</td>\n",
       "      <td>0.006193</td>\n",
       "      <td>2022-08-30</td>\n",
       "      <td>2022-09-20</td>\n",
       "      <td>21 days</td>\n",
       "    </tr>\n",
       "  </tbody>\n",
       "</table>\n",
       "</div>"
      ],
      "text/plain": [
       "   Size  EntryBar  ExitBar  EntryPrice  ExitPrice          PnL  ReturnPct  \\\n",
       "0 -2348        30       31   425.88140      418.0  18505.52720   0.018506   \n",
       "1 -2552        32       33   399.01505      401.0  -5065.59240  -0.004975   \n",
       "2  2465        34       42   411.02455      384.0 -66615.51575  -0.065749   \n",
       "3  2270        48       74   417.05425      375.0 -95463.14750  -0.100836   \n",
       "4  2366       101      115   359.77210      362.0   5271.21140   0.006193   \n",
       "\n",
       "   EntryTime   ExitTime Duration  \n",
       "0 2022-05-19 2022-05-20   1 days  \n",
       "1 2022-05-23 2022-05-24   1 days  \n",
       "2 2022-05-25 2022-06-06  12 days  \n",
       "3 2022-06-14 2022-07-21  37 days  \n",
       "4 2022-08-30 2022-09-20  21 days  "
      ]
     },
     "metadata": {},
     "output_type": "display_data"
    },
    {
     "name": "stdout",
     "output_type": "stream",
     "text": [
      "----------MIN3----------\n",
      "Start                     2020-10-02 00:00:00\n",
      "End                       2021-03-31 00:00:00\n",
      "Duration                    180 days 00:00:00\n",
      "Exposure Time [%]                   12.295082\n",
      "Equity Final [$]                  909825.7297\n",
      "Equity Peak [$]                     1000000.0\n",
      "Return [%]                          -9.017427\n",
      "Buy & Hold Return [%]              -42.243767\n",
      "Return (Ann.) [%]                  -17.733094\n",
      "Volatility (Ann.) [%]                9.913431\n",
      "Sharpe Ratio                              0.0\n",
      "Sortino Ratio                             0.0\n",
      "Calmar Ratio                              0.0\n",
      "Max. Drawdown [%]                  -14.103484\n",
      "Avg. Drawdown [%]                  -14.103484\n",
      "Max. Drawdown Duration       61 days 00:00:00\n",
      "Avg. Drawdown Duration       61 days 00:00:00\n",
      "# Trades                                    4\n",
      "Win Rate [%]                             25.0\n",
      "Best Trade [%]                       5.934952\n",
      "Worst Trade [%]                     -8.181773\n",
      "Avg. Trade [%]                      -2.335727\n",
      "Max. Trade Duration          10 days 00:00:00\n",
      "Avg. Trade Duration           4 days 00:00:00\n",
      "Profit Factor                         0.40519\n",
      "Expectancy [%]                      -2.178099\n",
      "SQN                                 -0.759177\n",
      "_strategy                 EntryRSI50andExi...\n",
      "_equity_curve                             ...\n",
      "_trades                      Size  EntryBa...\n",
      "dtype: object\n"
     ]
    },
    {
     "data": {
      "text/html": [
       "<div>\n",
       "<style scoped>\n",
       "    .dataframe tbody tr th:only-of-type {\n",
       "        vertical-align: middle;\n",
       "    }\n",
       "\n",
       "    .dataframe tbody tr th {\n",
       "        vertical-align: top;\n",
       "    }\n",
       "\n",
       "    .dataframe thead th {\n",
       "        text-align: right;\n",
       "    }\n",
       "</style>\n",
       "<table border=\"1\" class=\"dataframe\">\n",
       "  <thead>\n",
       "    <tr style=\"text-align: right;\">\n",
       "      <th></th>\n",
       "      <th>Size</th>\n",
       "      <th>EntryBar</th>\n",
       "      <th>ExitBar</th>\n",
       "      <th>EntryPrice</th>\n",
       "      <th>ExitPrice</th>\n",
       "      <th>PnL</th>\n",
       "      <th>ReturnPct</th>\n",
       "      <th>EntryTime</th>\n",
       "      <th>ExitTime</th>\n",
       "      <th>Duration</th>\n",
       "    </tr>\n",
       "  </thead>\n",
       "  <tbody>\n",
       "    <tr>\n",
       "      <th>0</th>\n",
       "      <td>2055</td>\n",
       "      <td>81</td>\n",
       "      <td>83</td>\n",
       "      <td>486.39580</td>\n",
       "      <td>455.0</td>\n",
       "      <td>-64518.3690</td>\n",
       "      <td>-0.064548</td>\n",
       "      <td>2021-02-01</td>\n",
       "      <td>2021-02-03</td>\n",
       "      <td>2 days</td>\n",
       "    </tr>\n",
       "    <tr>\n",
       "      <th>1</th>\n",
       "      <td>2115</td>\n",
       "      <td>103</td>\n",
       "      <td>109</td>\n",
       "      <td>442.17800</td>\n",
       "      <td>406.0</td>\n",
       "      <td>-76516.4700</td>\n",
       "      <td>-0.081818</td>\n",
       "      <td>2021-03-05</td>\n",
       "      <td>2021-03-15</td>\n",
       "      <td>10 days</td>\n",
       "    </tr>\n",
       "    <tr>\n",
       "      <th>2</th>\n",
       "      <td>2044</td>\n",
       "      <td>115</td>\n",
       "      <td>117</td>\n",
       "      <td>420.06910</td>\n",
       "      <td>445.0</td>\n",
       "      <td>50958.7596</td>\n",
       "      <td>0.059350</td>\n",
       "      <td>2021-03-23</td>\n",
       "      <td>2021-03-25</td>\n",
       "      <td>2 days</td>\n",
       "    </tr>\n",
       "    <tr>\n",
       "      <th>3</th>\n",
       "      <td>-2214</td>\n",
       "      <td>119</td>\n",
       "      <td>120</td>\n",
       "      <td>410.95565</td>\n",
       "      <td>411.0</td>\n",
       "      <td>-98.1909</td>\n",
       "      <td>-0.000108</td>\n",
       "      <td>2021-03-29</td>\n",
       "      <td>2021-03-30</td>\n",
       "      <td>1 days</td>\n",
       "    </tr>\n",
       "  </tbody>\n",
       "</table>\n",
       "</div>"
      ],
      "text/plain": [
       "   Size  EntryBar  ExitBar  EntryPrice  ExitPrice         PnL  ReturnPct  \\\n",
       "0  2055        81       83   486.39580      455.0 -64518.3690  -0.064548   \n",
       "1  2115       103      109   442.17800      406.0 -76516.4700  -0.081818   \n",
       "2  2044       115      117   420.06910      445.0  50958.7596   0.059350   \n",
       "3 -2214       119      120   410.95565      411.0    -98.1909  -0.000108   \n",
       "\n",
       "   EntryTime   ExitTime Duration  \n",
       "0 2021-02-01 2021-02-03   2 days  \n",
       "1 2021-03-05 2021-03-15  10 days  \n",
       "2 2021-03-23 2021-03-25   2 days  \n",
       "3 2021-03-29 2021-03-30   1 days  "
      ]
     },
     "metadata": {},
     "output_type": "display_data"
    },
    {
     "name": "stdout",
     "output_type": "stream",
     "text": [
      "----------BEST----------\n",
      "Start                     2017-10-02 00:00:00\n",
      "End                       2018-03-30 00:00:00\n",
      "Duration                    179 days 00:00:00\n",
      "Exposure Time [%]                   16.923077\n",
      "Equity Final [$]                1194103.85035\n",
      "Equity Peak [$]                 1194103.85035\n",
      "Return [%]                          19.410385\n",
      "Buy & Hold Return [%]              -16.502463\n",
      "Return (Ann.) [%]                   41.040275\n",
      "Volatility (Ann.) [%]               32.690174\n",
      "Sharpe Ratio                         1.255432\n",
      "Sortino Ratio                        4.359167\n",
      "Calmar Ratio                         5.075445\n",
      "Max. Drawdown [%]                   -8.086045\n",
      "Avg. Drawdown [%]                   -4.936998\n",
      "Max. Drawdown Duration       62 days 00:00:00\n",
      "Avg. Drawdown Duration       28 days 00:00:00\n",
      "# Trades                                    6\n",
      "Win Rate [%]                             50.0\n",
      "Best Trade [%]                       12.64534\n",
      "Worst Trade [%]                        -5.401\n",
      "Avg. Trade [%]                       2.948118\n",
      "Max. Trade Duration           7 days 00:00:00\n",
      "Avg. Trade Duration           4 days 00:00:00\n",
      "Profit Factor                        3.597473\n",
      "Expectancy [%]                       3.145363\n",
      "SQN                                  1.105959\n",
      "_strategy                 EntryRSI50andExi...\n",
      "_equity_curve                             ...\n",
      "_trades                      Size  EntryBa...\n",
      "dtype: object\n"
     ]
    },
    {
     "data": {
      "text/html": [
       "<div>\n",
       "<style scoped>\n",
       "    .dataframe tbody tr th:only-of-type {\n",
       "        vertical-align: middle;\n",
       "    }\n",
       "\n",
       "    .dataframe tbody tr th {\n",
       "        vertical-align: top;\n",
       "    }\n",
       "\n",
       "    .dataframe thead th {\n",
       "        text-align: right;\n",
       "    }\n",
       "</style>\n",
       "<table border=\"1\" class=\"dataframe\">\n",
       "  <thead>\n",
       "    <tr style=\"text-align: right;\">\n",
       "      <th></th>\n",
       "      <th>Size</th>\n",
       "      <th>EntryBar</th>\n",
       "      <th>ExitBar</th>\n",
       "      <th>EntryPrice</th>\n",
       "      <th>ExitPrice</th>\n",
       "      <th>PnL</th>\n",
       "      <th>ReturnPct</th>\n",
       "      <th>EntryTime</th>\n",
       "      <th>ExitTime</th>\n",
       "      <th>Duration</th>\n",
       "    </tr>\n",
       "  </thead>\n",
       "  <tbody>\n",
       "    <tr>\n",
       "      <th>0</th>\n",
       "      <td>743</td>\n",
       "      <td>48</td>\n",
       "      <td>50</td>\n",
       "      <td>1344.62310</td>\n",
       "      <td>1272.0</td>\n",
       "      <td>-53958.96330</td>\n",
       "      <td>-0.054010</td>\n",
       "      <td>2017-12-07</td>\n",
       "      <td>2017-12-11</td>\n",
       "      <td>4 days</td>\n",
       "    </tr>\n",
       "    <tr>\n",
       "      <th>1</th>\n",
       "      <td>767</td>\n",
       "      <td>87</td>\n",
       "      <td>91</td>\n",
       "      <td>1233.07365</td>\n",
       "      <td>1389.0</td>\n",
       "      <td>119595.51045</td>\n",
       "      <td>0.126453</td>\n",
       "      <td>2018-01-31</td>\n",
       "      <td>2018-02-06</td>\n",
       "      <td>6 days</td>\n",
       "    </tr>\n",
       "    <tr>\n",
       "      <th>2</th>\n",
       "      <td>-830</td>\n",
       "      <td>106</td>\n",
       "      <td>107</td>\n",
       "      <td>1282.61945</td>\n",
       "      <td>1303.0</td>\n",
       "      <td>-16915.85650</td>\n",
       "      <td>-0.015890</td>\n",
       "      <td>2018-02-27</td>\n",
       "      <td>2018-02-28</td>\n",
       "      <td>1 days</td>\n",
       "    </tr>\n",
       "    <tr>\n",
       "      <th>3</th>\n",
       "      <td>775</td>\n",
       "      <td>108</td>\n",
       "      <td>111</td>\n",
       "      <td>1352.66270</td>\n",
       "      <td>1398.0</td>\n",
       "      <td>35136.40750</td>\n",
       "      <td>0.033517</td>\n",
       "      <td>2018-03-01</td>\n",
       "      <td>2018-03-06</td>\n",
       "      <td>5 days</td>\n",
       "    </tr>\n",
       "    <tr>\n",
       "      <th>4</th>\n",
       "      <td>-801</td>\n",
       "      <td>116</td>\n",
       "      <td>117</td>\n",
       "      <td>1352.27295</td>\n",
       "      <td>1356.0</td>\n",
       "      <td>-2985.36705</td>\n",
       "      <td>-0.002756</td>\n",
       "      <td>2018-03-13</td>\n",
       "      <td>2018-03-14</td>\n",
       "      <td>1 days</td>\n",
       "    </tr>\n",
       "    <tr>\n",
       "      <th>5</th>\n",
       "      <td>776</td>\n",
       "      <td>120</td>\n",
       "      <td>125</td>\n",
       "      <td>1391.85575</td>\n",
       "      <td>1533.0</td>\n",
       "      <td>109527.93800</td>\n",
       "      <td>0.101407</td>\n",
       "      <td>2018-03-19</td>\n",
       "      <td>2018-03-26</td>\n",
       "      <td>7 days</td>\n",
       "    </tr>\n",
       "  </tbody>\n",
       "</table>\n",
       "</div>"
      ],
      "text/plain": [
       "   Size  EntryBar  ExitBar  EntryPrice  ExitPrice           PnL  ReturnPct  \\\n",
       "0   743        48       50  1344.62310     1272.0  -53958.96330  -0.054010   \n",
       "1   767        87       91  1233.07365     1389.0  119595.51045   0.126453   \n",
       "2  -830       106      107  1282.61945     1303.0  -16915.85650  -0.015890   \n",
       "3   775       108      111  1352.66270     1398.0   35136.40750   0.033517   \n",
       "4  -801       116      117  1352.27295     1356.0   -2985.36705  -0.002756   \n",
       "5   776       120      125  1391.85575     1533.0  109527.93800   0.101407   \n",
       "\n",
       "   EntryTime   ExitTime Duration  \n",
       "0 2017-12-07 2017-12-11   4 days  \n",
       "1 2018-01-31 2018-02-06   6 days  \n",
       "2 2018-02-27 2018-02-28   1 days  \n",
       "3 2018-03-01 2018-03-06   5 days  \n",
       "4 2018-03-13 2018-03-14   1 days  \n",
       "5 2018-03-19 2018-03-26   7 days  "
      ]
     },
     "metadata": {},
     "output_type": "display_data"
    },
    {
     "data": {
      "text/html": [
       "<div style=\"display: table;\"><div style=\"display: table-row;\"><div style=\"display: table-cell;\"><b title=\"bokeh.models.layouts.Row\">Row</b>(</div><div style=\"display: table-cell;\">id&nbsp;=&nbsp;'17289', <span id=\"18137\" style=\"cursor: pointer;\">&hellip;)</span></div></div><div class=\"18136\" style=\"display: none;\"><div style=\"display: table-cell;\"></div><div style=\"display: table-cell;\">align&nbsp;=&nbsp;'start',</div></div><div class=\"18136\" style=\"display: none;\"><div style=\"display: table-cell;\"></div><div style=\"display: table-cell;\">aspect_ratio&nbsp;=&nbsp;None,</div></div><div class=\"18136\" style=\"display: none;\"><div style=\"display: table-cell;\"></div><div style=\"display: table-cell;\">background&nbsp;=&nbsp;None,</div></div><div class=\"18136\" style=\"display: none;\"><div style=\"display: table-cell;\"></div><div style=\"display: table-cell;\">children&nbsp;=&nbsp;[GridBox(id='17286', ...), ToolbarBox(id='17288', ...)],</div></div><div class=\"18136\" style=\"display: none;\"><div style=\"display: table-cell;\"></div><div style=\"display: table-cell;\">cols&nbsp;=&nbsp;'auto',</div></div><div class=\"18136\" style=\"display: none;\"><div style=\"display: table-cell;\"></div><div style=\"display: table-cell;\">css_classes&nbsp;=&nbsp;[],</div></div><div class=\"18136\" style=\"display: none;\"><div style=\"display: table-cell;\"></div><div style=\"display: table-cell;\">disabled&nbsp;=&nbsp;False,</div></div><div class=\"18136\" style=\"display: none;\"><div style=\"display: table-cell;\"></div><div style=\"display: table-cell;\">height&nbsp;=&nbsp;None,</div></div><div class=\"18136\" style=\"display: none;\"><div style=\"display: table-cell;\"></div><div style=\"display: table-cell;\">height_policy&nbsp;=&nbsp;'auto',</div></div><div class=\"18136\" style=\"display: none;\"><div style=\"display: table-cell;\"></div><div style=\"display: table-cell;\">js_event_callbacks&nbsp;=&nbsp;{},</div></div><div class=\"18136\" style=\"display: none;\"><div style=\"display: table-cell;\"></div><div style=\"display: table-cell;\">js_property_callbacks&nbsp;=&nbsp;{},</div></div><div class=\"18136\" style=\"display: none;\"><div style=\"display: table-cell;\"></div><div style=\"display: table-cell;\">margin&nbsp;=&nbsp;(0, 0, 0, 0),</div></div><div class=\"18136\" style=\"display: none;\"><div style=\"display: table-cell;\"></div><div style=\"display: table-cell;\">max_height&nbsp;=&nbsp;None,</div></div><div class=\"18136\" style=\"display: none;\"><div style=\"display: table-cell;\"></div><div style=\"display: table-cell;\">max_width&nbsp;=&nbsp;None,</div></div><div class=\"18136\" style=\"display: none;\"><div style=\"display: table-cell;\"></div><div style=\"display: table-cell;\">min_height&nbsp;=&nbsp;None,</div></div><div class=\"18136\" style=\"display: none;\"><div style=\"display: table-cell;\"></div><div style=\"display: table-cell;\">min_width&nbsp;=&nbsp;None,</div></div><div class=\"18136\" style=\"display: none;\"><div style=\"display: table-cell;\"></div><div style=\"display: table-cell;\">name&nbsp;=&nbsp;None,</div></div><div class=\"18136\" style=\"display: none;\"><div style=\"display: table-cell;\"></div><div style=\"display: table-cell;\">sizing_mode&nbsp;=&nbsp;'stretch_width',</div></div><div class=\"18136\" style=\"display: none;\"><div style=\"display: table-cell;\"></div><div style=\"display: table-cell;\">spacing&nbsp;=&nbsp;0,</div></div><div class=\"18136\" style=\"display: none;\"><div style=\"display: table-cell;\"></div><div style=\"display: table-cell;\">subscribed_events&nbsp;=&nbsp;[],</div></div><div class=\"18136\" style=\"display: none;\"><div style=\"display: table-cell;\"></div><div style=\"display: table-cell;\">syncable&nbsp;=&nbsp;True,</div></div><div class=\"18136\" style=\"display: none;\"><div style=\"display: table-cell;\"></div><div style=\"display: table-cell;\">tags&nbsp;=&nbsp;[],</div></div><div class=\"18136\" style=\"display: none;\"><div style=\"display: table-cell;\"></div><div style=\"display: table-cell;\">visible&nbsp;=&nbsp;True,</div></div><div class=\"18136\" style=\"display: none;\"><div style=\"display: table-cell;\"></div><div style=\"display: table-cell;\">width&nbsp;=&nbsp;None,</div></div><div class=\"18136\" style=\"display: none;\"><div style=\"display: table-cell;\"></div><div style=\"display: table-cell;\">width_policy&nbsp;=&nbsp;'auto')</div></div></div>\n",
       "<script>\n",
       "(function() {\n",
       "  let expanded = false;\n",
       "  const ellipsis = document.getElementById(\"18137\");\n",
       "  ellipsis.addEventListener(\"click\", function() {\n",
       "    const rows = document.getElementsByClassName(\"18136\");\n",
       "    for (let i = 0; i < rows.length; i++) {\n",
       "      const el = rows[i];\n",
       "      el.style.display = expanded ? \"none\" : \"table-row\";\n",
       "    }\n",
       "    ellipsis.innerHTML = expanded ? \"&hellip;)\" : \"&lsaquo;&lsaquo;&lsaquo;\";\n",
       "    expanded = !expanded;\n",
       "  });\n",
       "})();\n",
       "</script>\n"
      ],
      "text/plain": [
       "Row(id='17289', ...)"
      ]
     },
     "execution_count": 32,
     "metadata": {},
     "output_type": "execute_result"
    }
   ],
   "source": [
    "#最低と最高の期間のバックテストを表示\n",
    "\n",
    "print(\"----------WORST----------\")\n",
    "bt = Backtest(\n",
    "    df_min, # チャートデータ\n",
    "    eval(classname), # 売買戦略\n",
    "    cash=initial, # 最初の所持金\n",
    "    commission=0.00495, # 取引手数料\n",
    "    margin=1.0, # レバレッジ倍率の逆数（0.5で2倍レバレッジ）\n",
    "    trade_on_close=False, # True：現在の終値で取引，False：次の時間の始値で取引\n",
    "    exclusive_orders=True, #自動でポジションをクローズ(オープン)\n",
    ")\n",
    "output = bt.run() # バックテスト実行\n",
    "print(output) # 実行結果(データ)\n",
    "display(output._trades)\n",
    "bt.plot(filename = fname + str(output._strategy) + \"_min.html\") # 実行結果（グラフ）\n",
    "\n",
    "print(\"----------MIN2----------\")\n",
    "bt = Backtest(\n",
    "    df_min2, # チャートデータ\n",
    "    eval(classname), # 売買戦略\n",
    "    cash=initial, # 最初の所持金\n",
    "    commission=0.00495, # 取引手数料\n",
    "    margin=1.0, # レバレッジ倍率の逆数（0.5で2倍レバレッジ）\n",
    "    trade_on_close=False, # True：現在の終値で取引，False：次の時間の始値で取引\n",
    "    exclusive_orders=True, #自動でポジションをクローズ(オープン)\n",
    ")\n",
    "output = bt.run() # バックテスト実行\n",
    "print(output) # 実行結果(データ)\n",
    "display(output._trades)\n",
    "bt.plot(filename = fname + str(output._strategy) + \"_min2.html\") # 実行結果（グラフ）\n",
    "\n",
    "print(\"----------MIN3----------\")\n",
    "bt = Backtest(\n",
    "    df_min3, # チャートデータ\n",
    "    eval(classname), # 売買戦略\n",
    "    cash=initial, # 最初の所持金\n",
    "    commission=0.00495, # 取引手数料\n",
    "    margin=1.0, # レバレッジ倍率の逆数（0.5で2倍レバレッジ）\n",
    "    trade_on_close=False, # True：現在の終値で取引，False：次の時間の始値で取引\n",
    "    exclusive_orders=True, #自動でポジションをクローズ(オープン)\n",
    ")\n",
    "output = bt.run() # バックテスト実行\n",
    "print(output) # 実行結果(データ)\n",
    "display(output._trades)\n",
    "bt.plot(filename = fname + str(output._strategy) + \"_min3.html\") # 実行結果（グラフ）\n",
    "\n",
    "print(\"----------BEST----------\")\n",
    "bt = Backtest(\n",
    "    df_max, # チャートデータ\n",
    "    eval(classname), # 売買戦略\n",
    "    cash=initial, # 最初の所持金\n",
    "    commission=0.00495, # 取引手数料\n",
    "    margin=1.0, # レバレッジ倍率の逆数（0.5で2倍レバレッジ）\n",
    "    trade_on_close=False, # True：現在の終値で取引，False：次の時間の始値で取引\n",
    "    exclusive_orders=True, #自動でポジションをクローズ(オープン)\n",
    ")\n",
    "output = bt.run() # バックテスト実行\n",
    "print(output) # 実行結果(データ)\n",
    "display(output._trades)\n",
    "bt.plot(filename = fname + str(output._strategy) + \"_max.html\") # 実行結果（グラフ）"
   ]
  }
 ],
 "metadata": {
  "kernelspec": {
   "display_name": "Python 3.10.6 64-bit",
   "language": "python",
   "name": "python3"
  },
  "language_info": {
   "codemirror_mode": {
    "name": "ipython",
    "version": 3
   },
   "file_extension": ".py",
   "mimetype": "text/x-python",
   "name": "python",
   "nbconvert_exporter": "python",
   "pygments_lexer": "ipython3",
   "version": "3.10.6"
  },
  "orig_nbformat": 4,
  "vscode": {
   "interpreter": {
    "hash": "369f2c481f4da34e4445cda3fffd2e751bd1c4d706f27375911949ba6bb62e1c"
   }
  }
 },
 "nbformat": 4,
 "nbformat_minor": 2
}
