{
 "cells": [
  {
   "cell_type": "code",
   "execution_count": 77,
   "metadata": {},
   "outputs": [],
   "source": [
    "import pandas_datareader.data as web\n",
    "import pandas as pd\n",
    "import datetime\n",
    "from decimal import Decimal\n",
    "from dateutil import relativedelta\n",
    "from backtesting import Backtest, Strategy\n",
    "from backtesting.lib import crossover, resample_apply\n",
    "import importlib\n",
    "import plotly.express as px\n",
    "\n",
    "#Change me!\n",
    "start = datetime.datetime.today() + relativedelta.relativedelta(years=-5)\n",
    "split_unit = \"6M\"\n",
    "modulename = \"BacktestingStrategies.Strategy_RsiOscillator\"\n",
    "classname = \"btst.RsiOscillator_Entry50_WithShortPosition\"\n",
    "end = datetime.date.today()\n",
    "\n",
    "data = web.DataReader('1357.T', 'yahoo', start, end)  #NEXT FUNDS 日経平均ダブルインバース・インデックス連動型上場投信\n",
    "data = data.astype(\"double\")\n",
    "\n",
    "initial = 1000_000\n",
    "fname = f\"html/plot-\""
   ]
  },
  {
   "cell_type": "code",
   "execution_count": 78,
   "metadata": {},
   "outputs": [],
   "source": [
    "#日付データを検証期間単位ごとにSplit\n",
    "#https://kakakakakku.hatenablog.com/entry/2021/05/24/002542\n",
    "grouped_data = data.groupby(pd.Grouper(freq = split_unit))\n",
    "dfs = [group for _, group in grouped_data]"
   ]
  },
  {
   "cell_type": "code",
   "execution_count": 79,
   "metadata": {},
   "outputs": [],
   "source": [
    "#検証期間単位ごとにバックテスト＆結果を蓄積\n",
    "#親ディレクトリ経由で呼び出し   # https://qiita.com/yokohama4580/items/466a483ae022d264c8ee\n",
    "import os\n",
    "import sys\n",
    "sys.path.append(os.pardir)\n",
    "\n",
    "btst = importlib.import_module(modulename)\n",
    "# from BacktestingStrategies import Strategy_RsiOscillator as btst\n",
    "importlib.reload(btst)\n",
    "import warnings\n",
    "warnings.simplefilter('ignore')\n",
    "\n",
    "returns = []\n",
    "\n",
    "for monthly_data in dfs:\n",
    "    # バックテストを設定\n",
    "    bt = Backtest(\n",
    "        monthly_data, # チャートデータ\n",
    "        eval(classname), # 売買戦略\n",
    "        cash=initial, # 最初の所持金\n",
    "        commission=0.00495, # 取引手数料\n",
    "        margin=1.0, # レバレッジ倍率の逆数（0.5で2倍レバレッジ）\n",
    "        trade_on_close=False, # True：現在の終値で取引，False：次の時間の始値で取引\n",
    "        exclusive_orders=True #自動でポジションをクローズ(オープン)\n",
    "    )\n",
    "\n",
    "    output = bt.run() # バックテスト実行\n",
    "    returns.append(output)"
   ]
  },
  {
   "cell_type": "code",
   "execution_count": 80,
   "metadata": {},
   "outputs": [
    {
     "name": "stdout",
     "output_type": "stream",
     "text": [
      "１期間単位: 6M\n",
      "テスト期間: 11\n",
      "平均Return [%]: -3.9932\n",
      "最大Return [%]: 18.903805700000003\n",
      "最大Return期間: 2019-10-01T00:00:00.000000000 - 2020-03-31T00:00:00.000000000\n",
      "最低Return [%]: -25.961170070000005\n",
      "最低Return期間: 2018-04-02T00:00:00.000000000 - 2018-09-28T00:00:00.000000000\n"
     ]
    }
   ],
   "source": [
    "import statistics\n",
    "\n",
    "df = pd.DataFrame(returns)\n",
    "\n",
    "#最低と最大の期間のBacktestingを表示＆実行\n",
    "lines = \"１期間単位: \" + split_unit + \"\\n\"\n",
    "lines += \"テスト期間: \" + str(len(returns)) + \"\\n\"\n",
    "res = round(statistics.mean(df[\"Return [%]\"]), 4)\n",
    "\n",
    "#リターンが最小のものの期間を取得\n",
    "min_return = df[df[\"# Trades\"] != 0][\"Return [%]\"].min()\n",
    "min_period_start = pd.to_datetime(df[df[\"Return [%]\"] == min_return][\"Start\"]).values[0]\n",
    "min_period_end = pd.to_datetime(df[df[\"Return [%]\"] == min_return][\"End\"]).values[0]\n",
    "df_min = data[min_period_start : min_period_end]\n",
    "\n",
    "#リターンが2番目、3番目に小さいものの期間を取得\n",
    "min_return_3 = df[df[\"# Trades\"] != 0][\"Return [%]\"].nsmallest(3)\n",
    "min2_period_start = pd.to_datetime(df[df[\"Return [%]\"] == min_return_3.values[1]][\"Start\"]).values[0]\n",
    "min2_period_end = pd.to_datetime(df[df[\"Return [%]\"] == min_return_3.values[1]][\"End\"]).values[0]\n",
    "min3_period_start = pd.to_datetime(df[df[\"Return [%]\"] == min_return_3.values[2]][\"Start\"]).values[0]\n",
    "min3_period_end = pd.to_datetime(df[df[\"Return [%]\"] == min_return_3.values[2]][\"End\"]).values[0]\n",
    "df_min2 = data[min2_period_start : min2_period_end]\n",
    "df_min3 = data[min3_period_start : min3_period_end]\n",
    "\n",
    "#リターンが最大のものの期間を取得\n",
    "max_return = df[df[\"# Trades\"] != 0][\"Return [%]\"].max()\n",
    "max_period_start = pd.to_datetime(df[df[\"Return [%]\"] == max_return][\"Start\"]).values[0]\n",
    "max_period_end = pd.to_datetime(df[df[\"Return [%]\"] == max_return][\"End\"]).values[0]\n",
    "df_max = data[max_period_start : max_period_end]\n",
    "\n",
    "lines += \"平均Return [%]: \" + str(res) + \"\\n\"\n",
    "lines += \"最大Return [%]: \" + str(max_return) + \"\\n\"\n",
    "lines += \"最大Return期間: \" + str(max_period_start) + \" - \" + str(max_period_end) + \"\\n\"\n",
    "lines += \"最低Return [%]: \" + str(min_return) + \"\\n\"\n",
    "lines += \"最低Return期間: \" + str(min_period_start) + \" - \" + str(min_period_end) \n",
    "\n",
    "print(lines)\n",
    "\n"
   ]
  },
  {
   "cell_type": "code",
   "execution_count": 81,
   "metadata": {},
   "outputs": [
    {
     "data": {
      "application/vnd.plotly.v1+json": {
       "config": {
        "plotlyServerURL": "https://plot.ly"
       },
       "data": [
        {
         "alignmentgroup": "True",
         "boxpoints": "all",
         "hovertemplate": "variable=%{x}<br>value=%{y}<extra></extra>",
         "legendgroup": "",
         "marker": {
          "color": "#636efa"
         },
         "name": "",
         "notched": false,
         "offsetgroup": "",
         "orientation": "v",
         "showlegend": false,
         "type": "box",
         "x": [
          "Return [%]",
          "Return [%]",
          "Return [%]",
          "Return [%]",
          "Return [%]",
          "Return [%]",
          "Return [%]",
          "Return [%]",
          "Return [%]",
          "Return [%]",
          "Return [%]"
         ],
         "x0": " ",
         "xaxis": "x",
         "y": [
          0,
          0.031276224999979604,
          -25.961170070000005,
          4.750863830000011,
          0.5013640400000032,
          18.903805700000003,
          -13.570684589999995,
          -21.868289110000013,
          -7.212693634999997,
          14.786260869999998,
          -14.286422770000016
         ],
         "y0": " ",
         "yaxis": "y"
        }
       ],
       "layout": {
        "boxmode": "group",
        "legend": {
         "tracegroupgap": 0
        },
        "margin": {
         "t": 60
        },
        "template": {
         "data": {
          "bar": [
           {
            "error_x": {
             "color": "#2a3f5f"
            },
            "error_y": {
             "color": "#2a3f5f"
            },
            "marker": {
             "line": {
              "color": "#E5ECF6",
              "width": 0.5
             },
             "pattern": {
              "fillmode": "overlay",
              "size": 10,
              "solidity": 0.2
             }
            },
            "type": "bar"
           }
          ],
          "barpolar": [
           {
            "marker": {
             "line": {
              "color": "#E5ECF6",
              "width": 0.5
             },
             "pattern": {
              "fillmode": "overlay",
              "size": 10,
              "solidity": 0.2
             }
            },
            "type": "barpolar"
           }
          ],
          "carpet": [
           {
            "aaxis": {
             "endlinecolor": "#2a3f5f",
             "gridcolor": "white",
             "linecolor": "white",
             "minorgridcolor": "white",
             "startlinecolor": "#2a3f5f"
            },
            "baxis": {
             "endlinecolor": "#2a3f5f",
             "gridcolor": "white",
             "linecolor": "white",
             "minorgridcolor": "white",
             "startlinecolor": "#2a3f5f"
            },
            "type": "carpet"
           }
          ],
          "choropleth": [
           {
            "colorbar": {
             "outlinewidth": 0,
             "ticks": ""
            },
            "type": "choropleth"
           }
          ],
          "contour": [
           {
            "colorbar": {
             "outlinewidth": 0,
             "ticks": ""
            },
            "colorscale": [
             [
              0,
              "#0d0887"
             ],
             [
              0.1111111111111111,
              "#46039f"
             ],
             [
              0.2222222222222222,
              "#7201a8"
             ],
             [
              0.3333333333333333,
              "#9c179e"
             ],
             [
              0.4444444444444444,
              "#bd3786"
             ],
             [
              0.5555555555555556,
              "#d8576b"
             ],
             [
              0.6666666666666666,
              "#ed7953"
             ],
             [
              0.7777777777777778,
              "#fb9f3a"
             ],
             [
              0.8888888888888888,
              "#fdca26"
             ],
             [
              1,
              "#f0f921"
             ]
            ],
            "type": "contour"
           }
          ],
          "contourcarpet": [
           {
            "colorbar": {
             "outlinewidth": 0,
             "ticks": ""
            },
            "type": "contourcarpet"
           }
          ],
          "heatmap": [
           {
            "colorbar": {
             "outlinewidth": 0,
             "ticks": ""
            },
            "colorscale": [
             [
              0,
              "#0d0887"
             ],
             [
              0.1111111111111111,
              "#46039f"
             ],
             [
              0.2222222222222222,
              "#7201a8"
             ],
             [
              0.3333333333333333,
              "#9c179e"
             ],
             [
              0.4444444444444444,
              "#bd3786"
             ],
             [
              0.5555555555555556,
              "#d8576b"
             ],
             [
              0.6666666666666666,
              "#ed7953"
             ],
             [
              0.7777777777777778,
              "#fb9f3a"
             ],
             [
              0.8888888888888888,
              "#fdca26"
             ],
             [
              1,
              "#f0f921"
             ]
            ],
            "type": "heatmap"
           }
          ],
          "heatmapgl": [
           {
            "colorbar": {
             "outlinewidth": 0,
             "ticks": ""
            },
            "colorscale": [
             [
              0,
              "#0d0887"
             ],
             [
              0.1111111111111111,
              "#46039f"
             ],
             [
              0.2222222222222222,
              "#7201a8"
             ],
             [
              0.3333333333333333,
              "#9c179e"
             ],
             [
              0.4444444444444444,
              "#bd3786"
             ],
             [
              0.5555555555555556,
              "#d8576b"
             ],
             [
              0.6666666666666666,
              "#ed7953"
             ],
             [
              0.7777777777777778,
              "#fb9f3a"
             ],
             [
              0.8888888888888888,
              "#fdca26"
             ],
             [
              1,
              "#f0f921"
             ]
            ],
            "type": "heatmapgl"
           }
          ],
          "histogram": [
           {
            "marker": {
             "pattern": {
              "fillmode": "overlay",
              "size": 10,
              "solidity": 0.2
             }
            },
            "type": "histogram"
           }
          ],
          "histogram2d": [
           {
            "colorbar": {
             "outlinewidth": 0,
             "ticks": ""
            },
            "colorscale": [
             [
              0,
              "#0d0887"
             ],
             [
              0.1111111111111111,
              "#46039f"
             ],
             [
              0.2222222222222222,
              "#7201a8"
             ],
             [
              0.3333333333333333,
              "#9c179e"
             ],
             [
              0.4444444444444444,
              "#bd3786"
             ],
             [
              0.5555555555555556,
              "#d8576b"
             ],
             [
              0.6666666666666666,
              "#ed7953"
             ],
             [
              0.7777777777777778,
              "#fb9f3a"
             ],
             [
              0.8888888888888888,
              "#fdca26"
             ],
             [
              1,
              "#f0f921"
             ]
            ],
            "type": "histogram2d"
           }
          ],
          "histogram2dcontour": [
           {
            "colorbar": {
             "outlinewidth": 0,
             "ticks": ""
            },
            "colorscale": [
             [
              0,
              "#0d0887"
             ],
             [
              0.1111111111111111,
              "#46039f"
             ],
             [
              0.2222222222222222,
              "#7201a8"
             ],
             [
              0.3333333333333333,
              "#9c179e"
             ],
             [
              0.4444444444444444,
              "#bd3786"
             ],
             [
              0.5555555555555556,
              "#d8576b"
             ],
             [
              0.6666666666666666,
              "#ed7953"
             ],
             [
              0.7777777777777778,
              "#fb9f3a"
             ],
             [
              0.8888888888888888,
              "#fdca26"
             ],
             [
              1,
              "#f0f921"
             ]
            ],
            "type": "histogram2dcontour"
           }
          ],
          "mesh3d": [
           {
            "colorbar": {
             "outlinewidth": 0,
             "ticks": ""
            },
            "type": "mesh3d"
           }
          ],
          "parcoords": [
           {
            "line": {
             "colorbar": {
              "outlinewidth": 0,
              "ticks": ""
             }
            },
            "type": "parcoords"
           }
          ],
          "pie": [
           {
            "automargin": true,
            "type": "pie"
           }
          ],
          "scatter": [
           {
            "fillpattern": {
             "fillmode": "overlay",
             "size": 10,
             "solidity": 0.2
            },
            "type": "scatter"
           }
          ],
          "scatter3d": [
           {
            "line": {
             "colorbar": {
              "outlinewidth": 0,
              "ticks": ""
             }
            },
            "marker": {
             "colorbar": {
              "outlinewidth": 0,
              "ticks": ""
             }
            },
            "type": "scatter3d"
           }
          ],
          "scattercarpet": [
           {
            "marker": {
             "colorbar": {
              "outlinewidth": 0,
              "ticks": ""
             }
            },
            "type": "scattercarpet"
           }
          ],
          "scattergeo": [
           {
            "marker": {
             "colorbar": {
              "outlinewidth": 0,
              "ticks": ""
             }
            },
            "type": "scattergeo"
           }
          ],
          "scattergl": [
           {
            "marker": {
             "colorbar": {
              "outlinewidth": 0,
              "ticks": ""
             }
            },
            "type": "scattergl"
           }
          ],
          "scattermapbox": [
           {
            "marker": {
             "colorbar": {
              "outlinewidth": 0,
              "ticks": ""
             }
            },
            "type": "scattermapbox"
           }
          ],
          "scatterpolar": [
           {
            "marker": {
             "colorbar": {
              "outlinewidth": 0,
              "ticks": ""
             }
            },
            "type": "scatterpolar"
           }
          ],
          "scatterpolargl": [
           {
            "marker": {
             "colorbar": {
              "outlinewidth": 0,
              "ticks": ""
             }
            },
            "type": "scatterpolargl"
           }
          ],
          "scatterternary": [
           {
            "marker": {
             "colorbar": {
              "outlinewidth": 0,
              "ticks": ""
             }
            },
            "type": "scatterternary"
           }
          ],
          "surface": [
           {
            "colorbar": {
             "outlinewidth": 0,
             "ticks": ""
            },
            "colorscale": [
             [
              0,
              "#0d0887"
             ],
             [
              0.1111111111111111,
              "#46039f"
             ],
             [
              0.2222222222222222,
              "#7201a8"
             ],
             [
              0.3333333333333333,
              "#9c179e"
             ],
             [
              0.4444444444444444,
              "#bd3786"
             ],
             [
              0.5555555555555556,
              "#d8576b"
             ],
             [
              0.6666666666666666,
              "#ed7953"
             ],
             [
              0.7777777777777778,
              "#fb9f3a"
             ],
             [
              0.8888888888888888,
              "#fdca26"
             ],
             [
              1,
              "#f0f921"
             ]
            ],
            "type": "surface"
           }
          ],
          "table": [
           {
            "cells": {
             "fill": {
              "color": "#EBF0F8"
             },
             "line": {
              "color": "white"
             }
            },
            "header": {
             "fill": {
              "color": "#C8D4E3"
             },
             "line": {
              "color": "white"
             }
            },
            "type": "table"
           }
          ]
         },
         "layout": {
          "annotationdefaults": {
           "arrowcolor": "#2a3f5f",
           "arrowhead": 0,
           "arrowwidth": 1
          },
          "autotypenumbers": "strict",
          "coloraxis": {
           "colorbar": {
            "outlinewidth": 0,
            "ticks": ""
           }
          },
          "colorscale": {
           "diverging": [
            [
             0,
             "#8e0152"
            ],
            [
             0.1,
             "#c51b7d"
            ],
            [
             0.2,
             "#de77ae"
            ],
            [
             0.3,
             "#f1b6da"
            ],
            [
             0.4,
             "#fde0ef"
            ],
            [
             0.5,
             "#f7f7f7"
            ],
            [
             0.6,
             "#e6f5d0"
            ],
            [
             0.7,
             "#b8e186"
            ],
            [
             0.8,
             "#7fbc41"
            ],
            [
             0.9,
             "#4d9221"
            ],
            [
             1,
             "#276419"
            ]
           ],
           "sequential": [
            [
             0,
             "#0d0887"
            ],
            [
             0.1111111111111111,
             "#46039f"
            ],
            [
             0.2222222222222222,
             "#7201a8"
            ],
            [
             0.3333333333333333,
             "#9c179e"
            ],
            [
             0.4444444444444444,
             "#bd3786"
            ],
            [
             0.5555555555555556,
             "#d8576b"
            ],
            [
             0.6666666666666666,
             "#ed7953"
            ],
            [
             0.7777777777777778,
             "#fb9f3a"
            ],
            [
             0.8888888888888888,
             "#fdca26"
            ],
            [
             1,
             "#f0f921"
            ]
           ],
           "sequentialminus": [
            [
             0,
             "#0d0887"
            ],
            [
             0.1111111111111111,
             "#46039f"
            ],
            [
             0.2222222222222222,
             "#7201a8"
            ],
            [
             0.3333333333333333,
             "#9c179e"
            ],
            [
             0.4444444444444444,
             "#bd3786"
            ],
            [
             0.5555555555555556,
             "#d8576b"
            ],
            [
             0.6666666666666666,
             "#ed7953"
            ],
            [
             0.7777777777777778,
             "#fb9f3a"
            ],
            [
             0.8888888888888888,
             "#fdca26"
            ],
            [
             1,
             "#f0f921"
            ]
           ]
          },
          "colorway": [
           "#636efa",
           "#EF553B",
           "#00cc96",
           "#ab63fa",
           "#FFA15A",
           "#19d3f3",
           "#FF6692",
           "#B6E880",
           "#FF97FF",
           "#FECB52"
          ],
          "font": {
           "color": "#2a3f5f"
          },
          "geo": {
           "bgcolor": "white",
           "lakecolor": "white",
           "landcolor": "#E5ECF6",
           "showlakes": true,
           "showland": true,
           "subunitcolor": "white"
          },
          "hoverlabel": {
           "align": "left"
          },
          "hovermode": "closest",
          "mapbox": {
           "style": "light"
          },
          "paper_bgcolor": "white",
          "plot_bgcolor": "#E5ECF6",
          "polar": {
           "angularaxis": {
            "gridcolor": "white",
            "linecolor": "white",
            "ticks": ""
           },
           "bgcolor": "#E5ECF6",
           "radialaxis": {
            "gridcolor": "white",
            "linecolor": "white",
            "ticks": ""
           }
          },
          "scene": {
           "xaxis": {
            "backgroundcolor": "#E5ECF6",
            "gridcolor": "white",
            "gridwidth": 2,
            "linecolor": "white",
            "showbackground": true,
            "ticks": "",
            "zerolinecolor": "white"
           },
           "yaxis": {
            "backgroundcolor": "#E5ECF6",
            "gridcolor": "white",
            "gridwidth": 2,
            "linecolor": "white",
            "showbackground": true,
            "ticks": "",
            "zerolinecolor": "white"
           },
           "zaxis": {
            "backgroundcolor": "#E5ECF6",
            "gridcolor": "white",
            "gridwidth": 2,
            "linecolor": "white",
            "showbackground": true,
            "ticks": "",
            "zerolinecolor": "white"
           }
          },
          "shapedefaults": {
           "line": {
            "color": "#2a3f5f"
           }
          },
          "ternary": {
           "aaxis": {
            "gridcolor": "white",
            "linecolor": "white",
            "ticks": ""
           },
           "baxis": {
            "gridcolor": "white",
            "linecolor": "white",
            "ticks": ""
           },
           "bgcolor": "#E5ECF6",
           "caxis": {
            "gridcolor": "white",
            "linecolor": "white",
            "ticks": ""
           }
          },
          "title": {
           "x": 0.05
          },
          "xaxis": {
           "automargin": true,
           "gridcolor": "white",
           "linecolor": "white",
           "ticks": "",
           "title": {
            "standoff": 15
           },
           "zerolinecolor": "white",
           "zerolinewidth": 2
          },
          "yaxis": {
           "automargin": true,
           "gridcolor": "white",
           "linecolor": "white",
           "ticks": "",
           "title": {
            "standoff": 15
           },
           "zerolinecolor": "white",
           "zerolinewidth": 2
          }
         }
        },
        "xaxis": {
         "anchor": "y",
         "domain": [
          0,
          1
         ],
         "title": {
          "text": "Strategy"
         }
        },
        "yaxis": {
         "anchor": "x",
         "domain": [
          0,
          1
         ],
         "title": {
          "text": "Return [%]"
         }
        }
       }
      }
     },
     "metadata": {},
     "output_type": "display_data"
    }
   ],
   "source": [
    "#取引ない月込み\n",
    "fig = px.box(df[\"Return [%]\"], points = \"all\")\n",
    "fig.update_layout(\n",
    "    xaxis_title = \"Strategy\",\n",
    "    yaxis_title = \"Return [%]\"\n",
    ")\n",
    "fig.show()"
   ]
  },
  {
   "cell_type": "code",
   "execution_count": 82,
   "metadata": {},
   "outputs": [
    {
     "name": "stdout",
     "output_type": "stream",
     "text": [
      "----------WORST----------\n",
      "Start                     2018-04-02 00:00:00\n",
      "End                       2018-09-28 00:00:00\n",
      "Duration                    179 days 00:00:00\n",
      "Exposure Time [%]                   36.923077\n",
      "Equity Final [$]                  740388.2993\n",
      "Equity Peak [$]                     1000000.0\n",
      "Return [%]                          -25.96117\n",
      "Buy & Hold Return [%]              -25.256223\n",
      "Return (Ann.) [%]                  -44.159107\n",
      "Volatility (Ann.) [%]                9.337603\n",
      "Sharpe Ratio                              0.0\n",
      "Sortino Ratio                             0.0\n",
      "Calmar Ratio                              0.0\n",
      "Max. Drawdown [%]                   -25.96117\n",
      "Avg. Drawdown [%]                   -25.96117\n",
      "Max. Drawdown Duration      122 days 00:00:00\n",
      "Avg. Drawdown Duration      122 days 00:00:00\n",
      "# Trades                                    4\n",
      "Win Rate [%]                              0.0\n",
      "Best Trade [%]                      -6.208604\n",
      "Worst Trade [%]                     -8.079405\n",
      "Avg. Trade [%]                      -7.244379\n",
      "Max. Trade Duration          28 days 00:00:00\n",
      "Avg. Trade Duration          16 days 00:00:00\n",
      "Profit Factor                             0.0\n",
      "Expectancy [%]                      -7.241623\n",
      "SQN                                 -12.66467\n",
      "_strategy                 RsiOscillator_En...\n",
      "_equity_curve                             ...\n",
      "_trades                      Size  EntryBa...\n",
      "dtype: object\n"
     ]
    },
    {
     "data": {
      "text/html": [
       "<div>\n",
       "<style scoped>\n",
       "    .dataframe tbody tr th:only-of-type {\n",
       "        vertical-align: middle;\n",
       "    }\n",
       "\n",
       "    .dataframe tbody tr th {\n",
       "        vertical-align: top;\n",
       "    }\n",
       "\n",
       "    .dataframe thead th {\n",
       "        text-align: right;\n",
       "    }\n",
       "</style>\n",
       "<table border=\"1\" class=\"dataframe\">\n",
       "  <thead>\n",
       "    <tr style=\"text-align: right;\">\n",
       "      <th></th>\n",
       "      <th>Size</th>\n",
       "      <th>EntryBar</th>\n",
       "      <th>ExitBar</th>\n",
       "      <th>EntryPrice</th>\n",
       "      <th>ExitPrice</th>\n",
       "      <th>PnL</th>\n",
       "      <th>ReturnPct</th>\n",
       "      <th>EntryTime</th>\n",
       "      <th>ExitTime</th>\n",
       "      <th>Duration</th>\n",
       "    </tr>\n",
       "  </thead>\n",
       "  <tbody>\n",
       "    <tr>\n",
       "      <th>0</th>\n",
       "      <td>774</td>\n",
       "      <td>42</td>\n",
       "      <td>49</td>\n",
       "      <td>1290.3558</td>\n",
       "      <td>1191.0</td>\n",
       "      <td>-76901.3892</td>\n",
       "      <td>-0.076999</td>\n",
       "      <td>2018-05-30</td>\n",
       "      <td>2018-06-08</td>\n",
       "      <td>9 days</td>\n",
       "    </tr>\n",
       "    <tr>\n",
       "      <th>1</th>\n",
       "      <td>743</td>\n",
       "      <td>57</td>\n",
       "      <td>77</td>\n",
       "      <td>1242.1182</td>\n",
       "      <td>1165.0</td>\n",
       "      <td>-57298.8226</td>\n",
       "      <td>-0.062086</td>\n",
       "      <td>2018-06-20</td>\n",
       "      <td>2018-07-18</td>\n",
       "      <td>28 days</td>\n",
       "    </tr>\n",
       "    <tr>\n",
       "      <th>2</th>\n",
       "      <td>691</td>\n",
       "      <td>95</td>\n",
       "      <td>106</td>\n",
       "      <td>1252.1677</td>\n",
       "      <td>1151.0</td>\n",
       "      <td>-69906.8807</td>\n",
       "      <td>-0.080794</td>\n",
       "      <td>2018-08-13</td>\n",
       "      <td>2018-08-28</td>\n",
       "      <td>15 days</td>\n",
       "    </tr>\n",
       "    <tr>\n",
       "      <th>3</th>\n",
       "      <td>653</td>\n",
       "      <td>114</td>\n",
       "      <td>120</td>\n",
       "      <td>1217.9994</td>\n",
       "      <td>1133.0</td>\n",
       "      <td>-55504.6082</td>\n",
       "      <td>-0.069786</td>\n",
       "      <td>2018-09-07</td>\n",
       "      <td>2018-09-17</td>\n",
       "      <td>10 days</td>\n",
       "    </tr>\n",
       "  </tbody>\n",
       "</table>\n",
       "</div>"
      ],
      "text/plain": [
       "   Size  EntryBar  ExitBar  EntryPrice  ExitPrice         PnL  ReturnPct  \\\n",
       "0   774        42       49   1290.3558     1191.0 -76901.3892  -0.076999   \n",
       "1   743        57       77   1242.1182     1165.0 -57298.8226  -0.062086   \n",
       "2   691        95      106   1252.1677     1151.0 -69906.8807  -0.080794   \n",
       "3   653       114      120   1217.9994     1133.0 -55504.6082  -0.069786   \n",
       "\n",
       "   EntryTime   ExitTime Duration  \n",
       "0 2018-05-30 2018-06-08   9 days  \n",
       "1 2018-06-20 2018-07-18  28 days  \n",
       "2 2018-08-13 2018-08-28  15 days  \n",
       "3 2018-09-07 2018-09-17  10 days  "
      ]
     },
     "metadata": {},
     "output_type": "display_data"
    },
    {
     "name": "stdout",
     "output_type": "stream",
     "text": [
      "----------MIN2----------\n",
      "Start                     2020-10-02 00:00:00\n",
      "End                       2021-03-31 00:00:00\n",
      "Duration                    180 days 00:00:00\n",
      "Exposure Time [%]                   18.852459\n",
      "Equity Final [$]                  781317.1089\n",
      "Equity Peak [$]                     1000000.0\n",
      "Return [%]                         -21.868289\n",
      "Buy & Hold Return [%]              -42.243767\n",
      "Return (Ann.) [%]                  -39.934243\n",
      "Volatility (Ann.) [%]                9.098588\n",
      "Sharpe Ratio                              0.0\n",
      "Sortino Ratio                             0.0\n",
      "Calmar Ratio                              0.0\n",
      "Max. Drawdown [%]                  -22.809289\n",
      "Avg. Drawdown [%]                  -22.809289\n",
      "Max. Drawdown Duration      152 days 00:00:00\n",
      "Avg. Drawdown Duration      152 days 00:00:00\n",
      "# Trades                                    4\n",
      "Win Rate [%]                              0.0\n",
      "Best Trade [%]                       -1.20673\n",
      "Worst Trade [%]                     -8.181773\n",
      "Avg. Trade [%]                      -5.985257\n",
      "Max. Trade Duration          12 days 00:00:00\n",
      "Avg. Trade Duration           7 days 00:00:00\n",
      "Profit Factor                             0.0\n",
      "Expectancy [%]                      -5.945393\n",
      "SQN                                  -3.61419\n",
      "_strategy                 RsiOscillator_En...\n",
      "_equity_curve                             ...\n",
      "_trades                      Size  EntryBa...\n",
      "dtype: object\n"
     ]
    },
    {
     "data": {
      "text/html": [
       "<div>\n",
       "<style scoped>\n",
       "    .dataframe tbody tr th:only-of-type {\n",
       "        vertical-align: middle;\n",
       "    }\n",
       "\n",
       "    .dataframe tbody tr th {\n",
       "        vertical-align: top;\n",
       "    }\n",
       "\n",
       "    .dataframe thead th {\n",
       "        text-align: right;\n",
       "    }\n",
       "</style>\n",
       "<table border=\"1\" class=\"dataframe\">\n",
       "  <thead>\n",
       "    <tr style=\"text-align: right;\">\n",
       "      <th></th>\n",
       "      <th>Size</th>\n",
       "      <th>EntryBar</th>\n",
       "      <th>ExitBar</th>\n",
       "      <th>EntryPrice</th>\n",
       "      <th>ExitPrice</th>\n",
       "      <th>PnL</th>\n",
       "      <th>ReturnPct</th>\n",
       "      <th>EntryTime</th>\n",
       "      <th>ExitTime</th>\n",
       "      <th>Duration</th>\n",
       "    </tr>\n",
       "  </thead>\n",
       "  <tbody>\n",
       "    <tr>\n",
       "      <th>0</th>\n",
       "      <td>1393</td>\n",
       "      <td>21</td>\n",
       "      <td>23</td>\n",
       "      <td>717.5343</td>\n",
       "      <td>665.0</td>\n",
       "      <td>-73180.2799</td>\n",
       "      <td>-0.073215</td>\n",
       "      <td>2020-11-02</td>\n",
       "      <td>2020-11-05</td>\n",
       "      <td>3 days</td>\n",
       "    </tr>\n",
       "    <tr>\n",
       "      <th>1</th>\n",
       "      <td>1905</td>\n",
       "      <td>81</td>\n",
       "      <td>84</td>\n",
       "      <td>486.3958</td>\n",
       "      <td>452.0</td>\n",
       "      <td>-65523.9990</td>\n",
       "      <td>-0.070716</td>\n",
       "      <td>2021-02-01</td>\n",
       "      <td>2021-02-04</td>\n",
       "      <td>3 days</td>\n",
       "    </tr>\n",
       "    <tr>\n",
       "      <th>2</th>\n",
       "      <td>1947</td>\n",
       "      <td>103</td>\n",
       "      <td>111</td>\n",
       "      <td>442.1780</td>\n",
       "      <td>406.0</td>\n",
       "      <td>-70438.5660</td>\n",
       "      <td>-0.081818</td>\n",
       "      <td>2021-03-05</td>\n",
       "      <td>2021-03-17</td>\n",
       "      <td>12 days</td>\n",
       "    </tr>\n",
       "    <tr>\n",
       "      <th>3</th>\n",
       "      <td>1882</td>\n",
       "      <td>115</td>\n",
       "      <td>121</td>\n",
       "      <td>420.0691</td>\n",
       "      <td>415.0</td>\n",
       "      <td>-9540.0462</td>\n",
       "      <td>-0.012067</td>\n",
       "      <td>2021-03-23</td>\n",
       "      <td>2021-03-31</td>\n",
       "      <td>8 days</td>\n",
       "    </tr>\n",
       "  </tbody>\n",
       "</table>\n",
       "</div>"
      ],
      "text/plain": [
       "   Size  EntryBar  ExitBar  EntryPrice  ExitPrice         PnL  ReturnPct  \\\n",
       "0  1393        21       23    717.5343      665.0 -73180.2799  -0.073215   \n",
       "1  1905        81       84    486.3958      452.0 -65523.9990  -0.070716   \n",
       "2  1947       103      111    442.1780      406.0 -70438.5660  -0.081818   \n",
       "3  1882       115      121    420.0691      415.0  -9540.0462  -0.012067   \n",
       "\n",
       "   EntryTime   ExitTime Duration  \n",
       "0 2020-11-02 2020-11-05   3 days  \n",
       "1 2021-02-01 2021-02-04   3 days  \n",
       "2 2021-03-05 2021-03-17  12 days  \n",
       "3 2021-03-23 2021-03-31   8 days  "
      ]
     },
     "metadata": {},
     "output_type": "display_data"
    },
    {
     "name": "stdout",
     "output_type": "stream",
     "text": [
      "----------MIN3----------\n",
      "Start                     2022-04-01 00:00:00\n",
      "End                       2022-09-20 00:00:00\n",
      "Duration                    172 days 00:00:00\n",
      "Exposure Time [%]                   47.413793\n",
      "Equity Final [$]                  857135.7723\n",
      "Equity Peak [$]                  1018505.5272\n",
      "Return [%]                         -14.286423\n",
      "Buy & Hold Return [%]               -5.912596\n",
      "Return (Ann.) [%]                  -28.458824\n",
      "Volatility (Ann.) [%]                 17.7164\n",
      "Sharpe Ratio                              0.0\n",
      "Sortino Ratio                             0.0\n",
      "Calmar Ratio                              0.0\n",
      "Max. Drawdown [%]                  -20.074613\n",
      "Avg. Drawdown [%]                  -20.074613\n",
      "Max. Drawdown Duration      123 days 00:00:00\n",
      "Avg. Drawdown Duration      123 days 00:00:00\n",
      "# Trades                                    6\n",
      "Win Rate [%]                        33.333333\n",
      "Best Trade [%]                       1.850609\n",
      "Worst Trade [%]                     -10.08364\n",
      "Avg. Trade [%]                      -2.537098\n",
      "Max. Trade Duration          37 days 00:00:00\n",
      "Avg. Trade Duration          12 days 00:00:00\n",
      "Profit Factor                        0.158166\n",
      "Expectancy [%]                      -2.437521\n",
      "SQN                                 -1.267971\n",
      "_strategy                 RsiOscillator_En...\n",
      "_equity_curve                             ...\n",
      "_trades                      Size  EntryBa...\n",
      "dtype: object\n"
     ]
    },
    {
     "data": {
      "text/html": [
       "<div>\n",
       "<style scoped>\n",
       "    .dataframe tbody tr th:only-of-type {\n",
       "        vertical-align: middle;\n",
       "    }\n",
       "\n",
       "    .dataframe tbody tr th {\n",
       "        vertical-align: top;\n",
       "    }\n",
       "\n",
       "    .dataframe thead th {\n",
       "        text-align: right;\n",
       "    }\n",
       "</style>\n",
       "<table border=\"1\" class=\"dataframe\">\n",
       "  <thead>\n",
       "    <tr style=\"text-align: right;\">\n",
       "      <th></th>\n",
       "      <th>Size</th>\n",
       "      <th>EntryBar</th>\n",
       "      <th>ExitBar</th>\n",
       "      <th>EntryPrice</th>\n",
       "      <th>ExitPrice</th>\n",
       "      <th>PnL</th>\n",
       "      <th>ReturnPct</th>\n",
       "      <th>EntryTime</th>\n",
       "      <th>ExitTime</th>\n",
       "      <th>Duration</th>\n",
       "    </tr>\n",
       "  </thead>\n",
       "  <tbody>\n",
       "    <tr>\n",
       "      <th>0</th>\n",
       "      <td>-2348</td>\n",
       "      <td>30</td>\n",
       "      <td>31</td>\n",
       "      <td>425.88140</td>\n",
       "      <td>418.0</td>\n",
       "      <td>18505.52720</td>\n",
       "      <td>0.018506</td>\n",
       "      <td>2022-05-19</td>\n",
       "      <td>2022-05-20</td>\n",
       "      <td>1 days</td>\n",
       "    </tr>\n",
       "    <tr>\n",
       "      <th>1</th>\n",
       "      <td>-2552</td>\n",
       "      <td>32</td>\n",
       "      <td>33</td>\n",
       "      <td>399.01505</td>\n",
       "      <td>401.0</td>\n",
       "      <td>-5065.59240</td>\n",
       "      <td>-0.004975</td>\n",
       "      <td>2022-05-23</td>\n",
       "      <td>2022-05-24</td>\n",
       "      <td>1 days</td>\n",
       "    </tr>\n",
       "    <tr>\n",
       "      <th>2</th>\n",
       "      <td>2465</td>\n",
       "      <td>34</td>\n",
       "      <td>42</td>\n",
       "      <td>411.02455</td>\n",
       "      <td>384.0</td>\n",
       "      <td>-66615.51575</td>\n",
       "      <td>-0.065749</td>\n",
       "      <td>2022-05-25</td>\n",
       "      <td>2022-06-06</td>\n",
       "      <td>12 days</td>\n",
       "    </tr>\n",
       "    <tr>\n",
       "      <th>3</th>\n",
       "      <td>2270</td>\n",
       "      <td>48</td>\n",
       "      <td>74</td>\n",
       "      <td>417.05425</td>\n",
       "      <td>375.0</td>\n",
       "      <td>-95463.14750</td>\n",
       "      <td>-0.100836</td>\n",
       "      <td>2022-06-14</td>\n",
       "      <td>2022-07-21</td>\n",
       "      <td>37 days</td>\n",
       "    </tr>\n",
       "    <tr>\n",
       "      <th>4</th>\n",
       "      <td>2366</td>\n",
       "      <td>101</td>\n",
       "      <td>112</td>\n",
       "      <td>359.77210</td>\n",
       "      <td>363.0</td>\n",
       "      <td>7637.21140</td>\n",
       "      <td>0.008972</td>\n",
       "      <td>2022-08-30</td>\n",
       "      <td>2022-09-14</td>\n",
       "      <td>15 days</td>\n",
       "    </tr>\n",
       "    <tr>\n",
       "      <th>5</th>\n",
       "      <td>2367</td>\n",
       "      <td>113</td>\n",
       "      <td>115</td>\n",
       "      <td>362.78695</td>\n",
       "      <td>362.0</td>\n",
       "      <td>-1862.71065</td>\n",
       "      <td>-0.002169</td>\n",
       "      <td>2022-09-15</td>\n",
       "      <td>2022-09-20</td>\n",
       "      <td>5 days</td>\n",
       "    </tr>\n",
       "  </tbody>\n",
       "</table>\n",
       "</div>"
      ],
      "text/plain": [
       "   Size  EntryBar  ExitBar  EntryPrice  ExitPrice          PnL  ReturnPct  \\\n",
       "0 -2348        30       31   425.88140      418.0  18505.52720   0.018506   \n",
       "1 -2552        32       33   399.01505      401.0  -5065.59240  -0.004975   \n",
       "2  2465        34       42   411.02455      384.0 -66615.51575  -0.065749   \n",
       "3  2270        48       74   417.05425      375.0 -95463.14750  -0.100836   \n",
       "4  2366       101      112   359.77210      363.0   7637.21140   0.008972   \n",
       "5  2367       113      115   362.78695      362.0  -1862.71065  -0.002169   \n",
       "\n",
       "   EntryTime   ExitTime Duration  \n",
       "0 2022-05-19 2022-05-20   1 days  \n",
       "1 2022-05-23 2022-05-24   1 days  \n",
       "2 2022-05-25 2022-06-06  12 days  \n",
       "3 2022-06-14 2022-07-21  37 days  \n",
       "4 2022-08-30 2022-09-14  15 days  \n",
       "5 2022-09-15 2022-09-20   5 days  "
      ]
     },
     "metadata": {},
     "output_type": "display_data"
    },
    {
     "name": "stdout",
     "output_type": "stream",
     "text": [
      "----------BEST----------\n",
      "Start                     2019-10-01 00:00:00\n",
      "End                       2020-03-31 00:00:00\n",
      "Duration                    182 days 00:00:00\n",
      "Exposure Time [%]                   26.666667\n",
      "Equity Final [$]                  1189038.057\n",
      "Equity Peak [$]                   1189038.057\n",
      "Return [%]                          18.903806\n",
      "Buy & Hold Return [%]               15.318744\n",
      "Return (Ann.) [%]                   43.850404\n",
      "Volatility (Ann.) [%]               34.391672\n",
      "Sharpe Ratio                          1.27503\n",
      "Sortino Ratio                        3.465476\n",
      "Calmar Ratio                         3.473708\n",
      "Max. Drawdown [%]                  -12.623513\n",
      "Avg. Drawdown [%]                   -5.764326\n",
      "Max. Drawdown Duration       50 days 00:00:00\n",
      "Avg. Drawdown Duration       18 days 00:00:00\n",
      "# Trades                                    4\n",
      "Win Rate [%]                             75.0\n",
      "Best Trade [%]                      14.874961\n",
      "Worst Trade [%]                     -5.764479\n",
      "Avg. Trade [%]                       4.424254\n",
      "Max. Trade Duration          31 days 00:00:00\n",
      "Avg. Trade Duration          11 days 00:00:00\n",
      "Profit Factor                        4.247937\n",
      "Expectancy [%]                       4.680666\n",
      "SQN                                  1.164164\n",
      "_strategy                 RsiOscillator_En...\n",
      "_equity_curve                             ...\n",
      "_trades                      Size  EntryBa...\n",
      "dtype: object\n"
     ]
    },
    {
     "data": {
      "text/html": [
       "<div>\n",
       "<style scoped>\n",
       "    .dataframe tbody tr th:only-of-type {\n",
       "        vertical-align: middle;\n",
       "    }\n",
       "\n",
       "    .dataframe tbody tr th {\n",
       "        vertical-align: top;\n",
       "    }\n",
       "\n",
       "    .dataframe thead th {\n",
       "        text-align: right;\n",
       "    }\n",
       "</style>\n",
       "<table border=\"1\" class=\"dataframe\">\n",
       "  <thead>\n",
       "    <tr style=\"text-align: right;\">\n",
       "      <th></th>\n",
       "      <th>Size</th>\n",
       "      <th>EntryBar</th>\n",
       "      <th>ExitBar</th>\n",
       "      <th>EntryPrice</th>\n",
       "      <th>ExitPrice</th>\n",
       "      <th>PnL</th>\n",
       "      <th>ReturnPct</th>\n",
       "      <th>EntryTime</th>\n",
       "      <th>ExitTime</th>\n",
       "      <th>Duration</th>\n",
       "    </tr>\n",
       "  </thead>\n",
       "  <tbody>\n",
       "    <tr>\n",
       "      <th>0</th>\n",
       "      <td>1098</td>\n",
       "      <td>63</td>\n",
       "      <td>68</td>\n",
       "      <td>910.48470</td>\n",
       "      <td>858.0</td>\n",
       "      <td>-57628.20060</td>\n",
       "      <td>-0.057645</td>\n",
       "      <td>2020-01-07</td>\n",
       "      <td>2020-01-15</td>\n",
       "      <td>8 days</td>\n",
       "    </tr>\n",
       "    <tr>\n",
       "      <th>1</th>\n",
       "      <td>1027</td>\n",
       "      <td>77</td>\n",
       "      <td>98</td>\n",
       "      <td>917.51935</td>\n",
       "      <td>1054.0</td>\n",
       "      <td>140165.62755</td>\n",
       "      <td>0.148750</td>\n",
       "      <td>2020-01-28</td>\n",
       "      <td>2020-02-28</td>\n",
       "      <td>31 days</td>\n",
       "    </tr>\n",
       "    <tr>\n",
       "      <th>2</th>\n",
       "      <td>-878</td>\n",
       "      <td>116</td>\n",
       "      <td>117</td>\n",
       "      <td>1232.86695</td>\n",
       "      <td>1179.0</td>\n",
       "      <td>47295.18210</td>\n",
       "      <td>0.043692</td>\n",
       "      <td>2020-03-26</td>\n",
       "      <td>2020-03-27</td>\n",
       "      <td>1 days</td>\n",
       "    </tr>\n",
       "    <tr>\n",
       "      <th>3</th>\n",
       "      <td>-913</td>\n",
       "      <td>118</td>\n",
       "      <td>119</td>\n",
       "      <td>1236.84715</td>\n",
       "      <td>1172.0</td>\n",
       "      <td>59205.44795</td>\n",
       "      <td>0.052429</td>\n",
       "      <td>2020-03-30</td>\n",
       "      <td>2020-03-31</td>\n",
       "      <td>1 days</td>\n",
       "    </tr>\n",
       "  </tbody>\n",
       "</table>\n",
       "</div>"
      ],
      "text/plain": [
       "   Size  EntryBar  ExitBar  EntryPrice  ExitPrice           PnL  ReturnPct  \\\n",
       "0  1098        63       68   910.48470      858.0  -57628.20060  -0.057645   \n",
       "1  1027        77       98   917.51935     1054.0  140165.62755   0.148750   \n",
       "2  -878       116      117  1232.86695     1179.0   47295.18210   0.043692   \n",
       "3  -913       118      119  1236.84715     1172.0   59205.44795   0.052429   \n",
       "\n",
       "   EntryTime   ExitTime Duration  \n",
       "0 2020-01-07 2020-01-15   8 days  \n",
       "1 2020-01-28 2020-02-28  31 days  \n",
       "2 2020-03-26 2020-03-27   1 days  \n",
       "3 2020-03-30 2020-03-31   1 days  "
      ]
     },
     "metadata": {},
     "output_type": "display_data"
    },
    {
     "data": {
      "text/html": [
       "<div style=\"display: table;\"><div style=\"display: table-row;\"><div style=\"display: table-cell;\"><b title=\"bokeh.models.layouts.Row\">Row</b>(</div><div style=\"display: table-cell;\">id&nbsp;=&nbsp;'44564', <span id=\"45295\" style=\"cursor: pointer;\">&hellip;)</span></div></div><div class=\"45294\" style=\"display: none;\"><div style=\"display: table-cell;\"></div><div style=\"display: table-cell;\">align&nbsp;=&nbsp;'start',</div></div><div class=\"45294\" style=\"display: none;\"><div style=\"display: table-cell;\"></div><div style=\"display: table-cell;\">aspect_ratio&nbsp;=&nbsp;None,</div></div><div class=\"45294\" style=\"display: none;\"><div style=\"display: table-cell;\"></div><div style=\"display: table-cell;\">background&nbsp;=&nbsp;None,</div></div><div class=\"45294\" style=\"display: none;\"><div style=\"display: table-cell;\"></div><div style=\"display: table-cell;\">children&nbsp;=&nbsp;[GridBox(id='44561', ...), ToolbarBox(id='44563', ...)],</div></div><div class=\"45294\" style=\"display: none;\"><div style=\"display: table-cell;\"></div><div style=\"display: table-cell;\">cols&nbsp;=&nbsp;'auto',</div></div><div class=\"45294\" style=\"display: none;\"><div style=\"display: table-cell;\"></div><div style=\"display: table-cell;\">css_classes&nbsp;=&nbsp;[],</div></div><div class=\"45294\" style=\"display: none;\"><div style=\"display: table-cell;\"></div><div style=\"display: table-cell;\">disabled&nbsp;=&nbsp;False,</div></div><div class=\"45294\" style=\"display: none;\"><div style=\"display: table-cell;\"></div><div style=\"display: table-cell;\">height&nbsp;=&nbsp;None,</div></div><div class=\"45294\" style=\"display: none;\"><div style=\"display: table-cell;\"></div><div style=\"display: table-cell;\">height_policy&nbsp;=&nbsp;'auto',</div></div><div class=\"45294\" style=\"display: none;\"><div style=\"display: table-cell;\"></div><div style=\"display: table-cell;\">js_event_callbacks&nbsp;=&nbsp;{},</div></div><div class=\"45294\" style=\"display: none;\"><div style=\"display: table-cell;\"></div><div style=\"display: table-cell;\">js_property_callbacks&nbsp;=&nbsp;{},</div></div><div class=\"45294\" style=\"display: none;\"><div style=\"display: table-cell;\"></div><div style=\"display: table-cell;\">margin&nbsp;=&nbsp;(0, 0, 0, 0),</div></div><div class=\"45294\" style=\"display: none;\"><div style=\"display: table-cell;\"></div><div style=\"display: table-cell;\">max_height&nbsp;=&nbsp;None,</div></div><div class=\"45294\" style=\"display: none;\"><div style=\"display: table-cell;\"></div><div style=\"display: table-cell;\">max_width&nbsp;=&nbsp;None,</div></div><div class=\"45294\" style=\"display: none;\"><div style=\"display: table-cell;\"></div><div style=\"display: table-cell;\">min_height&nbsp;=&nbsp;None,</div></div><div class=\"45294\" style=\"display: none;\"><div style=\"display: table-cell;\"></div><div style=\"display: table-cell;\">min_width&nbsp;=&nbsp;None,</div></div><div class=\"45294\" style=\"display: none;\"><div style=\"display: table-cell;\"></div><div style=\"display: table-cell;\">name&nbsp;=&nbsp;None,</div></div><div class=\"45294\" style=\"display: none;\"><div style=\"display: table-cell;\"></div><div style=\"display: table-cell;\">sizing_mode&nbsp;=&nbsp;'stretch_width',</div></div><div class=\"45294\" style=\"display: none;\"><div style=\"display: table-cell;\"></div><div style=\"display: table-cell;\">spacing&nbsp;=&nbsp;0,</div></div><div class=\"45294\" style=\"display: none;\"><div style=\"display: table-cell;\"></div><div style=\"display: table-cell;\">subscribed_events&nbsp;=&nbsp;[],</div></div><div class=\"45294\" style=\"display: none;\"><div style=\"display: table-cell;\"></div><div style=\"display: table-cell;\">syncable&nbsp;=&nbsp;True,</div></div><div class=\"45294\" style=\"display: none;\"><div style=\"display: table-cell;\"></div><div style=\"display: table-cell;\">tags&nbsp;=&nbsp;[],</div></div><div class=\"45294\" style=\"display: none;\"><div style=\"display: table-cell;\"></div><div style=\"display: table-cell;\">visible&nbsp;=&nbsp;True,</div></div><div class=\"45294\" style=\"display: none;\"><div style=\"display: table-cell;\"></div><div style=\"display: table-cell;\">width&nbsp;=&nbsp;None,</div></div><div class=\"45294\" style=\"display: none;\"><div style=\"display: table-cell;\"></div><div style=\"display: table-cell;\">width_policy&nbsp;=&nbsp;'auto')</div></div></div>\n",
       "<script>\n",
       "(function() {\n",
       "  let expanded = false;\n",
       "  const ellipsis = document.getElementById(\"45295\");\n",
       "  ellipsis.addEventListener(\"click\", function() {\n",
       "    const rows = document.getElementsByClassName(\"45294\");\n",
       "    for (let i = 0; i < rows.length; i++) {\n",
       "      const el = rows[i];\n",
       "      el.style.display = expanded ? \"none\" : \"table-row\";\n",
       "    }\n",
       "    ellipsis.innerHTML = expanded ? \"&hellip;)\" : \"&lsaquo;&lsaquo;&lsaquo;\";\n",
       "    expanded = !expanded;\n",
       "  });\n",
       "})();\n",
       "</script>\n"
      ],
      "text/plain": [
       "Row(id='44564', ...)"
      ]
     },
     "execution_count": 82,
     "metadata": {},
     "output_type": "execute_result"
    }
   ],
   "source": [
    "#最低と最高の期間のバックテストを表示\n",
    "\n",
    "print(\"----------WORST----------\")\n",
    "bt = Backtest(\n",
    "    df_min, # チャートデータ\n",
    "    eval(classname), # 売買戦略\n",
    "    cash=initial, # 最初の所持金\n",
    "    commission=0.00495, # 取引手数料\n",
    "    margin=1.0, # レバレッジ倍率の逆数（0.5で2倍レバレッジ）\n",
    "    trade_on_close=False, # True：現在の終値で取引，False：次の時間の始値で取引\n",
    "    exclusive_orders=True, #自動でポジションをクローズ(オープン)\n",
    ")\n",
    "output = bt.run() # バックテスト実行\n",
    "print(output) # 実行結果(データ)\n",
    "display(output._trades)\n",
    "bt.plot(filename = fname + str(output._strategy) + \"_min.html\") # 実行結果（グラフ）\n",
    "\n",
    "print(\"----------MIN2----------\")\n",
    "bt = Backtest(\n",
    "    df_min2, # チャートデータ\n",
    "    eval(classname), # 売買戦略\n",
    "    cash=initial, # 最初の所持金\n",
    "    commission=0.00495, # 取引手数料\n",
    "    margin=1.0, # レバレッジ倍率の逆数（0.5で2倍レバレッジ）\n",
    "    trade_on_close=False, # True：現在の終値で取引，False：次の時間の始値で取引\n",
    "    exclusive_orders=True, #自動でポジションをクローズ(オープン)\n",
    ")\n",
    "output = bt.run() # バックテスト実行\n",
    "print(output) # 実行結果(データ)\n",
    "display(output._trades)\n",
    "bt.plot(filename = fname + str(output._strategy) + \"_min2.html\") # 実行結果（グラフ）\n",
    "\n",
    "print(\"----------MIN3----------\")\n",
    "bt = Backtest(\n",
    "    df_min3, # チャートデータ\n",
    "    eval(classname), # 売買戦略\n",
    "    cash=initial, # 最初の所持金\n",
    "    commission=0.00495, # 取引手数料\n",
    "    margin=1.0, # レバレッジ倍率の逆数（0.5で2倍レバレッジ）\n",
    "    trade_on_close=False, # True：現在の終値で取引，False：次の時間の始値で取引\n",
    "    exclusive_orders=True, #自動でポジションをクローズ(オープン)\n",
    ")\n",
    "output = bt.run() # バックテスト実行\n",
    "print(output) # 実行結果(データ)\n",
    "display(output._trades)\n",
    "bt.plot(filename = fname + str(output._strategy) + \"_min3.html\") # 実行結果（グラフ）\n",
    "\n",
    "print(\"----------BEST----------\")\n",
    "bt = Backtest(\n",
    "    df_max, # チャートデータ\n",
    "    eval(classname), # 売買戦略\n",
    "    cash=initial, # 最初の所持金\n",
    "    commission=0.00495, # 取引手数料\n",
    "    margin=1.0, # レバレッジ倍率の逆数（0.5で2倍レバレッジ）\n",
    "    trade_on_close=False, # True：現在の終値で取引，False：次の時間の始値で取引\n",
    "    exclusive_orders=True, #自動でポジションをクローズ(オープン)\n",
    ")\n",
    "output = bt.run() # バックテスト実行\n",
    "print(output) # 実行結果(データ)\n",
    "display(output._trades)\n",
    "bt.plot(filename = fname + str(output._strategy) + \"_max.html\") # 実行結果（グラフ）"
   ]
  }
 ],
 "metadata": {
  "kernelspec": {
   "display_name": "Python 3.10.6 64-bit",
   "language": "python",
   "name": "python3"
  },
  "language_info": {
   "codemirror_mode": {
    "name": "ipython",
    "version": 3
   },
   "file_extension": ".py",
   "mimetype": "text/x-python",
   "name": "python",
   "nbconvert_exporter": "python",
   "pygments_lexer": "ipython3",
   "version": "3.10.6"
  },
  "orig_nbformat": 4,
  "vscode": {
   "interpreter": {
    "hash": "369f2c481f4da34e4445cda3fffd2e751bd1c4d706f27375911949ba6bb62e1c"
   }
  }
 },
 "nbformat": 4,
 "nbformat_minor": 2
}
