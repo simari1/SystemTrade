{
 "cells": [
  {
   "cell_type": "code",
   "execution_count": 20,
   "metadata": {},
   "outputs": [],
   "source": [
    "import pandas_datareader.data as web\n",
    "import pandas as pd\n",
    "import datetime\n",
    "from decimal import Decimal\n",
    "from dateutil import relativedelta\n",
    "from backtesting import Backtest, Strategy\n",
    "from backtesting.lib import crossover, resample_apply\n",
    "import importlib\n",
    "import plotly.express as px\n",
    "\n",
    "#Change me!\n",
    "start = datetime.datetime.today() + relativedelta.relativedelta(years=-10)\n",
    "split_unit = \"1Y\"\n",
    "modulename = \"BacktestingStrategies.Strategy_MacdCross\"\n",
    "classname = \"btst.MACDCross\"\n",
    "end = datetime.date.today()\n",
    "\n",
    "data = web.DataReader('1570.T', 'yahoo', start, end)  #NEXT FUNDS 日経平均ダブルインバース・インデックス連動型上場投信\n",
    "data = data.astype(\"double\")\n",
    "\n",
    "initial = 1000_000\n",
    "fname = f\"html/plot-\""
   ]
  },
  {
   "cell_type": "code",
   "execution_count": 21,
   "metadata": {},
   "outputs": [],
   "source": [
    "#日付データを検証期間単位ごとにSplit\n",
    "#https://kakakakakku.hatenablog.com/entry/2021/05/24/002542\n",
    "grouped_data = data.groupby(pd.Grouper(freq = split_unit))\n",
    "dfs = [group for _, group in grouped_data]"
   ]
  },
  {
   "cell_type": "code",
   "execution_count": 22,
   "metadata": {},
   "outputs": [],
   "source": [
    "#検証期間単位ごとにバックテスト＆結果を蓄積\n",
    "#親ディレクトリ経由で呼び出し   # https://qiita.com/yokohama4580/items/466a483ae022d264c8ee\n",
    "import os\n",
    "import sys\n",
    "sys.path.append(os.pardir)\n",
    "\n",
    "btst = importlib.import_module(modulename)\n",
    "# from BacktestingStrategies import Strategy_RsiOscillator as btst\n",
    "importlib.reload(btst)\n",
    "import warnings\n",
    "warnings.simplefilter('ignore')\n",
    "\n",
    "returns = []\n",
    "\n",
    "for monthly_data in dfs:\n",
    "    # バックテストを設定\n",
    "    bt = Backtest(\n",
    "        monthly_data, # チャートデータ\n",
    "        eval(classname), # 売買戦略\n",
    "        cash=initial, # 最初の所持金\n",
    "        commission=0.00495, # 取引手数料\n",
    "        margin=1.0, # レバレッジ倍率の逆数（0.5で2倍レバレッジ）\n",
    "        trade_on_close=False, # True：現在の終値で取引，False：次の時間の始値で取引\n",
    "        exclusive_orders=True #自動でポジションをクローズ(オープン)\n",
    "    )\n",
    "\n",
    "    output = bt.run() # バックテスト実行\n",
    "    returns.append(output)"
   ]
  },
  {
   "cell_type": "code",
   "execution_count": 23,
   "metadata": {},
   "outputs": [
    {
     "name": "stdout",
     "output_type": "stream",
     "text": [
      "１期間単位: 1Y\n",
      "テスト期間: 11\n",
      "平均Return [%]: 8.8137\n",
      "最大Return [%]: 23.332619999999995\n",
      "最大Return期間: 2013-01-04T00:00:00.000000000 - 2013-12-30T00:00:00.000000000\n",
      "最低Return [%]: -13.627303849999992\n",
      "最低Return期間: 2018-01-01T00:00:00.000000000 - 2018-12-31T00:00:00.000000000\n"
     ]
    }
   ],
   "source": [
    "import statistics\n",
    "\n",
    "df = pd.DataFrame(returns)\n",
    "\n",
    "#最低と最大の期間のBacktestingを表示＆実行\n",
    "lines = \"１期間単位: \" + split_unit + \"\\n\"\n",
    "lines += \"テスト期間: \" + str(len(returns)) + \"\\n\"\n",
    "res = round(statistics.mean(df[\"Return [%]\"]), 4)\n",
    "\n",
    "#リターンが最小のものの期間を取得\n",
    "min_return = df[df[\"# Trades\"] != 0][\"Return [%]\"].min()\n",
    "min_period_start = pd.to_datetime(df[df[\"Return [%]\"] == min_return][\"Start\"]).values[0]\n",
    "min_period_end = pd.to_datetime(df[df[\"Return [%]\"] == min_return][\"End\"]).values[0]\n",
    "df_min = data[min_period_start : min_period_end]\n",
    "\n",
    "#リターンが2番目、3番目に小さいものの期間を取得\n",
    "min_return_3 = df[df[\"# Trades\"] != 0][\"Return [%]\"].nsmallest(3)\n",
    "min2_period_start = pd.to_datetime(df[df[\"Return [%]\"] == min_return_3.values[1]][\"Start\"]).values[0]\n",
    "min2_period_end = pd.to_datetime(df[df[\"Return [%]\"] == min_return_3.values[1]][\"End\"]).values[0]\n",
    "min3_period_start = pd.to_datetime(df[df[\"Return [%]\"] == min_return_3.values[2]][\"Start\"]).values[0]\n",
    "min3_period_end = pd.to_datetime(df[df[\"Return [%]\"] == min_return_3.values[2]][\"End\"]).values[0]\n",
    "df_min2 = data[min2_period_start : min2_period_end]\n",
    "df_min3 = data[min3_period_start : min3_period_end]\n",
    "\n",
    "#リターンが最大のものの期間を取得\n",
    "max_return = df[df[\"# Trades\"] != 0][\"Return [%]\"].max()\n",
    "max_period_start = pd.to_datetime(df[df[\"Return [%]\"] == max_return][\"Start\"]).values[0]\n",
    "max_period_end = pd.to_datetime(df[df[\"Return [%]\"] == max_return][\"End\"]).values[0]\n",
    "df_max = data[max_period_start : max_period_end]\n",
    "\n",
    "lines += \"平均Return [%]: \" + str(res) + \"\\n\"\n",
    "lines += \"最大Return [%]: \" + str(max_return) + \"\\n\"\n",
    "lines += \"最大Return期間: \" + str(max_period_start) + \" - \" + str(max_period_end) + \"\\n\"\n",
    "lines += \"最低Return [%]: \" + str(min_return) + \"\\n\"\n",
    "lines += \"最低Return期間: \" + str(min_period_start) + \" - \" + str(min_period_end) \n",
    "\n",
    "print(lines)\n",
    "\n"
   ]
  },
  {
   "cell_type": "code",
   "execution_count": 24,
   "metadata": {},
   "outputs": [
    {
     "data": {
      "application/vnd.plotly.v1+json": {
       "config": {
        "plotlyServerURL": "https://plot.ly"
       },
       "data": [
        {
         "alignmentgroup": "True",
         "boxpoints": "all",
         "hovertemplate": "variable=%{x}<br>value=%{y}<extra></extra>",
         "legendgroup": "",
         "marker": {
          "color": "#636efa"
         },
         "name": "",
         "notched": false,
         "offsetgroup": "",
         "orientation": "v",
         "showlegend": false,
         "type": "box",
         "x": [
          "Return [%]",
          "Return [%]",
          "Return [%]",
          "Return [%]",
          "Return [%]",
          "Return [%]",
          "Return [%]",
          "Return [%]",
          "Return [%]",
          "Return [%]",
          "Return [%]"
         ],
         "x0": " ",
         "xaxis": "x",
         "y": [
          0,
          23.332619999999995,
          16.744869400000013,
          -3.4731821,
          13.286659649999974,
          11.523555849999982,
          -13.627303849999992,
          19.299089400000007,
          11.838077199999988,
          2.1110600249999902,
          15.915381275000003
         ],
         "y0": " ",
         "yaxis": "y"
        }
       ],
       "layout": {
        "boxmode": "group",
        "legend": {
         "tracegroupgap": 0
        },
        "margin": {
         "t": 60
        },
        "template": {
         "data": {
          "bar": [
           {
            "error_x": {
             "color": "#2a3f5f"
            },
            "error_y": {
             "color": "#2a3f5f"
            },
            "marker": {
             "line": {
              "color": "#E5ECF6",
              "width": 0.5
             },
             "pattern": {
              "fillmode": "overlay",
              "size": 10,
              "solidity": 0.2
             }
            },
            "type": "bar"
           }
          ],
          "barpolar": [
           {
            "marker": {
             "line": {
              "color": "#E5ECF6",
              "width": 0.5
             },
             "pattern": {
              "fillmode": "overlay",
              "size": 10,
              "solidity": 0.2
             }
            },
            "type": "barpolar"
           }
          ],
          "carpet": [
           {
            "aaxis": {
             "endlinecolor": "#2a3f5f",
             "gridcolor": "white",
             "linecolor": "white",
             "minorgridcolor": "white",
             "startlinecolor": "#2a3f5f"
            },
            "baxis": {
             "endlinecolor": "#2a3f5f",
             "gridcolor": "white",
             "linecolor": "white",
             "minorgridcolor": "white",
             "startlinecolor": "#2a3f5f"
            },
            "type": "carpet"
           }
          ],
          "choropleth": [
           {
            "colorbar": {
             "outlinewidth": 0,
             "ticks": ""
            },
            "type": "choropleth"
           }
          ],
          "contour": [
           {
            "colorbar": {
             "outlinewidth": 0,
             "ticks": ""
            },
            "colorscale": [
             [
              0,
              "#0d0887"
             ],
             [
              0.1111111111111111,
              "#46039f"
             ],
             [
              0.2222222222222222,
              "#7201a8"
             ],
             [
              0.3333333333333333,
              "#9c179e"
             ],
             [
              0.4444444444444444,
              "#bd3786"
             ],
             [
              0.5555555555555556,
              "#d8576b"
             ],
             [
              0.6666666666666666,
              "#ed7953"
             ],
             [
              0.7777777777777778,
              "#fb9f3a"
             ],
             [
              0.8888888888888888,
              "#fdca26"
             ],
             [
              1,
              "#f0f921"
             ]
            ],
            "type": "contour"
           }
          ],
          "contourcarpet": [
           {
            "colorbar": {
             "outlinewidth": 0,
             "ticks": ""
            },
            "type": "contourcarpet"
           }
          ],
          "heatmap": [
           {
            "colorbar": {
             "outlinewidth": 0,
             "ticks": ""
            },
            "colorscale": [
             [
              0,
              "#0d0887"
             ],
             [
              0.1111111111111111,
              "#46039f"
             ],
             [
              0.2222222222222222,
              "#7201a8"
             ],
             [
              0.3333333333333333,
              "#9c179e"
             ],
             [
              0.4444444444444444,
              "#bd3786"
             ],
             [
              0.5555555555555556,
              "#d8576b"
             ],
             [
              0.6666666666666666,
              "#ed7953"
             ],
             [
              0.7777777777777778,
              "#fb9f3a"
             ],
             [
              0.8888888888888888,
              "#fdca26"
             ],
             [
              1,
              "#f0f921"
             ]
            ],
            "type": "heatmap"
           }
          ],
          "heatmapgl": [
           {
            "colorbar": {
             "outlinewidth": 0,
             "ticks": ""
            },
            "colorscale": [
             [
              0,
              "#0d0887"
             ],
             [
              0.1111111111111111,
              "#46039f"
             ],
             [
              0.2222222222222222,
              "#7201a8"
             ],
             [
              0.3333333333333333,
              "#9c179e"
             ],
             [
              0.4444444444444444,
              "#bd3786"
             ],
             [
              0.5555555555555556,
              "#d8576b"
             ],
             [
              0.6666666666666666,
              "#ed7953"
             ],
             [
              0.7777777777777778,
              "#fb9f3a"
             ],
             [
              0.8888888888888888,
              "#fdca26"
             ],
             [
              1,
              "#f0f921"
             ]
            ],
            "type": "heatmapgl"
           }
          ],
          "histogram": [
           {
            "marker": {
             "pattern": {
              "fillmode": "overlay",
              "size": 10,
              "solidity": 0.2
             }
            },
            "type": "histogram"
           }
          ],
          "histogram2d": [
           {
            "colorbar": {
             "outlinewidth": 0,
             "ticks": ""
            },
            "colorscale": [
             [
              0,
              "#0d0887"
             ],
             [
              0.1111111111111111,
              "#46039f"
             ],
             [
              0.2222222222222222,
              "#7201a8"
             ],
             [
              0.3333333333333333,
              "#9c179e"
             ],
             [
              0.4444444444444444,
              "#bd3786"
             ],
             [
              0.5555555555555556,
              "#d8576b"
             ],
             [
              0.6666666666666666,
              "#ed7953"
             ],
             [
              0.7777777777777778,
              "#fb9f3a"
             ],
             [
              0.8888888888888888,
              "#fdca26"
             ],
             [
              1,
              "#f0f921"
             ]
            ],
            "type": "histogram2d"
           }
          ],
          "histogram2dcontour": [
           {
            "colorbar": {
             "outlinewidth": 0,
             "ticks": ""
            },
            "colorscale": [
             [
              0,
              "#0d0887"
             ],
             [
              0.1111111111111111,
              "#46039f"
             ],
             [
              0.2222222222222222,
              "#7201a8"
             ],
             [
              0.3333333333333333,
              "#9c179e"
             ],
             [
              0.4444444444444444,
              "#bd3786"
             ],
             [
              0.5555555555555556,
              "#d8576b"
             ],
             [
              0.6666666666666666,
              "#ed7953"
             ],
             [
              0.7777777777777778,
              "#fb9f3a"
             ],
             [
              0.8888888888888888,
              "#fdca26"
             ],
             [
              1,
              "#f0f921"
             ]
            ],
            "type": "histogram2dcontour"
           }
          ],
          "mesh3d": [
           {
            "colorbar": {
             "outlinewidth": 0,
             "ticks": ""
            },
            "type": "mesh3d"
           }
          ],
          "parcoords": [
           {
            "line": {
             "colorbar": {
              "outlinewidth": 0,
              "ticks": ""
             }
            },
            "type": "parcoords"
           }
          ],
          "pie": [
           {
            "automargin": true,
            "type": "pie"
           }
          ],
          "scatter": [
           {
            "fillpattern": {
             "fillmode": "overlay",
             "size": 10,
             "solidity": 0.2
            },
            "type": "scatter"
           }
          ],
          "scatter3d": [
           {
            "line": {
             "colorbar": {
              "outlinewidth": 0,
              "ticks": ""
             }
            },
            "marker": {
             "colorbar": {
              "outlinewidth": 0,
              "ticks": ""
             }
            },
            "type": "scatter3d"
           }
          ],
          "scattercarpet": [
           {
            "marker": {
             "colorbar": {
              "outlinewidth": 0,
              "ticks": ""
             }
            },
            "type": "scattercarpet"
           }
          ],
          "scattergeo": [
           {
            "marker": {
             "colorbar": {
              "outlinewidth": 0,
              "ticks": ""
             }
            },
            "type": "scattergeo"
           }
          ],
          "scattergl": [
           {
            "marker": {
             "colorbar": {
              "outlinewidth": 0,
              "ticks": ""
             }
            },
            "type": "scattergl"
           }
          ],
          "scattermapbox": [
           {
            "marker": {
             "colorbar": {
              "outlinewidth": 0,
              "ticks": ""
             }
            },
            "type": "scattermapbox"
           }
          ],
          "scatterpolar": [
           {
            "marker": {
             "colorbar": {
              "outlinewidth": 0,
              "ticks": ""
             }
            },
            "type": "scatterpolar"
           }
          ],
          "scatterpolargl": [
           {
            "marker": {
             "colorbar": {
              "outlinewidth": 0,
              "ticks": ""
             }
            },
            "type": "scatterpolargl"
           }
          ],
          "scatterternary": [
           {
            "marker": {
             "colorbar": {
              "outlinewidth": 0,
              "ticks": ""
             }
            },
            "type": "scatterternary"
           }
          ],
          "surface": [
           {
            "colorbar": {
             "outlinewidth": 0,
             "ticks": ""
            },
            "colorscale": [
             [
              0,
              "#0d0887"
             ],
             [
              0.1111111111111111,
              "#46039f"
             ],
             [
              0.2222222222222222,
              "#7201a8"
             ],
             [
              0.3333333333333333,
              "#9c179e"
             ],
             [
              0.4444444444444444,
              "#bd3786"
             ],
             [
              0.5555555555555556,
              "#d8576b"
             ],
             [
              0.6666666666666666,
              "#ed7953"
             ],
             [
              0.7777777777777778,
              "#fb9f3a"
             ],
             [
              0.8888888888888888,
              "#fdca26"
             ],
             [
              1,
              "#f0f921"
             ]
            ],
            "type": "surface"
           }
          ],
          "table": [
           {
            "cells": {
             "fill": {
              "color": "#EBF0F8"
             },
             "line": {
              "color": "white"
             }
            },
            "header": {
             "fill": {
              "color": "#C8D4E3"
             },
             "line": {
              "color": "white"
             }
            },
            "type": "table"
           }
          ]
         },
         "layout": {
          "annotationdefaults": {
           "arrowcolor": "#2a3f5f",
           "arrowhead": 0,
           "arrowwidth": 1
          },
          "autotypenumbers": "strict",
          "coloraxis": {
           "colorbar": {
            "outlinewidth": 0,
            "ticks": ""
           }
          },
          "colorscale": {
           "diverging": [
            [
             0,
             "#8e0152"
            ],
            [
             0.1,
             "#c51b7d"
            ],
            [
             0.2,
             "#de77ae"
            ],
            [
             0.3,
             "#f1b6da"
            ],
            [
             0.4,
             "#fde0ef"
            ],
            [
             0.5,
             "#f7f7f7"
            ],
            [
             0.6,
             "#e6f5d0"
            ],
            [
             0.7,
             "#b8e186"
            ],
            [
             0.8,
             "#7fbc41"
            ],
            [
             0.9,
             "#4d9221"
            ],
            [
             1,
             "#276419"
            ]
           ],
           "sequential": [
            [
             0,
             "#0d0887"
            ],
            [
             0.1111111111111111,
             "#46039f"
            ],
            [
             0.2222222222222222,
             "#7201a8"
            ],
            [
             0.3333333333333333,
             "#9c179e"
            ],
            [
             0.4444444444444444,
             "#bd3786"
            ],
            [
             0.5555555555555556,
             "#d8576b"
            ],
            [
             0.6666666666666666,
             "#ed7953"
            ],
            [
             0.7777777777777778,
             "#fb9f3a"
            ],
            [
             0.8888888888888888,
             "#fdca26"
            ],
            [
             1,
             "#f0f921"
            ]
           ],
           "sequentialminus": [
            [
             0,
             "#0d0887"
            ],
            [
             0.1111111111111111,
             "#46039f"
            ],
            [
             0.2222222222222222,
             "#7201a8"
            ],
            [
             0.3333333333333333,
             "#9c179e"
            ],
            [
             0.4444444444444444,
             "#bd3786"
            ],
            [
             0.5555555555555556,
             "#d8576b"
            ],
            [
             0.6666666666666666,
             "#ed7953"
            ],
            [
             0.7777777777777778,
             "#fb9f3a"
            ],
            [
             0.8888888888888888,
             "#fdca26"
            ],
            [
             1,
             "#f0f921"
            ]
           ]
          },
          "colorway": [
           "#636efa",
           "#EF553B",
           "#00cc96",
           "#ab63fa",
           "#FFA15A",
           "#19d3f3",
           "#FF6692",
           "#B6E880",
           "#FF97FF",
           "#FECB52"
          ],
          "font": {
           "color": "#2a3f5f"
          },
          "geo": {
           "bgcolor": "white",
           "lakecolor": "white",
           "landcolor": "#E5ECF6",
           "showlakes": true,
           "showland": true,
           "subunitcolor": "white"
          },
          "hoverlabel": {
           "align": "left"
          },
          "hovermode": "closest",
          "mapbox": {
           "style": "light"
          },
          "paper_bgcolor": "white",
          "plot_bgcolor": "#E5ECF6",
          "polar": {
           "angularaxis": {
            "gridcolor": "white",
            "linecolor": "white",
            "ticks": ""
           },
           "bgcolor": "#E5ECF6",
           "radialaxis": {
            "gridcolor": "white",
            "linecolor": "white",
            "ticks": ""
           }
          },
          "scene": {
           "xaxis": {
            "backgroundcolor": "#E5ECF6",
            "gridcolor": "white",
            "gridwidth": 2,
            "linecolor": "white",
            "showbackground": true,
            "ticks": "",
            "zerolinecolor": "white"
           },
           "yaxis": {
            "backgroundcolor": "#E5ECF6",
            "gridcolor": "white",
            "gridwidth": 2,
            "linecolor": "white",
            "showbackground": true,
            "ticks": "",
            "zerolinecolor": "white"
           },
           "zaxis": {
            "backgroundcolor": "#E5ECF6",
            "gridcolor": "white",
            "gridwidth": 2,
            "linecolor": "white",
            "showbackground": true,
            "ticks": "",
            "zerolinecolor": "white"
           }
          },
          "shapedefaults": {
           "line": {
            "color": "#2a3f5f"
           }
          },
          "ternary": {
           "aaxis": {
            "gridcolor": "white",
            "linecolor": "white",
            "ticks": ""
           },
           "baxis": {
            "gridcolor": "white",
            "linecolor": "white",
            "ticks": ""
           },
           "bgcolor": "#E5ECF6",
           "caxis": {
            "gridcolor": "white",
            "linecolor": "white",
            "ticks": ""
           }
          },
          "title": {
           "x": 0.05
          },
          "xaxis": {
           "automargin": true,
           "gridcolor": "white",
           "linecolor": "white",
           "ticks": "",
           "title": {
            "standoff": 15
           },
           "zerolinecolor": "white",
           "zerolinewidth": 2
          },
          "yaxis": {
           "automargin": true,
           "gridcolor": "white",
           "linecolor": "white",
           "ticks": "",
           "title": {
            "standoff": 15
           },
           "zerolinecolor": "white",
           "zerolinewidth": 2
          }
         }
        },
        "xaxis": {
         "anchor": "y",
         "domain": [
          0,
          1
         ],
         "title": {
          "text": "Strategy"
         }
        },
        "yaxis": {
         "anchor": "x",
         "domain": [
          0,
          1
         ],
         "title": {
          "text": "Return [%]"
         }
        }
       }
      }
     },
     "metadata": {},
     "output_type": "display_data"
    }
   ],
   "source": [
    "#取引ない月込み\n",
    "fig = px.box(df[\"Return [%]\"], points = \"all\")\n",
    "fig.update_layout(\n",
    "    xaxis_title = \"Strategy\",\n",
    "    yaxis_title = \"Return [%]\"\n",
    ")\n",
    "fig.show()"
   ]
  },
  {
   "cell_type": "code",
   "execution_count": 25,
   "metadata": {},
   "outputs": [
    {
     "name": "stdout",
     "output_type": "stream",
     "text": [
      "----------WORST----------\n",
      "Start                     2018-01-01 00:00:00\n",
      "End                       2018-12-31 00:00:00\n",
      "Duration                    364 days 00:00:00\n",
      "Exposure Time [%]                   19.157088\n",
      "Equity Final [$]                  863726.9615\n",
      "Equity Peak [$]                   1050265.436\n",
      "Return [%]                         -13.627304\n",
      "Buy & Hold Return [%]               -24.01537\n",
      "Return (Ann.) [%]                  -13.189873\n",
      "Volatility (Ann.) [%]               11.222726\n",
      "Sharpe Ratio                              0.0\n",
      "Sortino Ratio                             0.0\n",
      "Calmar Ratio                              0.0\n",
      "Max. Drawdown [%]                  -18.532313\n",
      "Avg. Drawdown [%]                  -18.532313\n",
      "Max. Drawdown Duration      307 days 00:00:00\n",
      "Avg. Drawdown Duration      307 days 00:00:00\n",
      "# Trades                                    6\n",
      "Win Rate [%]                             50.0\n",
      "Best Trade [%]                       3.529039\n",
      "Worst Trade [%]                     -7.404266\n",
      "Avg. Trade [%]                      -2.453212\n",
      "Max. Trade Duration          14 days 00:00:00\n",
      "Avg. Trade Duration          11 days 00:00:00\n",
      "Profit Factor                         0.24427\n",
      "Expectancy [%]                      -2.368367\n",
      "SQN                                 -1.343556\n",
      "_strategy                           MACDCross\n",
      "_equity_curve                             ...\n",
      "_trades                      Size  EntryBa...\n",
      "dtype: object\n"
     ]
    },
    {
     "data": {
      "text/html": [
       "<div>\n",
       "<style scoped>\n",
       "    .dataframe tbody tr th:only-of-type {\n",
       "        vertical-align: middle;\n",
       "    }\n",
       "\n",
       "    .dataframe tbody tr th {\n",
       "        vertical-align: top;\n",
       "    }\n",
       "\n",
       "    .dataframe thead th {\n",
       "        text-align: right;\n",
       "    }\n",
       "</style>\n",
       "<table border=\"1\" class=\"dataframe\">\n",
       "  <thead>\n",
       "    <tr style=\"text-align: right;\">\n",
       "      <th></th>\n",
       "      <th>Size</th>\n",
       "      <th>EntryBar</th>\n",
       "      <th>ExitBar</th>\n",
       "      <th>EntryPrice</th>\n",
       "      <th>ExitPrice</th>\n",
       "      <th>PnL</th>\n",
       "      <th>ReturnPct</th>\n",
       "      <th>EntryTime</th>\n",
       "      <th>ExitTime</th>\n",
       "      <th>Duration</th>\n",
       "    </tr>\n",
       "  </thead>\n",
       "  <tbody>\n",
       "    <tr>\n",
       "      <th>0</th>\n",
       "      <td>52</td>\n",
       "      <td>39</td>\n",
       "      <td>45</td>\n",
       "      <td>18953.3570</td>\n",
       "      <td>17550.0</td>\n",
       "      <td>-72974.5640</td>\n",
       "      <td>-0.074043</td>\n",
       "      <td>2018-02-23</td>\n",
       "      <td>2018-03-05</td>\n",
       "      <td>10 days</td>\n",
       "    </tr>\n",
       "    <tr>\n",
       "      <th>1</th>\n",
       "      <td>48</td>\n",
       "      <td>50</td>\n",
       "      <td>56</td>\n",
       "      <td>19124.1985</td>\n",
       "      <td>17940.0</td>\n",
       "      <td>-56841.5280</td>\n",
       "      <td>-0.061921</td>\n",
       "      <td>2018-03-12</td>\n",
       "      <td>2018-03-20</td>\n",
       "      <td>8 days</td>\n",
       "    </tr>\n",
       "    <tr>\n",
       "      <th>2</th>\n",
       "      <td>47</td>\n",
       "      <td>64</td>\n",
       "      <td>74</td>\n",
       "      <td>18400.6345</td>\n",
       "      <td>19050.0</td>\n",
       "      <td>30520.1785</td>\n",
       "      <td>0.035290</td>\n",
       "      <td>2018-03-30</td>\n",
       "      <td>2018-04-13</td>\n",
       "      <td>14 days</td>\n",
       "    </tr>\n",
       "    <tr>\n",
       "      <th>3</th>\n",
       "      <td>44</td>\n",
       "      <td>139</td>\n",
       "      <td>146</td>\n",
       "      <td>20149.2475</td>\n",
       "      <td>20270.0</td>\n",
       "      <td>5313.1100</td>\n",
       "      <td>0.005993</td>\n",
       "      <td>2018-07-13</td>\n",
       "      <td>2018-07-24</td>\n",
       "      <td>11 days</td>\n",
       "    </tr>\n",
       "    <tr>\n",
       "      <th>4</th>\n",
       "      <td>45</td>\n",
       "      <td>222</td>\n",
       "      <td>228</td>\n",
       "      <td>19727.1685</td>\n",
       "      <td>18700.0</td>\n",
       "      <td>-46222.5825</td>\n",
       "      <td>-0.052069</td>\n",
       "      <td>2018-11-07</td>\n",
       "      <td>2018-11-15</td>\n",
       "      <td>8 days</td>\n",
       "    </tr>\n",
       "    <tr>\n",
       "      <th>5</th>\n",
       "      <td>45</td>\n",
       "      <td>234</td>\n",
       "      <td>243</td>\n",
       "      <td>18802.6145</td>\n",
       "      <td>18890.0</td>\n",
       "      <td>3932.3475</td>\n",
       "      <td>0.004648</td>\n",
       "      <td>2018-11-23</td>\n",
       "      <td>2018-12-06</td>\n",
       "      <td>13 days</td>\n",
       "    </tr>\n",
       "  </tbody>\n",
       "</table>\n",
       "</div>"
      ],
      "text/plain": [
       "   Size  EntryBar  ExitBar  EntryPrice  ExitPrice         PnL  ReturnPct  \\\n",
       "0    52        39       45  18953.3570    17550.0 -72974.5640  -0.074043   \n",
       "1    48        50       56  19124.1985    17940.0 -56841.5280  -0.061921   \n",
       "2    47        64       74  18400.6345    19050.0  30520.1785   0.035290   \n",
       "3    44       139      146  20149.2475    20270.0   5313.1100   0.005993   \n",
       "4    45       222      228  19727.1685    18700.0 -46222.5825  -0.052069   \n",
       "5    45       234      243  18802.6145    18890.0   3932.3475   0.004648   \n",
       "\n",
       "   EntryTime   ExitTime Duration  \n",
       "0 2018-02-23 2018-03-05  10 days  \n",
       "1 2018-03-12 2018-03-20   8 days  \n",
       "2 2018-03-30 2018-04-13  14 days  \n",
       "3 2018-07-13 2018-07-24  11 days  \n",
       "4 2018-11-07 2018-11-15   8 days  \n",
       "5 2018-11-23 2018-12-06  13 days  "
      ]
     },
     "metadata": {},
     "output_type": "display_data"
    },
    {
     "name": "stdout",
     "output_type": "stream",
     "text": [
      "----------MIN2----------\n",
      "Start                     2015-01-05 00:00:00\n",
      "End                       2015-12-30 00:00:00\n",
      "Duration                    359 days 00:00:00\n",
      "Exposure Time [%]                    6.967213\n",
      "Equity Final [$]                   965268.179\n",
      "Equity Peak [$]                   1036548.179\n",
      "Return [%]                          -3.473182\n",
      "Buy & Hold Return [%]               15.443425\n",
      "Return (Ann.) [%]                   -3.584991\n",
      "Volatility (Ann.) [%]               11.695372\n",
      "Sharpe Ratio                              0.0\n",
      "Sortino Ratio                             0.0\n",
      "Calmar Ratio                              0.0\n",
      "Max. Drawdown [%]                   -8.846495\n",
      "Avg. Drawdown [%]                   -5.664101\n",
      "Max. Drawdown Duration       82 days 00:00:00\n",
      "Avg. Drawdown Duration       28 days 00:00:00\n",
      "# Trades                                    2\n",
      "Win Rate [%]                             50.0\n",
      "Best Trade [%]                       2.111944\n",
      "Worst Trade [%]                     -5.506776\n",
      "Avg. Trade [%]                      -1.771253\n",
      "Max. Trade Duration          14 days 00:00:00\n",
      "Avg. Trade Duration          14 days 00:00:00\n",
      "Profit Factor                        0.383517\n",
      "Expectancy [%]                      -1.697416\n",
      "SQN                                 -0.466621\n",
      "_strategy                           MACDCross\n",
      "_equity_curve                             ...\n",
      "_trades                      Size  EntryBa...\n",
      "dtype: object\n"
     ]
    },
    {
     "data": {
      "text/html": [
       "<div>\n",
       "<style scoped>\n",
       "    .dataframe tbody tr th:only-of-type {\n",
       "        vertical-align: middle;\n",
       "    }\n",
       "\n",
       "    .dataframe tbody tr th {\n",
       "        vertical-align: top;\n",
       "    }\n",
       "\n",
       "    .dataframe thead th {\n",
       "        text-align: right;\n",
       "    }\n",
       "</style>\n",
       "<table border=\"1\" class=\"dataframe\">\n",
       "  <thead>\n",
       "    <tr style=\"text-align: right;\">\n",
       "      <th></th>\n",
       "      <th>Size</th>\n",
       "      <th>EntryBar</th>\n",
       "      <th>ExitBar</th>\n",
       "      <th>EntryPrice</th>\n",
       "      <th>ExitPrice</th>\n",
       "      <th>PnL</th>\n",
       "      <th>ReturnPct</th>\n",
       "      <th>EntryTime</th>\n",
       "      <th>ExitTime</th>\n",
       "      <th>Duration</th>\n",
       "    </tr>\n",
       "  </thead>\n",
       "  <tbody>\n",
       "    <tr>\n",
       "      <th>0</th>\n",
       "      <td>70</td>\n",
       "      <td>173</td>\n",
       "      <td>180</td>\n",
       "      <td>14159.7455</td>\n",
       "      <td>13380.0</td>\n",
       "      <td>-54582.185</td>\n",
       "      <td>-0.055068</td>\n",
       "      <td>2015-09-14</td>\n",
       "      <td>2015-09-28</td>\n",
       "      <td>14 days</td>\n",
       "    </tr>\n",
       "    <tr>\n",
       "      <th>1</th>\n",
       "      <td>72</td>\n",
       "      <td>184</td>\n",
       "      <td>192</td>\n",
       "      <td>13054.3005</td>\n",
       "      <td>13330.0</td>\n",
       "      <td>19850.364</td>\n",
       "      <td>0.021119</td>\n",
       "      <td>2015-10-02</td>\n",
       "      <td>2015-10-15</td>\n",
       "      <td>13 days</td>\n",
       "    </tr>\n",
       "  </tbody>\n",
       "</table>\n",
       "</div>"
      ],
      "text/plain": [
       "   Size  EntryBar  ExitBar  EntryPrice  ExitPrice        PnL  ReturnPct  \\\n",
       "0    70       173      180  14159.7455    13380.0 -54582.185  -0.055068   \n",
       "1    72       184      192  13054.3005    13330.0  19850.364   0.021119   \n",
       "\n",
       "   EntryTime   ExitTime Duration  \n",
       "0 2015-09-14 2015-09-28  14 days  \n",
       "1 2015-10-02 2015-10-15  13 days  "
      ]
     },
     "metadata": {},
     "output_type": "display_data"
    },
    {
     "name": "stdout",
     "output_type": "stream",
     "text": [
      "----------MIN3----------\n",
      "Start                     2021-01-04 00:00:00\n",
      "End                       2021-12-30 00:00:00\n",
      "Duration                    360 days 00:00:00\n",
      "Exposure Time [%]                   13.877551\n",
      "Equity Final [$]                1021110.60025\n",
      "Equity Peak [$]                 1075380.60025\n",
      "Return [%]                            2.11106\n",
      "Buy & Hold Return [%]               10.052724\n",
      "Return (Ann.) [%]                    2.172026\n",
      "Volatility (Ann.) [%]               15.017126\n",
      "Sharpe Ratio                         0.144637\n",
      "Sortino Ratio                         0.20504\n",
      "Calmar Ratio                         0.154104\n",
      "Max. Drawdown [%]                  -14.094528\n",
      "Avg. Drawdown [%]                   -6.430815\n",
      "Max. Drawdown Duration      120 days 00:00:00\n",
      "Avg. Drawdown Duration       58 days 00:00:00\n",
      "# Trades                                    4\n",
      "Win Rate [%]                             25.0\n",
      "Best Trade [%]                      19.408926\n",
      "Worst Trade [%]                     -9.859399\n",
      "Avg. Trade [%]                       0.513512\n",
      "Max. Trade Duration          21 days 00:00:00\n",
      "Avg. Trade Duration          11 days 00:00:00\n",
      "Profit Factor                        1.285749\n",
      "Expectancy [%]                       1.078376\n",
      "SQN                                  0.092765\n",
      "_strategy                           MACDCross\n",
      "_equity_curve                             ...\n",
      "_trades                      Size  EntryBa...\n",
      "dtype: object\n"
     ]
    },
    {
     "data": {
      "text/html": [
       "<div>\n",
       "<style scoped>\n",
       "    .dataframe tbody tr th:only-of-type {\n",
       "        vertical-align: middle;\n",
       "    }\n",
       "\n",
       "    .dataframe tbody tr th {\n",
       "        vertical-align: top;\n",
       "    }\n",
       "\n",
       "    .dataframe thead th {\n",
       "        text-align: right;\n",
       "    }\n",
       "</style>\n",
       "<table border=\"1\" class=\"dataframe\">\n",
       "  <thead>\n",
       "    <tr style=\"text-align: right;\">\n",
       "      <th></th>\n",
       "      <th>Size</th>\n",
       "      <th>EntryBar</th>\n",
       "      <th>ExitBar</th>\n",
       "      <th>EntryPrice</th>\n",
       "      <th>ExitPrice</th>\n",
       "      <th>PnL</th>\n",
       "      <th>ReturnPct</th>\n",
       "      <th>EntryTime</th>\n",
       "      <th>ExitTime</th>\n",
       "      <th>Duration</th>\n",
       "    </tr>\n",
       "  </thead>\n",
       "  <tbody>\n",
       "    <tr>\n",
       "      <th>0</th>\n",
       "      <td>60</td>\n",
       "      <td>84</td>\n",
       "      <td>87</td>\n",
       "      <td>16440.98200</td>\n",
       "      <td>14820.0</td>\n",
       "      <td>-97258.92000</td>\n",
       "      <td>-0.098594</td>\n",
       "      <td>2021-05-11</td>\n",
       "      <td>2021-05-14</td>\n",
       "      <td>3 days</td>\n",
       "    </tr>\n",
       "    <tr>\n",
       "      <th>1</th>\n",
       "      <td>61</td>\n",
       "      <td>145</td>\n",
       "      <td>152</td>\n",
       "      <td>14652.17100</td>\n",
       "      <td>14180.0</td>\n",
       "      <td>-28802.43100</td>\n",
       "      <td>-0.032225</td>\n",
       "      <td>2021-08-06</td>\n",
       "      <td>2021-08-18</td>\n",
       "      <td>12 days</td>\n",
       "    </tr>\n",
       "    <tr>\n",
       "      <th>2</th>\n",
       "      <td>59</td>\n",
       "      <td>157</td>\n",
       "      <td>172</td>\n",
       "      <td>14672.27000</td>\n",
       "      <td>17520.0</td>\n",
       "      <td>168016.07000</td>\n",
       "      <td>0.194089</td>\n",
       "      <td>2021-08-25</td>\n",
       "      <td>2021-09-15</td>\n",
       "      <td>21 days</td>\n",
       "    </tr>\n",
       "    <tr>\n",
       "      <th>3</th>\n",
       "      <td>67</td>\n",
       "      <td>232</td>\n",
       "      <td>237</td>\n",
       "      <td>15451.10625</td>\n",
       "      <td>15140.0</td>\n",
       "      <td>-20844.11875</td>\n",
       "      <td>-0.020135</td>\n",
       "      <td>2021-12-14</td>\n",
       "      <td>2021-12-21</td>\n",
       "      <td>7 days</td>\n",
       "    </tr>\n",
       "  </tbody>\n",
       "</table>\n",
       "</div>"
      ],
      "text/plain": [
       "   Size  EntryBar  ExitBar   EntryPrice  ExitPrice           PnL  ReturnPct  \\\n",
       "0    60        84       87  16440.98200    14820.0  -97258.92000  -0.098594   \n",
       "1    61       145      152  14652.17100    14180.0  -28802.43100  -0.032225   \n",
       "2    59       157      172  14672.27000    17520.0  168016.07000   0.194089   \n",
       "3    67       232      237  15451.10625    15140.0  -20844.11875  -0.020135   \n",
       "\n",
       "   EntryTime   ExitTime Duration  \n",
       "0 2021-05-11 2021-05-14   3 days  \n",
       "1 2021-08-06 2021-08-18  12 days  \n",
       "2 2021-08-25 2021-09-15  21 days  \n",
       "3 2021-12-14 2021-12-21   7 days  "
      ]
     },
     "metadata": {},
     "output_type": "display_data"
    },
    {
     "name": "stdout",
     "output_type": "stream",
     "text": [
      "----------BEST----------\n",
      "Start                     2013-01-04 00:00:00\n",
      "End                       2013-12-30 00:00:00\n",
      "Duration                    360 days 00:00:00\n",
      "Exposure Time [%]                    9.795918\n",
      "Equity Final [$]                    1233326.2\n",
      "Equity Peak [$]                     1233326.2\n",
      "Return [%]                           23.33262\n",
      "Buy & Hold Return [%]              118.181818\n",
      "Return (Ann.) [%]                   24.073829\n",
      "Volatility (Ann.) [%]               21.009893\n",
      "Sharpe Ratio                         1.145833\n",
      "Sortino Ratio                        2.678879\n",
      "Calmar Ratio                         2.357993\n",
      "Max. Drawdown [%]                  -10.209456\n",
      "Avg. Drawdown [%]                   -3.210853\n",
      "Max. Drawdown Duration        7 days 00:00:00\n",
      "Avg. Drawdown Duration        5 days 00:00:00\n",
      "# Trades                                    2\n",
      "Win Rate [%]                            100.0\n",
      "Best Trade [%]                      14.481858\n",
      "Worst Trade [%]                      7.838293\n",
      "Avg. Trade [%]                      11.110433\n",
      "Max. Trade Duration          18 days 00:00:00\n",
      "Avg. Trade Duration          16 days 00:00:00\n",
      "Profit Factor                             NaN\n",
      "Expectancy [%]                      11.160076\n",
      "SQN                                  4.282418\n",
      "_strategy                           MACDCross\n",
      "_equity_curve                            E...\n",
      "_trades                      Size  EntryBa...\n",
      "dtype: object\n"
     ]
    },
    {
     "data": {
      "text/html": [
       "<div>\n",
       "<style scoped>\n",
       "    .dataframe tbody tr th:only-of-type {\n",
       "        vertical-align: middle;\n",
       "    }\n",
       "\n",
       "    .dataframe tbody tr th {\n",
       "        vertical-align: top;\n",
       "    }\n",
       "\n",
       "    .dataframe thead th {\n",
       "        text-align: right;\n",
       "    }\n",
       "</style>\n",
       "<table border=\"1\" class=\"dataframe\">\n",
       "  <thead>\n",
       "    <tr style=\"text-align: right;\">\n",
       "      <th></th>\n",
       "      <th>Size</th>\n",
       "      <th>EntryBar</th>\n",
       "      <th>ExitBar</th>\n",
       "      <th>EntryPrice</th>\n",
       "      <th>ExitPrice</th>\n",
       "      <th>PnL</th>\n",
       "      <th>ReturnPct</th>\n",
       "      <th>EntryTime</th>\n",
       "      <th>ExitTime</th>\n",
       "      <th>Duration</th>\n",
       "    </tr>\n",
       "  </thead>\n",
       "  <tbody>\n",
       "    <tr>\n",
       "      <th>0</th>\n",
       "      <td>120</td>\n",
       "      <td>115</td>\n",
       "      <td>129</td>\n",
       "      <td>8280.788</td>\n",
       "      <td>9480.0</td>\n",
       "      <td>143905.44</td>\n",
       "      <td>0.144819</td>\n",
       "      <td>2013-06-24</td>\n",
       "      <td>2013-07-12</td>\n",
       "      <td>18 days</td>\n",
       "    </tr>\n",
       "    <tr>\n",
       "      <th>1</th>\n",
       "      <td>132</td>\n",
       "      <td>166</td>\n",
       "      <td>174</td>\n",
       "      <td>8642.570</td>\n",
       "      <td>9320.0</td>\n",
       "      <td>89420.76</td>\n",
       "      <td>0.078383</td>\n",
       "      <td>2013-09-04</td>\n",
       "      <td>2013-09-17</td>\n",
       "      <td>13 days</td>\n",
       "    </tr>\n",
       "  </tbody>\n",
       "</table>\n",
       "</div>"
      ],
      "text/plain": [
       "   Size  EntryBar  ExitBar  EntryPrice  ExitPrice        PnL  ReturnPct  \\\n",
       "0   120       115      129    8280.788     9480.0  143905.44   0.144819   \n",
       "1   132       166      174    8642.570     9320.0   89420.76   0.078383   \n",
       "\n",
       "   EntryTime   ExitTime Duration  \n",
       "0 2013-06-24 2013-07-12  18 days  \n",
       "1 2013-09-04 2013-09-17  13 days  "
      ]
     },
     "metadata": {},
     "output_type": "display_data"
    },
    {
     "data": {
      "text/html": [
       "<div style=\"display: table;\"><div style=\"display: table-row;\"><div style=\"display: table-cell;\"><b title=\"bokeh.models.layouts.Row\">Row</b>(</div><div style=\"display: table-cell;\">id&nbsp;=&nbsp;'20094', <span id=\"20825\" style=\"cursor: pointer;\">&hellip;)</span></div></div><div class=\"20824\" style=\"display: none;\"><div style=\"display: table-cell;\"></div><div style=\"display: table-cell;\">align&nbsp;=&nbsp;'start',</div></div><div class=\"20824\" style=\"display: none;\"><div style=\"display: table-cell;\"></div><div style=\"display: table-cell;\">aspect_ratio&nbsp;=&nbsp;None,</div></div><div class=\"20824\" style=\"display: none;\"><div style=\"display: table-cell;\"></div><div style=\"display: table-cell;\">background&nbsp;=&nbsp;None,</div></div><div class=\"20824\" style=\"display: none;\"><div style=\"display: table-cell;\"></div><div style=\"display: table-cell;\">children&nbsp;=&nbsp;[GridBox(id='20091', ...), ToolbarBox(id='20093', ...)],</div></div><div class=\"20824\" style=\"display: none;\"><div style=\"display: table-cell;\"></div><div style=\"display: table-cell;\">cols&nbsp;=&nbsp;'auto',</div></div><div class=\"20824\" style=\"display: none;\"><div style=\"display: table-cell;\"></div><div style=\"display: table-cell;\">css_classes&nbsp;=&nbsp;[],</div></div><div class=\"20824\" style=\"display: none;\"><div style=\"display: table-cell;\"></div><div style=\"display: table-cell;\">disabled&nbsp;=&nbsp;False,</div></div><div class=\"20824\" style=\"display: none;\"><div style=\"display: table-cell;\"></div><div style=\"display: table-cell;\">height&nbsp;=&nbsp;None,</div></div><div class=\"20824\" style=\"display: none;\"><div style=\"display: table-cell;\"></div><div style=\"display: table-cell;\">height_policy&nbsp;=&nbsp;'auto',</div></div><div class=\"20824\" style=\"display: none;\"><div style=\"display: table-cell;\"></div><div style=\"display: table-cell;\">js_event_callbacks&nbsp;=&nbsp;{},</div></div><div class=\"20824\" style=\"display: none;\"><div style=\"display: table-cell;\"></div><div style=\"display: table-cell;\">js_property_callbacks&nbsp;=&nbsp;{},</div></div><div class=\"20824\" style=\"display: none;\"><div style=\"display: table-cell;\"></div><div style=\"display: table-cell;\">margin&nbsp;=&nbsp;(0, 0, 0, 0),</div></div><div class=\"20824\" style=\"display: none;\"><div style=\"display: table-cell;\"></div><div style=\"display: table-cell;\">max_height&nbsp;=&nbsp;None,</div></div><div class=\"20824\" style=\"display: none;\"><div style=\"display: table-cell;\"></div><div style=\"display: table-cell;\">max_width&nbsp;=&nbsp;None,</div></div><div class=\"20824\" style=\"display: none;\"><div style=\"display: table-cell;\"></div><div style=\"display: table-cell;\">min_height&nbsp;=&nbsp;None,</div></div><div class=\"20824\" style=\"display: none;\"><div style=\"display: table-cell;\"></div><div style=\"display: table-cell;\">min_width&nbsp;=&nbsp;None,</div></div><div class=\"20824\" style=\"display: none;\"><div style=\"display: table-cell;\"></div><div style=\"display: table-cell;\">name&nbsp;=&nbsp;None,</div></div><div class=\"20824\" style=\"display: none;\"><div style=\"display: table-cell;\"></div><div style=\"display: table-cell;\">sizing_mode&nbsp;=&nbsp;'stretch_width',</div></div><div class=\"20824\" style=\"display: none;\"><div style=\"display: table-cell;\"></div><div style=\"display: table-cell;\">spacing&nbsp;=&nbsp;0,</div></div><div class=\"20824\" style=\"display: none;\"><div style=\"display: table-cell;\"></div><div style=\"display: table-cell;\">subscribed_events&nbsp;=&nbsp;[],</div></div><div class=\"20824\" style=\"display: none;\"><div style=\"display: table-cell;\"></div><div style=\"display: table-cell;\">syncable&nbsp;=&nbsp;True,</div></div><div class=\"20824\" style=\"display: none;\"><div style=\"display: table-cell;\"></div><div style=\"display: table-cell;\">tags&nbsp;=&nbsp;[],</div></div><div class=\"20824\" style=\"display: none;\"><div style=\"display: table-cell;\"></div><div style=\"display: table-cell;\">visible&nbsp;=&nbsp;True,</div></div><div class=\"20824\" style=\"display: none;\"><div style=\"display: table-cell;\"></div><div style=\"display: table-cell;\">width&nbsp;=&nbsp;None,</div></div><div class=\"20824\" style=\"display: none;\"><div style=\"display: table-cell;\"></div><div style=\"display: table-cell;\">width_policy&nbsp;=&nbsp;'auto')</div></div></div>\n",
       "<script>\n",
       "(function() {\n",
       "  let expanded = false;\n",
       "  const ellipsis = document.getElementById(\"20825\");\n",
       "  ellipsis.addEventListener(\"click\", function() {\n",
       "    const rows = document.getElementsByClassName(\"20824\");\n",
       "    for (let i = 0; i < rows.length; i++) {\n",
       "      const el = rows[i];\n",
       "      el.style.display = expanded ? \"none\" : \"table-row\";\n",
       "    }\n",
       "    ellipsis.innerHTML = expanded ? \"&hellip;)\" : \"&lsaquo;&lsaquo;&lsaquo;\";\n",
       "    expanded = !expanded;\n",
       "  });\n",
       "})();\n",
       "</script>\n"
      ],
      "text/plain": [
       "Row(id='20094', ...)"
      ]
     },
     "execution_count": 25,
     "metadata": {},
     "output_type": "execute_result"
    }
   ],
   "source": [
    "#最低と最高の期間のバックテストを表示\n",
    "\n",
    "print(\"----------WORST----------\")\n",
    "bt = Backtest(\n",
    "    df_min, # チャートデータ\n",
    "    eval(classname), # 売買戦略\n",
    "    cash=initial, # 最初の所持金\n",
    "    commission=0.00495, # 取引手数料\n",
    "    margin=1.0, # レバレッジ倍率の逆数（0.5で2倍レバレッジ）\n",
    "    trade_on_close=False, # True：現在の終値で取引，False：次の時間の始値で取引\n",
    "    exclusive_orders=True, #自動でポジションをクローズ(オープン)\n",
    ")\n",
    "output = bt.run() # バックテスト実行\n",
    "print(output) # 実行結果(データ)\n",
    "display(output._trades)\n",
    "bt.plot(filename = fname + str(output._strategy) + \"_min.html\") # 実行結果（グラフ）\n",
    "\n",
    "print(\"----------MIN2----------\")\n",
    "bt = Backtest(\n",
    "    df_min2, # チャートデータ\n",
    "    eval(classname), # 売買戦略\n",
    "    cash=initial, # 最初の所持金\n",
    "    commission=0.00495, # 取引手数料\n",
    "    margin=1.0, # レバレッジ倍率の逆数（0.5で2倍レバレッジ）\n",
    "    trade_on_close=False, # True：現在の終値で取引，False：次の時間の始値で取引\n",
    "    exclusive_orders=True, #自動でポジションをクローズ(オープン)\n",
    ")\n",
    "output = bt.run() # バックテスト実行\n",
    "print(output) # 実行結果(データ)\n",
    "display(output._trades)\n",
    "bt.plot(filename = fname + str(output._strategy) + \"_min2.html\") # 実行結果（グラフ）\n",
    "\n",
    "print(\"----------MIN3----------\")\n",
    "bt = Backtest(\n",
    "    df_min3, # チャートデータ\n",
    "    eval(classname), # 売買戦略\n",
    "    cash=initial, # 最初の所持金\n",
    "    commission=0.00495, # 取引手数料\n",
    "    margin=1.0, # レバレッジ倍率の逆数（0.5で2倍レバレッジ）\n",
    "    trade_on_close=False, # True：現在の終値で取引，False：次の時間の始値で取引\n",
    "    exclusive_orders=True, #自動でポジションをクローズ(オープン)\n",
    ")\n",
    "output = bt.run() # バックテスト実行\n",
    "print(output) # 実行結果(データ)\n",
    "display(output._trades)\n",
    "bt.plot(filename = fname + str(output._strategy) + \"_min3.html\") # 実行結果（グラフ）\n",
    "\n",
    "print(\"----------BEST----------\")\n",
    "bt = Backtest(\n",
    "    df_max, # チャートデータ\n",
    "    eval(classname), # 売買戦略\n",
    "    cash=initial, # 最初の所持金\n",
    "    commission=0.00495, # 取引手数料\n",
    "    margin=1.0, # レバレッジ倍率の逆数（0.5で2倍レバレッジ）\n",
    "    trade_on_close=False, # True：現在の終値で取引，False：次の時間の始値で取引\n",
    "    exclusive_orders=True, #自動でポジションをクローズ(オープン)\n",
    ")\n",
    "output = bt.run() # バックテスト実行\n",
    "print(output) # 実行結果(データ)\n",
    "display(output._trades)\n",
    "bt.plot(filename = fname + str(output._strategy) + \"_max.html\") # 実行結果（グラフ）"
   ]
  }
 ],
 "metadata": {
  "kernelspec": {
   "display_name": "Python 3.10.6 64-bit",
   "language": "python",
   "name": "python3"
  },
  "language_info": {
   "codemirror_mode": {
    "name": "ipython",
    "version": 3
   },
   "file_extension": ".py",
   "mimetype": "text/x-python",
   "name": "python",
   "nbconvert_exporter": "python",
   "pygments_lexer": "ipython3",
   "version": "3.10.6"
  },
  "orig_nbformat": 4,
  "vscode": {
   "interpreter": {
    "hash": "369f2c481f4da34e4445cda3fffd2e751bd1c4d706f27375911949ba6bb62e1c"
   }
  }
 },
 "nbformat": 4,
 "nbformat_minor": 2
}
