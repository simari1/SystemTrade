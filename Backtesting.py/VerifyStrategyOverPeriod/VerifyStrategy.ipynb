{
 "cells": [
  {
   "cell_type": "code",
   "execution_count": 41,
   "metadata": {},
   "outputs": [],
   "source": [
    "import pandas_datareader.data as web\n",
    "import pandas as pd\n",
    "import datetime\n",
    "from decimal import Decimal\n",
    "from dateutil import relativedelta\n",
    "from backtesting import Backtest, Strategy\n",
    "from backtesting.lib import crossover, resample_apply\n",
    "import importlib\n",
    "import plotly.express as px\n",
    "\n",
    "#Change me!\n",
    "start = datetime.datetime.today() + relativedelta.relativedelta(years=-10)\n",
    "#Mで入力する\n",
    "split_unit = \"12M\"\n",
    "modulename = \"BacktestingStrategies.Prod_Strategy_Rsi\"\n",
    "classname = \"btst.RsiOscillator\"\n",
    "end = datetime.date.today()\n",
    "\n",
    "data = web.DataReader('2558.JP', 'stooq', start, end)\n",
    "data = data.astype(\"double\")\n",
    "\n",
    "initial = 1000_000\n",
    "fname = f\"html/plot-\""
   ]
  },
  {
   "cell_type": "code",
   "execution_count": 42,
   "metadata": {},
   "outputs": [],
   "source": [
    "#日付データを検証期間単位ごとにSplit\n",
    "#https://kakakakakku.hatenablog.com/entry/2021/05/24/002542\n",
    "grouped_data = data.groupby(pd.Grouper(freq = split_unit))\n",
    "dfs = [group for _, group in grouped_data]"
   ]
  },
  {
   "cell_type": "code",
   "execution_count": 43,
   "metadata": {},
   "outputs": [],
   "source": [
    "#検証期間単位ごとにバックテスト＆結果を蓄積\n",
    "#親ディレクトリ経由で呼び出し   # https://qiita.com/yokohama4580/items/466a483ae022d264c8ee\n",
    "import os\n",
    "import sys\n",
    "import re\n",
    "sys.path.append(os.pardir)\n",
    "\n",
    "btst = importlib.import_module(modulename)\n",
    "# from BacktestingStrategies import Strategy_RsiOscillator as btst\n",
    "importlib.reload(btst)\n",
    "import warnings\n",
    "warnings.simplefilter('ignore')\n",
    "\n",
    "warmup = int(re.sub(r\"\\D\", \"\", split_unit)) / 2 * 20\n",
    "\n",
    "returns = {}\n",
    "bts = {}\n",
    "i = 0\n",
    "\n",
    "for monthly_data in dfs:\n",
    "    if i != 0:\n",
    "        start = dfs[i - 1].tail(int(warmup))\n",
    "        end = data[data.index == monthly_data.tail(1).index.tolist()[0]]\n",
    "        monthly_data = pd.concat([start, end])\n",
    "\n",
    "    \n",
    "    # バックテストを設定\n",
    "    bt = Backtest(\n",
    "        monthly_data,\n",
    "        eval(classname), # 売買戦略\n",
    "        cash=initial, # 最初の所持金\n",
    "        commission=0.00495, # 取引手数料\n",
    "        margin=1.0, # レバレッジ倍率の逆数（0.5で2倍レバレッジ）\n",
    "        trade_on_close=False, # True：現在の終値で取引，False：次の時間の始値で取引\n",
    "        exclusive_orders=True #自動でポジションをクローズ(オープン)\n",
    "    )\n",
    "\n",
    "    output = bt.run() # バックテスト実行\n",
    "    returns[bt] = output\n",
    "\n",
    "    i = i + 1"
   ]
  },
  {
   "cell_type": "code",
   "execution_count": 44,
   "metadata": {},
   "outputs": [],
   "source": [
    "#ベスト１、ワースト１、ワースト３を抽出\n",
    "returns_without0trades = {k: v for k, v in returns.items() if v[\"# Trades\"] != 0}\n",
    "returns_sorted = sorted(returns_without0trades.items(), key=lambda x: x[1][\"Return [%]\"])\n",
    "\n",
    "min_return_3 = returns_sorted[:3]\n",
    "top1_return = returns_sorted[-1:]\n",
    "\n",
    "max_return = str((top1_return[0][1])[\"Return [%]\"])\n",
    "max_period_start = str((top1_return[0][1])[\"Start\"])\n",
    "max_period_end = str((top1_return[0][1])[\"End\"])\n",
    "\n",
    "min_return = str((min_return_3[0][1])[\"Return [%]\"])\n",
    "min_period_start = str((min_return_3[0][1])[\"Start\"])\n",
    "min_period_end = str((min_return_3[0][1])[\"End\"])"
   ]
  },
  {
   "cell_type": "code",
   "execution_count": 45,
   "metadata": {},
   "outputs": [
    {
     "name": "stdout",
     "output_type": "stream",
     "text": [
      "１期間単位: 12M\n",
      "テスト期間: 4\n",
      "平均Return [%]: 2.0817\n",
      "最大Return [%]: 8.81595\n",
      "最大Return期間: 2020-08-04 00:00:00 - 2022-01-31 00:00:00\n",
      "最低Return [%]: -0.4891391999999993\n",
      "最低Return期間: 2021-08-05 00:00:00 - 2022-10-17 00:00:00\n"
     ]
    }
   ],
   "source": [
    "#まとめを表示\n",
    "import statistics\n",
    "df = pd.DataFrame(returns.values())\n",
    "\n",
    "lines = \"１期間単位: \" + split_unit + \"\\n\"\n",
    "lines += \"テスト期間: \" + str(len(returns)) + \"\\n\"\n",
    "res = round(statistics.mean(df[\"Return [%]\"]), 4)\n",
    "\n",
    "lines += \"平均Return [%]: \" + str(res) + \"\\n\"\n",
    "lines += \"最大Return [%]: \" + str(max_return) + \"\\n\"\n",
    "lines += \"最大Return期間: \" + str(max_period_start) + \" - \" + str(max_period_end) + \"\\n\"\n",
    "lines += \"最低Return [%]: \" + str(min_return) + \"\\n\"\n",
    "lines += \"最低Return期間: \" + str(min_period_start) + \" - \" + str(min_period_end) \n",
    "print(lines)"
   ]
  },
  {
   "cell_type": "code",
   "execution_count": 46,
   "metadata": {},
   "outputs": [
    {
     "name": "stdout",
     "output_type": "stream",
     "text": [
      "----- WORST 1-----\n"
     ]
    },
    {
     "data": {
      "text/plain": [
       "Start                     2021-08-05 00:00:00\n",
       "End                       2022-10-17 00:00:00\n",
       "Duration                    438 days 00:00:00\n",
       "Exposure Time [%]                    0.826446\n",
       "Equity Final [$]                   995108.608\n",
       "Equity Peak [$]                     1000000.0\n",
       "Return [%]                          -0.489139\n",
       "Buy & Hold Return [%]               11.760462\n",
       "Return (Ann.) [%]                   -1.016006\n",
       "Volatility (Ann.) [%]                0.701665\n",
       "Sharpe Ratio                              0.0\n",
       "Sortino Ratio                             0.0\n",
       "Calmar Ratio                              0.0\n",
       "Max. Drawdown [%]                   -0.489139\n",
       "Avg. Drawdown [%]                   -0.489139\n",
       "Max. Drawdown Duration               0.004891\n",
       "Avg. Drawdown Duration               0.004891\n",
       "# Trades                                    1\n",
       "Win Rate [%]                              0.0\n",
       "Best Trade [%]                      -0.492562\n",
       "Worst Trade [%]                     -0.492562\n",
       "Avg. Trade [%]                      -0.492562\n",
       "Max. Trade Duration           0 days 00:00:00\n",
       "Avg. Trade Duration           0 days 00:00:00\n",
       "Profit Factor                             0.0\n",
       "Expectancy [%]                      -0.492562\n",
       "SQN                                       NaN\n",
       "_strategy                       RsiOscillator\n",
       "_equity_curve                             ...\n",
       "_trades                      Size  EntryBa...\n",
       "dtype: object"
      ]
     },
     "metadata": {},
     "output_type": "display_data"
    },
    {
     "data": {
      "text/html": [
       "<div>\n",
       "<style scoped>\n",
       "    .dataframe tbody tr th:only-of-type {\n",
       "        vertical-align: middle;\n",
       "    }\n",
       "\n",
       "    .dataframe tbody tr th {\n",
       "        vertical-align: top;\n",
       "    }\n",
       "\n",
       "    .dataframe thead th {\n",
       "        text-align: right;\n",
       "    }\n",
       "</style>\n",
       "<table border=\"1\" class=\"dataframe\">\n",
       "  <thead>\n",
       "    <tr style=\"text-align: right;\">\n",
       "      <th></th>\n",
       "      <th>Size</th>\n",
       "      <th>EntryBar</th>\n",
       "      <th>ExitBar</th>\n",
       "      <th>EntryPrice</th>\n",
       "      <th>ExitPrice</th>\n",
       "      <th>PnL</th>\n",
       "      <th>ReturnPct</th>\n",
       "      <th>EntryTime</th>\n",
       "      <th>ExitTime</th>\n",
       "      <th>Duration</th>\n",
       "    </tr>\n",
       "  </thead>\n",
       "  <tbody>\n",
       "    <tr>\n",
       "      <th>0</th>\n",
       "      <td>64</td>\n",
       "      <td>120</td>\n",
       "      <td>120</td>\n",
       "      <td>15516.428</td>\n",
       "      <td>15440.0</td>\n",
       "      <td>-4891.392</td>\n",
       "      <td>-0.004926</td>\n",
       "      <td>2022-10-17</td>\n",
       "      <td>2022-10-17</td>\n",
       "      <td>0 days</td>\n",
       "    </tr>\n",
       "  </tbody>\n",
       "</table>\n",
       "</div>"
      ],
      "text/plain": [
       "   Size  EntryBar  ExitBar  EntryPrice  ExitPrice       PnL  ReturnPct  \\\n",
       "0    64       120      120   15516.428    15440.0 -4891.392  -0.004926   \n",
       "\n",
       "   EntryTime   ExitTime Duration  \n",
       "0 2022-10-17 2022-10-17   0 days  "
      ]
     },
     "metadata": {},
     "output_type": "display_data"
    },
    {
     "name": "stdout",
     "output_type": "stream",
     "text": [
      "----- WORST 2-----\n"
     ]
    },
    {
     "data": {
      "text/plain": [
       "Start                     2020-08-04 00:00:00\n",
       "End                       2022-01-31 00:00:00\n",
       "Duration                    545 days 00:00:00\n",
       "Exposure Time [%]                    42.14876\n",
       "Equity Final [$]                    1088159.5\n",
       "Equity Peak [$]                     1096079.5\n",
       "Return [%]                            8.81595\n",
       "Buy & Hold Return [%]               47.347347\n",
       "Return (Ann.) [%]                    19.23879\n",
       "Volatility (Ann.) [%]               15.146422\n",
       "Sharpe Ratio                         1.270187\n",
       "Sortino Ratio                        2.637715\n",
       "Calmar Ratio                         2.106748\n",
       "Max. Drawdown [%]                   -9.131986\n",
       "Avg. Drawdown [%]                   -1.972487\n",
       "Max. Drawdown Duration      418 days 00:00:00\n",
       "Avg. Drawdown Duration       54 days 00:00:00\n",
       "# Trades                                    1\n",
       "Win Rate [%]                            100.0\n",
       "Best Trade [%]                       8.861137\n",
       "Worst Trade [%]                      8.861137\n",
       "Avg. Trade [%]                       8.861137\n",
       "Max. Trade Duration          73 days 00:00:00\n",
       "Avg. Trade Duration          73 days 00:00:00\n",
       "Profit Factor                             NaN\n",
       "Expectancy [%]                       8.861137\n",
       "SQN                                       NaN\n",
       "_strategy                       RsiOscillator\n",
       "_equity_curve                            E...\n",
       "_trades                      Size  EntryBa...\n",
       "dtype: object"
      ]
     },
     "metadata": {},
     "output_type": "display_data"
    },
    {
     "data": {
      "text/html": [
       "<div>\n",
       "<style scoped>\n",
       "    .dataframe tbody tr th:only-of-type {\n",
       "        vertical-align: middle;\n",
       "    }\n",
       "\n",
       "    .dataframe tbody tr th {\n",
       "        vertical-align: top;\n",
       "    }\n",
       "\n",
       "    .dataframe thead th {\n",
       "        text-align: right;\n",
       "    }\n",
       "</style>\n",
       "<table border=\"1\" class=\"dataframe\">\n",
       "  <thead>\n",
       "    <tr style=\"text-align: right;\">\n",
       "      <th></th>\n",
       "      <th>Size</th>\n",
       "      <th>EntryBar</th>\n",
       "      <th>ExitBar</th>\n",
       "      <th>EntryPrice</th>\n",
       "      <th>ExitPrice</th>\n",
       "      <th>PnL</th>\n",
       "      <th>ReturnPct</th>\n",
       "      <th>EntryTime</th>\n",
       "      <th>ExitTime</th>\n",
       "      <th>Duration</th>\n",
       "    </tr>\n",
       "  </thead>\n",
       "  <tbody>\n",
       "    <tr>\n",
       "      <th>0</th>\n",
       "      <td>99</td>\n",
       "      <td>36</td>\n",
       "      <td>86</td>\n",
       "      <td>10049.5</td>\n",
       "      <td>10940.0</td>\n",
       "      <td>88159.5</td>\n",
       "      <td>0.088611</td>\n",
       "      <td>2020-09-28</td>\n",
       "      <td>2020-12-10</td>\n",
       "      <td>73 days</td>\n",
       "    </tr>\n",
       "  </tbody>\n",
       "</table>\n",
       "</div>"
      ],
      "text/plain": [
       "   Size  EntryBar  ExitBar  EntryPrice  ExitPrice      PnL  ReturnPct  \\\n",
       "0    99        36       86     10049.5    10940.0  88159.5   0.088611   \n",
       "\n",
       "   EntryTime   ExitTime Duration  \n",
       "0 2020-09-28 2020-12-10  73 days  "
      ]
     },
     "metadata": {},
     "output_type": "display_data"
    }
   ],
   "source": [
    "#ワースト３を表示\n",
    "i = 1\n",
    "for min_data in min_return_3:\n",
    "    print(\"----- WORST \" + str(i) + \"-----\")\n",
    "    display(min_data[1])\n",
    "    display(min_data[1]._trades)\n",
    "    min_data[0].plot(filename = fname + str(min_data[1]._strategy) + \"_min\" + str(i) + \".html\")\n",
    "\n",
    "    i = i + 1"
   ]
  },
  {
   "cell_type": "code",
   "execution_count": 47,
   "metadata": {},
   "outputs": [
    {
     "name": "stdout",
     "output_type": "stream",
     "text": [
      "----- BEST -----\n"
     ]
    },
    {
     "data": {
      "text/plain": [
       "Start                     2020-08-04 00:00:00\n",
       "End                       2022-01-31 00:00:00\n",
       "Duration                    545 days 00:00:00\n",
       "Exposure Time [%]                    42.14876\n",
       "Equity Final [$]                    1088159.5\n",
       "Equity Peak [$]                     1096079.5\n",
       "Return [%]                            8.81595\n",
       "Buy & Hold Return [%]               47.347347\n",
       "Return (Ann.) [%]                    19.23879\n",
       "Volatility (Ann.) [%]               15.146422\n",
       "Sharpe Ratio                         1.270187\n",
       "Sortino Ratio                        2.637715\n",
       "Calmar Ratio                         2.106748\n",
       "Max. Drawdown [%]                   -9.131986\n",
       "Avg. Drawdown [%]                   -1.972487\n",
       "Max. Drawdown Duration      418 days 00:00:00\n",
       "Avg. Drawdown Duration       54 days 00:00:00\n",
       "# Trades                                    1\n",
       "Win Rate [%]                            100.0\n",
       "Best Trade [%]                       8.861137\n",
       "Worst Trade [%]                      8.861137\n",
       "Avg. Trade [%]                       8.861137\n",
       "Max. Trade Duration          73 days 00:00:00\n",
       "Avg. Trade Duration          73 days 00:00:00\n",
       "Profit Factor                             NaN\n",
       "Expectancy [%]                       8.861137\n",
       "SQN                                       NaN\n",
       "_strategy                       RsiOscillator\n",
       "_equity_curve                            E...\n",
       "_trades                      Size  EntryBa...\n",
       "dtype: object"
      ]
     },
     "metadata": {},
     "output_type": "display_data"
    },
    {
     "data": {
      "text/html": [
       "<div>\n",
       "<style scoped>\n",
       "    .dataframe tbody tr th:only-of-type {\n",
       "        vertical-align: middle;\n",
       "    }\n",
       "\n",
       "    .dataframe tbody tr th {\n",
       "        vertical-align: top;\n",
       "    }\n",
       "\n",
       "    .dataframe thead th {\n",
       "        text-align: right;\n",
       "    }\n",
       "</style>\n",
       "<table border=\"1\" class=\"dataframe\">\n",
       "  <thead>\n",
       "    <tr style=\"text-align: right;\">\n",
       "      <th></th>\n",
       "      <th>Size</th>\n",
       "      <th>EntryBar</th>\n",
       "      <th>ExitBar</th>\n",
       "      <th>EntryPrice</th>\n",
       "      <th>ExitPrice</th>\n",
       "      <th>PnL</th>\n",
       "      <th>ReturnPct</th>\n",
       "      <th>EntryTime</th>\n",
       "      <th>ExitTime</th>\n",
       "      <th>Duration</th>\n",
       "    </tr>\n",
       "  </thead>\n",
       "  <tbody>\n",
       "    <tr>\n",
       "      <th>0</th>\n",
       "      <td>99</td>\n",
       "      <td>36</td>\n",
       "      <td>86</td>\n",
       "      <td>10049.5</td>\n",
       "      <td>10940.0</td>\n",
       "      <td>88159.5</td>\n",
       "      <td>0.088611</td>\n",
       "      <td>2020-09-28</td>\n",
       "      <td>2020-12-10</td>\n",
       "      <td>73 days</td>\n",
       "    </tr>\n",
       "  </tbody>\n",
       "</table>\n",
       "</div>"
      ],
      "text/plain": [
       "   Size  EntryBar  ExitBar  EntryPrice  ExitPrice      PnL  ReturnPct  \\\n",
       "0    99        36       86     10049.5    10940.0  88159.5   0.088611   \n",
       "\n",
       "   EntryTime   ExitTime Duration  \n",
       "0 2020-09-28 2020-12-10  73 days  "
      ]
     },
     "metadata": {},
     "output_type": "display_data"
    },
    {
     "data": {
      "text/html": [
       "<div style=\"display: table;\"><div style=\"display: table-row;\"><div style=\"display: table-cell;\"><b title=\"bokeh.models.layouts.Row\">Row</b>(</div><div style=\"display: table-cell;\">id&nbsp;=&nbsp;'17545', <span id=\"18393\" style=\"cursor: pointer;\">&hellip;)</span></div></div><div class=\"18392\" style=\"display: none;\"><div style=\"display: table-cell;\"></div><div style=\"display: table-cell;\">align&nbsp;=&nbsp;'start',</div></div><div class=\"18392\" style=\"display: none;\"><div style=\"display: table-cell;\"></div><div style=\"display: table-cell;\">aspect_ratio&nbsp;=&nbsp;None,</div></div><div class=\"18392\" style=\"display: none;\"><div style=\"display: table-cell;\"></div><div style=\"display: table-cell;\">background&nbsp;=&nbsp;None,</div></div><div class=\"18392\" style=\"display: none;\"><div style=\"display: table-cell;\"></div><div style=\"display: table-cell;\">children&nbsp;=&nbsp;[GridBox(id='17542', ...), ToolbarBox(id='17544', ...)],</div></div><div class=\"18392\" style=\"display: none;\"><div style=\"display: table-cell;\"></div><div style=\"display: table-cell;\">cols&nbsp;=&nbsp;'auto',</div></div><div class=\"18392\" style=\"display: none;\"><div style=\"display: table-cell;\"></div><div style=\"display: table-cell;\">css_classes&nbsp;=&nbsp;[],</div></div><div class=\"18392\" style=\"display: none;\"><div style=\"display: table-cell;\"></div><div style=\"display: table-cell;\">disabled&nbsp;=&nbsp;False,</div></div><div class=\"18392\" style=\"display: none;\"><div style=\"display: table-cell;\"></div><div style=\"display: table-cell;\">height&nbsp;=&nbsp;None,</div></div><div class=\"18392\" style=\"display: none;\"><div style=\"display: table-cell;\"></div><div style=\"display: table-cell;\">height_policy&nbsp;=&nbsp;'auto',</div></div><div class=\"18392\" style=\"display: none;\"><div style=\"display: table-cell;\"></div><div style=\"display: table-cell;\">js_event_callbacks&nbsp;=&nbsp;{},</div></div><div class=\"18392\" style=\"display: none;\"><div style=\"display: table-cell;\"></div><div style=\"display: table-cell;\">js_property_callbacks&nbsp;=&nbsp;{},</div></div><div class=\"18392\" style=\"display: none;\"><div style=\"display: table-cell;\"></div><div style=\"display: table-cell;\">margin&nbsp;=&nbsp;(0, 0, 0, 0),</div></div><div class=\"18392\" style=\"display: none;\"><div style=\"display: table-cell;\"></div><div style=\"display: table-cell;\">max_height&nbsp;=&nbsp;None,</div></div><div class=\"18392\" style=\"display: none;\"><div style=\"display: table-cell;\"></div><div style=\"display: table-cell;\">max_width&nbsp;=&nbsp;None,</div></div><div class=\"18392\" style=\"display: none;\"><div style=\"display: table-cell;\"></div><div style=\"display: table-cell;\">min_height&nbsp;=&nbsp;None,</div></div><div class=\"18392\" style=\"display: none;\"><div style=\"display: table-cell;\"></div><div style=\"display: table-cell;\">min_width&nbsp;=&nbsp;None,</div></div><div class=\"18392\" style=\"display: none;\"><div style=\"display: table-cell;\"></div><div style=\"display: table-cell;\">name&nbsp;=&nbsp;None,</div></div><div class=\"18392\" style=\"display: none;\"><div style=\"display: table-cell;\"></div><div style=\"display: table-cell;\">sizing_mode&nbsp;=&nbsp;'stretch_width',</div></div><div class=\"18392\" style=\"display: none;\"><div style=\"display: table-cell;\"></div><div style=\"display: table-cell;\">spacing&nbsp;=&nbsp;0,</div></div><div class=\"18392\" style=\"display: none;\"><div style=\"display: table-cell;\"></div><div style=\"display: table-cell;\">subscribed_events&nbsp;=&nbsp;[],</div></div><div class=\"18392\" style=\"display: none;\"><div style=\"display: table-cell;\"></div><div style=\"display: table-cell;\">syncable&nbsp;=&nbsp;True,</div></div><div class=\"18392\" style=\"display: none;\"><div style=\"display: table-cell;\"></div><div style=\"display: table-cell;\">tags&nbsp;=&nbsp;[],</div></div><div class=\"18392\" style=\"display: none;\"><div style=\"display: table-cell;\"></div><div style=\"display: table-cell;\">visible&nbsp;=&nbsp;True,</div></div><div class=\"18392\" style=\"display: none;\"><div style=\"display: table-cell;\"></div><div style=\"display: table-cell;\">width&nbsp;=&nbsp;None,</div></div><div class=\"18392\" style=\"display: none;\"><div style=\"display: table-cell;\"></div><div style=\"display: table-cell;\">width_policy&nbsp;=&nbsp;'auto')</div></div></div>\n",
       "<script>\n",
       "(function() {\n",
       "  let expanded = false;\n",
       "  const ellipsis = document.getElementById(\"18393\");\n",
       "  ellipsis.addEventListener(\"click\", function() {\n",
       "    const rows = document.getElementsByClassName(\"18392\");\n",
       "    for (let i = 0; i < rows.length; i++) {\n",
       "      const el = rows[i];\n",
       "      el.style.display = expanded ? \"none\" : \"table-row\";\n",
       "    }\n",
       "    ellipsis.innerHTML = expanded ? \"&hellip;)\" : \"&lsaquo;&lsaquo;&lsaquo;\";\n",
       "    expanded = !expanded;\n",
       "  });\n",
       "})();\n",
       "</script>\n"
      ],
      "text/plain": [
       "Row(id='17545', ...)"
      ]
     },
     "execution_count": 47,
     "metadata": {},
     "output_type": "execute_result"
    }
   ],
   "source": [
    "#ベストを表示\n",
    "print(\"----- BEST -----\")\n",
    "display(top1_return[0][1])\n",
    "display(top1_return[0][1]._trades)\n",
    "top1_return[0][0].plot(filename = fname + str(top1_return[0][1]._strategy) + \"_best.html\")"
   ]
  },
  {
   "cell_type": "code",
   "execution_count": 48,
   "metadata": {},
   "outputs": [
    {
     "data": {
      "application/vnd.plotly.v1+json": {
       "config": {
        "plotlyServerURL": "https://plot.ly"
       },
       "data": [
        {
         "alignmentgroup": "True",
         "boxpoints": "all",
         "hovertemplate": "variable=%{x}<br>value=%{y}<extra></extra>",
         "legendgroup": "",
         "marker": {
          "color": "#636efa"
         },
         "name": "",
         "notched": false,
         "offsetgroup": "",
         "orientation": "v",
         "showlegend": false,
         "type": "box",
         "x": [
          "Return [%]",
          "Return [%]",
          "Return [%]",
          "Return [%]"
         ],
         "x0": " ",
         "xaxis": "x",
         "y": [
          0,
          0,
          8.81595,
          -0.4891391999999993
         ],
         "y0": " ",
         "yaxis": "y"
        }
       ],
       "layout": {
        "boxmode": "group",
        "legend": {
         "tracegroupgap": 0
        },
        "margin": {
         "t": 60
        },
        "template": {
         "data": {
          "bar": [
           {
            "error_x": {
             "color": "#2a3f5f"
            },
            "error_y": {
             "color": "#2a3f5f"
            },
            "marker": {
             "line": {
              "color": "#E5ECF6",
              "width": 0.5
             },
             "pattern": {
              "fillmode": "overlay",
              "size": 10,
              "solidity": 0.2
             }
            },
            "type": "bar"
           }
          ],
          "barpolar": [
           {
            "marker": {
             "line": {
              "color": "#E5ECF6",
              "width": 0.5
             },
             "pattern": {
              "fillmode": "overlay",
              "size": 10,
              "solidity": 0.2
             }
            },
            "type": "barpolar"
           }
          ],
          "carpet": [
           {
            "aaxis": {
             "endlinecolor": "#2a3f5f",
             "gridcolor": "white",
             "linecolor": "white",
             "minorgridcolor": "white",
             "startlinecolor": "#2a3f5f"
            },
            "baxis": {
             "endlinecolor": "#2a3f5f",
             "gridcolor": "white",
             "linecolor": "white",
             "minorgridcolor": "white",
             "startlinecolor": "#2a3f5f"
            },
            "type": "carpet"
           }
          ],
          "choropleth": [
           {
            "colorbar": {
             "outlinewidth": 0,
             "ticks": ""
            },
            "type": "choropleth"
           }
          ],
          "contour": [
           {
            "colorbar": {
             "outlinewidth": 0,
             "ticks": ""
            },
            "colorscale": [
             [
              0,
              "#0d0887"
             ],
             [
              0.1111111111111111,
              "#46039f"
             ],
             [
              0.2222222222222222,
              "#7201a8"
             ],
             [
              0.3333333333333333,
              "#9c179e"
             ],
             [
              0.4444444444444444,
              "#bd3786"
             ],
             [
              0.5555555555555556,
              "#d8576b"
             ],
             [
              0.6666666666666666,
              "#ed7953"
             ],
             [
              0.7777777777777778,
              "#fb9f3a"
             ],
             [
              0.8888888888888888,
              "#fdca26"
             ],
             [
              1,
              "#f0f921"
             ]
            ],
            "type": "contour"
           }
          ],
          "contourcarpet": [
           {
            "colorbar": {
             "outlinewidth": 0,
             "ticks": ""
            },
            "type": "contourcarpet"
           }
          ],
          "heatmap": [
           {
            "colorbar": {
             "outlinewidth": 0,
             "ticks": ""
            },
            "colorscale": [
             [
              0,
              "#0d0887"
             ],
             [
              0.1111111111111111,
              "#46039f"
             ],
             [
              0.2222222222222222,
              "#7201a8"
             ],
             [
              0.3333333333333333,
              "#9c179e"
             ],
             [
              0.4444444444444444,
              "#bd3786"
             ],
             [
              0.5555555555555556,
              "#d8576b"
             ],
             [
              0.6666666666666666,
              "#ed7953"
             ],
             [
              0.7777777777777778,
              "#fb9f3a"
             ],
             [
              0.8888888888888888,
              "#fdca26"
             ],
             [
              1,
              "#f0f921"
             ]
            ],
            "type": "heatmap"
           }
          ],
          "heatmapgl": [
           {
            "colorbar": {
             "outlinewidth": 0,
             "ticks": ""
            },
            "colorscale": [
             [
              0,
              "#0d0887"
             ],
             [
              0.1111111111111111,
              "#46039f"
             ],
             [
              0.2222222222222222,
              "#7201a8"
             ],
             [
              0.3333333333333333,
              "#9c179e"
             ],
             [
              0.4444444444444444,
              "#bd3786"
             ],
             [
              0.5555555555555556,
              "#d8576b"
             ],
             [
              0.6666666666666666,
              "#ed7953"
             ],
             [
              0.7777777777777778,
              "#fb9f3a"
             ],
             [
              0.8888888888888888,
              "#fdca26"
             ],
             [
              1,
              "#f0f921"
             ]
            ],
            "type": "heatmapgl"
           }
          ],
          "histogram": [
           {
            "marker": {
             "pattern": {
              "fillmode": "overlay",
              "size": 10,
              "solidity": 0.2
             }
            },
            "type": "histogram"
           }
          ],
          "histogram2d": [
           {
            "colorbar": {
             "outlinewidth": 0,
             "ticks": ""
            },
            "colorscale": [
             [
              0,
              "#0d0887"
             ],
             [
              0.1111111111111111,
              "#46039f"
             ],
             [
              0.2222222222222222,
              "#7201a8"
             ],
             [
              0.3333333333333333,
              "#9c179e"
             ],
             [
              0.4444444444444444,
              "#bd3786"
             ],
             [
              0.5555555555555556,
              "#d8576b"
             ],
             [
              0.6666666666666666,
              "#ed7953"
             ],
             [
              0.7777777777777778,
              "#fb9f3a"
             ],
             [
              0.8888888888888888,
              "#fdca26"
             ],
             [
              1,
              "#f0f921"
             ]
            ],
            "type": "histogram2d"
           }
          ],
          "histogram2dcontour": [
           {
            "colorbar": {
             "outlinewidth": 0,
             "ticks": ""
            },
            "colorscale": [
             [
              0,
              "#0d0887"
             ],
             [
              0.1111111111111111,
              "#46039f"
             ],
             [
              0.2222222222222222,
              "#7201a8"
             ],
             [
              0.3333333333333333,
              "#9c179e"
             ],
             [
              0.4444444444444444,
              "#bd3786"
             ],
             [
              0.5555555555555556,
              "#d8576b"
             ],
             [
              0.6666666666666666,
              "#ed7953"
             ],
             [
              0.7777777777777778,
              "#fb9f3a"
             ],
             [
              0.8888888888888888,
              "#fdca26"
             ],
             [
              1,
              "#f0f921"
             ]
            ],
            "type": "histogram2dcontour"
           }
          ],
          "mesh3d": [
           {
            "colorbar": {
             "outlinewidth": 0,
             "ticks": ""
            },
            "type": "mesh3d"
           }
          ],
          "parcoords": [
           {
            "line": {
             "colorbar": {
              "outlinewidth": 0,
              "ticks": ""
             }
            },
            "type": "parcoords"
           }
          ],
          "pie": [
           {
            "automargin": true,
            "type": "pie"
           }
          ],
          "scatter": [
           {
            "fillpattern": {
             "fillmode": "overlay",
             "size": 10,
             "solidity": 0.2
            },
            "type": "scatter"
           }
          ],
          "scatter3d": [
           {
            "line": {
             "colorbar": {
              "outlinewidth": 0,
              "ticks": ""
             }
            },
            "marker": {
             "colorbar": {
              "outlinewidth": 0,
              "ticks": ""
             }
            },
            "type": "scatter3d"
           }
          ],
          "scattercarpet": [
           {
            "marker": {
             "colorbar": {
              "outlinewidth": 0,
              "ticks": ""
             }
            },
            "type": "scattercarpet"
           }
          ],
          "scattergeo": [
           {
            "marker": {
             "colorbar": {
              "outlinewidth": 0,
              "ticks": ""
             }
            },
            "type": "scattergeo"
           }
          ],
          "scattergl": [
           {
            "marker": {
             "colorbar": {
              "outlinewidth": 0,
              "ticks": ""
             }
            },
            "type": "scattergl"
           }
          ],
          "scattermapbox": [
           {
            "marker": {
             "colorbar": {
              "outlinewidth": 0,
              "ticks": ""
             }
            },
            "type": "scattermapbox"
           }
          ],
          "scatterpolar": [
           {
            "marker": {
             "colorbar": {
              "outlinewidth": 0,
              "ticks": ""
             }
            },
            "type": "scatterpolar"
           }
          ],
          "scatterpolargl": [
           {
            "marker": {
             "colorbar": {
              "outlinewidth": 0,
              "ticks": ""
             }
            },
            "type": "scatterpolargl"
           }
          ],
          "scatterternary": [
           {
            "marker": {
             "colorbar": {
              "outlinewidth": 0,
              "ticks": ""
             }
            },
            "type": "scatterternary"
           }
          ],
          "surface": [
           {
            "colorbar": {
             "outlinewidth": 0,
             "ticks": ""
            },
            "colorscale": [
             [
              0,
              "#0d0887"
             ],
             [
              0.1111111111111111,
              "#46039f"
             ],
             [
              0.2222222222222222,
              "#7201a8"
             ],
             [
              0.3333333333333333,
              "#9c179e"
             ],
             [
              0.4444444444444444,
              "#bd3786"
             ],
             [
              0.5555555555555556,
              "#d8576b"
             ],
             [
              0.6666666666666666,
              "#ed7953"
             ],
             [
              0.7777777777777778,
              "#fb9f3a"
             ],
             [
              0.8888888888888888,
              "#fdca26"
             ],
             [
              1,
              "#f0f921"
             ]
            ],
            "type": "surface"
           }
          ],
          "table": [
           {
            "cells": {
             "fill": {
              "color": "#EBF0F8"
             },
             "line": {
              "color": "white"
             }
            },
            "header": {
             "fill": {
              "color": "#C8D4E3"
             },
             "line": {
              "color": "white"
             }
            },
            "type": "table"
           }
          ]
         },
         "layout": {
          "annotationdefaults": {
           "arrowcolor": "#2a3f5f",
           "arrowhead": 0,
           "arrowwidth": 1
          },
          "autotypenumbers": "strict",
          "coloraxis": {
           "colorbar": {
            "outlinewidth": 0,
            "ticks": ""
           }
          },
          "colorscale": {
           "diverging": [
            [
             0,
             "#8e0152"
            ],
            [
             0.1,
             "#c51b7d"
            ],
            [
             0.2,
             "#de77ae"
            ],
            [
             0.3,
             "#f1b6da"
            ],
            [
             0.4,
             "#fde0ef"
            ],
            [
             0.5,
             "#f7f7f7"
            ],
            [
             0.6,
             "#e6f5d0"
            ],
            [
             0.7,
             "#b8e186"
            ],
            [
             0.8,
             "#7fbc41"
            ],
            [
             0.9,
             "#4d9221"
            ],
            [
             1,
             "#276419"
            ]
           ],
           "sequential": [
            [
             0,
             "#0d0887"
            ],
            [
             0.1111111111111111,
             "#46039f"
            ],
            [
             0.2222222222222222,
             "#7201a8"
            ],
            [
             0.3333333333333333,
             "#9c179e"
            ],
            [
             0.4444444444444444,
             "#bd3786"
            ],
            [
             0.5555555555555556,
             "#d8576b"
            ],
            [
             0.6666666666666666,
             "#ed7953"
            ],
            [
             0.7777777777777778,
             "#fb9f3a"
            ],
            [
             0.8888888888888888,
             "#fdca26"
            ],
            [
             1,
             "#f0f921"
            ]
           ],
           "sequentialminus": [
            [
             0,
             "#0d0887"
            ],
            [
             0.1111111111111111,
             "#46039f"
            ],
            [
             0.2222222222222222,
             "#7201a8"
            ],
            [
             0.3333333333333333,
             "#9c179e"
            ],
            [
             0.4444444444444444,
             "#bd3786"
            ],
            [
             0.5555555555555556,
             "#d8576b"
            ],
            [
             0.6666666666666666,
             "#ed7953"
            ],
            [
             0.7777777777777778,
             "#fb9f3a"
            ],
            [
             0.8888888888888888,
             "#fdca26"
            ],
            [
             1,
             "#f0f921"
            ]
           ]
          },
          "colorway": [
           "#636efa",
           "#EF553B",
           "#00cc96",
           "#ab63fa",
           "#FFA15A",
           "#19d3f3",
           "#FF6692",
           "#B6E880",
           "#FF97FF",
           "#FECB52"
          ],
          "font": {
           "color": "#2a3f5f"
          },
          "geo": {
           "bgcolor": "white",
           "lakecolor": "white",
           "landcolor": "#E5ECF6",
           "showlakes": true,
           "showland": true,
           "subunitcolor": "white"
          },
          "hoverlabel": {
           "align": "left"
          },
          "hovermode": "closest",
          "mapbox": {
           "style": "light"
          },
          "paper_bgcolor": "white",
          "plot_bgcolor": "#E5ECF6",
          "polar": {
           "angularaxis": {
            "gridcolor": "white",
            "linecolor": "white",
            "ticks": ""
           },
           "bgcolor": "#E5ECF6",
           "radialaxis": {
            "gridcolor": "white",
            "linecolor": "white",
            "ticks": ""
           }
          },
          "scene": {
           "xaxis": {
            "backgroundcolor": "#E5ECF6",
            "gridcolor": "white",
            "gridwidth": 2,
            "linecolor": "white",
            "showbackground": true,
            "ticks": "",
            "zerolinecolor": "white"
           },
           "yaxis": {
            "backgroundcolor": "#E5ECF6",
            "gridcolor": "white",
            "gridwidth": 2,
            "linecolor": "white",
            "showbackground": true,
            "ticks": "",
            "zerolinecolor": "white"
           },
           "zaxis": {
            "backgroundcolor": "#E5ECF6",
            "gridcolor": "white",
            "gridwidth": 2,
            "linecolor": "white",
            "showbackground": true,
            "ticks": "",
            "zerolinecolor": "white"
           }
          },
          "shapedefaults": {
           "line": {
            "color": "#2a3f5f"
           }
          },
          "ternary": {
           "aaxis": {
            "gridcolor": "white",
            "linecolor": "white",
            "ticks": ""
           },
           "baxis": {
            "gridcolor": "white",
            "linecolor": "white",
            "ticks": ""
           },
           "bgcolor": "#E5ECF6",
           "caxis": {
            "gridcolor": "white",
            "linecolor": "white",
            "ticks": ""
           }
          },
          "title": {
           "x": 0.05
          },
          "xaxis": {
           "automargin": true,
           "gridcolor": "white",
           "linecolor": "white",
           "ticks": "",
           "title": {
            "standoff": 15
           },
           "zerolinecolor": "white",
           "zerolinewidth": 2
          },
          "yaxis": {
           "automargin": true,
           "gridcolor": "white",
           "linecolor": "white",
           "ticks": "",
           "title": {
            "standoff": 15
           },
           "zerolinecolor": "white",
           "zerolinewidth": 2
          }
         }
        },
        "xaxis": {
         "anchor": "y",
         "domain": [
          0,
          1
         ],
         "title": {
          "text": "Strategy"
         }
        },
        "yaxis": {
         "anchor": "x",
         "domain": [
          0,
          1
         ],
         "title": {
          "text": "Return [%]"
         }
        }
       }
      }
     },
     "metadata": {},
     "output_type": "display_data"
    }
   ],
   "source": [
    "#散布図を表示\n",
    "fig = px.box(df[\"Return [%]\"], points = \"all\")\n",
    "fig.update_layout(\n",
    "    xaxis_title = \"Strategy\",\n",
    "    yaxis_title = \"Return [%]\"\n",
    ")\n",
    "fig.show()"
   ]
  }
 ],
 "metadata": {
  "kernelspec": {
   "display_name": "Python 3.10.6 64-bit",
   "language": "python",
   "name": "python3"
  },
  "language_info": {
   "codemirror_mode": {
    "name": "ipython",
    "version": 3
   },
   "file_extension": ".py",
   "mimetype": "text/x-python",
   "name": "python",
   "nbconvert_exporter": "python",
   "pygments_lexer": "ipython3",
   "version": "3.10.6"
  },
  "orig_nbformat": 4,
  "vscode": {
   "interpreter": {
    "hash": "369f2c481f4da34e4445cda3fffd2e751bd1c4d706f27375911949ba6bb62e1c"
   }
  }
 },
 "nbformat": 4,
 "nbformat_minor": 2
}
