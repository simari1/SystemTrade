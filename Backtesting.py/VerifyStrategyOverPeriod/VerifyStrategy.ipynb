{
 "cells": [
  {
   "cell_type": "code",
   "execution_count": 37,
   "metadata": {},
   "outputs": [],
   "source": [
    "import pandas_datareader.data as web\n",
    "import pandas as pd\n",
    "import datetime\n",
    "from decimal import Decimal\n",
    "from dateutil import relativedelta\n",
    "from backtesting import Backtest, Strategy\n",
    "from backtesting.lib import crossover, resample_apply\n",
    "import importlib\n",
    "import plotly.express as px\n",
    "\n",
    "#Change me!\n",
    "start = datetime.datetime.today() + relativedelta.relativedelta(years=-5)\n",
    "split_unit = \"6M\"\n",
    "modulename = \"BacktestingStrategies.Strategy_RsiOscillator\"\n",
    "classname = \"btst.RsiOscillator\"\n",
    "end = datetime.date.today()\n",
    "\n",
    "data = web.DataReader('1357.T', 'yahoo', start, end)  #NEXT FUNDS 日経平均ダブルインバース・インデックス連動型上場投信\n",
    "data = data.astype(\"double\")\n",
    "\n",
    "initial = 1000_000\n",
    "fname = f\"html/plot-\""
   ]
  },
  {
   "cell_type": "code",
   "execution_count": 38,
   "metadata": {},
   "outputs": [],
   "source": [
    "#日付データを検証期間単位ごとにSplit\n",
    "#https://kakakakakku.hatenablog.com/entry/2021/05/24/002542\n",
    "grouped_data = data.groupby(pd.Grouper(freq = split_unit))\n",
    "dfs = [group for _, group in grouped_data]"
   ]
  },
  {
   "cell_type": "code",
   "execution_count": 39,
   "metadata": {},
   "outputs": [],
   "source": [
    "#検証期間単位ごとにバックテスト＆結果を蓄積\n",
    "#親ディレクトリ経由で呼び出し   # https://qiita.com/yokohama4580/items/466a483ae022d264c8ee\n",
    "import os\n",
    "import sys\n",
    "sys.path.append(os.pardir)\n",
    "\n",
    "btst = importlib.import_module(modulename)\n",
    "# from BacktestingStrategies import Strategy_RsiOscillator as btst\n",
    "importlib.reload(btst)\n",
    "import warnings\n",
    "warnings.simplefilter('ignore')\n",
    "\n",
    "returns = []\n",
    "\n",
    "for monthly_data in dfs:\n",
    "    # バックテストを設定\n",
    "    bt = Backtest(\n",
    "        monthly_data, # チャートデータ\n",
    "        eval(classname), # 売買戦略\n",
    "        cash=initial, # 最初の所持金\n",
    "        commission=0.00495, # 取引手数料\n",
    "        margin=1.0, # レバレッジ倍率の逆数（0.5で2倍レバレッジ）\n",
    "        trade_on_close=False, # True：現在の終値で取引，False：次の時間の始値で取引\n",
    "        exclusive_orders=True #自動でポジションをクローズ(オープン)\n",
    "    )\n",
    "\n",
    "    output = bt.run() # バックテスト実行\n",
    "    returns.append(output)"
   ]
  },
  {
   "cell_type": "code",
   "execution_count": 40,
   "metadata": {},
   "outputs": [
    {
     "name": "stdout",
     "output_type": "stream",
     "text": [
      "１期間単位: 6M\n",
      "テスト期間: 11\n",
      "平均Return [%]: -4.9471\n",
      "最大Return [%]: 11.32252611\n",
      "最大Return期間: 2019-04-01T00:00:00.000000000 - 2019-09-30T00:00:00.000000000\n",
      "最低Return [%]: -36.801341850000014\n",
      "最低Return期間: 2020-04-01T00:00:00.000000000 - 2020-09-30T00:00:00.000000000\n"
     ]
    }
   ],
   "source": [
    "import statistics\n",
    "\n",
    "df = pd.DataFrame(returns)\n",
    "\n",
    "#最低と最大の期間のBacktestingを表示＆実行\n",
    "lines = \"１期間単位: \" + split_unit + \"\\n\"\n",
    "lines += \"テスト期間: \" + str(len(returns)) + \"\\n\"\n",
    "res = round(statistics.mean(df[\"Return [%]\"]), 4)\n",
    "\n",
    "#リターンが最小のものの期間を取得\n",
    "min_return = df[df[\"# Trades\"] != 0][\"Return [%]\"].min()\n",
    "min_period_start = pd.to_datetime(df[df[\"Return [%]\"] == min_return][\"Start\"]).values[0]\n",
    "min_period_end = pd.to_datetime(df[df[\"Return [%]\"] == min_return][\"End\"]).values[0]\n",
    "df_min = data[min_period_start : min_period_end]\n",
    "\n",
    "#リターンが2番目、3番目に小さいものの期間を取得\n",
    "min_return_3 = df[df[\"# Trades\"] != 0][\"Return [%]\"].nsmallest(3)\n",
    "min2_period_start = pd.to_datetime(df[df[\"Return [%]\"] == min_return_3.values[1]][\"Start\"]).values[0]\n",
    "min2_period_end = pd.to_datetime(df[df[\"Return [%]\"] == min_return_3.values[1]][\"End\"]).values[0]\n",
    "min3_period_start = pd.to_datetime(df[df[\"Return [%]\"] == min_return_3.values[2]][\"Start\"]).values[0]\n",
    "min3_period_end = pd.to_datetime(df[df[\"Return [%]\"] == min_return_3.values[2]][\"End\"]).values[0]\n",
    "df_min2 = data[min2_period_start : min2_period_end]\n",
    "df_min3 = data[min3_period_start : min3_period_end]\n",
    "\n",
    "#リターンが最大のものの期間を取得\n",
    "max_return = df[df[\"# Trades\"] != 0][\"Return [%]\"].max()\n",
    "max_period_start = pd.to_datetime(df[df[\"Return [%]\"] == max_return][\"Start\"]).values[0]\n",
    "max_period_end = pd.to_datetime(df[df[\"Return [%]\"] == max_return][\"End\"]).values[0]\n",
    "df_max = data[max_period_start : max_period_end]\n",
    "\n",
    "lines += \"平均Return [%]: \" + str(res) + \"\\n\"\n",
    "lines += \"最大Return [%]: \" + str(max_return) + \"\\n\"\n",
    "lines += \"最大Return期間: \" + str(max_period_start) + \" - \" + str(max_period_end) + \"\\n\"\n",
    "lines += \"最低Return [%]: \" + str(min_return) + \"\\n\"\n",
    "lines += \"最低Return期間: \" + str(min_period_start) + \" - \" + str(min_period_end) \n",
    "\n",
    "print(lines)\n",
    "\n"
   ]
  },
  {
   "cell_type": "code",
   "execution_count": 41,
   "metadata": {},
   "outputs": [
    {
     "data": {
      "application/vnd.plotly.v1+json": {
       "config": {
        "plotlyServerURL": "https://plot.ly"
       },
       "data": [
        {
         "alignmentgroup": "True",
         "boxpoints": "all",
         "hovertemplate": "variable=%{x}<br>value=%{y}<extra></extra>",
         "legendgroup": "",
         "marker": {
          "color": "#636efa"
         },
         "name": "",
         "notched": false,
         "offsetgroup": "",
         "orientation": "v",
         "showlegend": false,
         "type": "box",
         "x": [
          "Return [%]",
          "Return [%]",
          "Return [%]",
          "Return [%]",
          "Return [%]",
          "Return [%]",
          "Return [%]",
          "Return [%]",
          "Return [%]",
          "Return [%]",
          "Return [%]"
         ],
         "x0": " ",
         "xaxis": "x",
         "y": [
          0,
          -5.869412189999991,
          -16.995759195000005,
          0,
          11.32252611,
          10.281400729999994,
          -36.801341850000014,
          -22.511116110000014,
          -0.7542458000000101,
          0,
          6.910026480000001
         ],
         "y0": " ",
         "yaxis": "y"
        }
       ],
       "layout": {
        "boxmode": "group",
        "legend": {
         "tracegroupgap": 0
        },
        "margin": {
         "t": 60
        },
        "template": {
         "data": {
          "bar": [
           {
            "error_x": {
             "color": "#2a3f5f"
            },
            "error_y": {
             "color": "#2a3f5f"
            },
            "marker": {
             "line": {
              "color": "#E5ECF6",
              "width": 0.5
             },
             "pattern": {
              "fillmode": "overlay",
              "size": 10,
              "solidity": 0.2
             }
            },
            "type": "bar"
           }
          ],
          "barpolar": [
           {
            "marker": {
             "line": {
              "color": "#E5ECF6",
              "width": 0.5
             },
             "pattern": {
              "fillmode": "overlay",
              "size": 10,
              "solidity": 0.2
             }
            },
            "type": "barpolar"
           }
          ],
          "carpet": [
           {
            "aaxis": {
             "endlinecolor": "#2a3f5f",
             "gridcolor": "white",
             "linecolor": "white",
             "minorgridcolor": "white",
             "startlinecolor": "#2a3f5f"
            },
            "baxis": {
             "endlinecolor": "#2a3f5f",
             "gridcolor": "white",
             "linecolor": "white",
             "minorgridcolor": "white",
             "startlinecolor": "#2a3f5f"
            },
            "type": "carpet"
           }
          ],
          "choropleth": [
           {
            "colorbar": {
             "outlinewidth": 0,
             "ticks": ""
            },
            "type": "choropleth"
           }
          ],
          "contour": [
           {
            "colorbar": {
             "outlinewidth": 0,
             "ticks": ""
            },
            "colorscale": [
             [
              0,
              "#0d0887"
             ],
             [
              0.1111111111111111,
              "#46039f"
             ],
             [
              0.2222222222222222,
              "#7201a8"
             ],
             [
              0.3333333333333333,
              "#9c179e"
             ],
             [
              0.4444444444444444,
              "#bd3786"
             ],
             [
              0.5555555555555556,
              "#d8576b"
             ],
             [
              0.6666666666666666,
              "#ed7953"
             ],
             [
              0.7777777777777778,
              "#fb9f3a"
             ],
             [
              0.8888888888888888,
              "#fdca26"
             ],
             [
              1,
              "#f0f921"
             ]
            ],
            "type": "contour"
           }
          ],
          "contourcarpet": [
           {
            "colorbar": {
             "outlinewidth": 0,
             "ticks": ""
            },
            "type": "contourcarpet"
           }
          ],
          "heatmap": [
           {
            "colorbar": {
             "outlinewidth": 0,
             "ticks": ""
            },
            "colorscale": [
             [
              0,
              "#0d0887"
             ],
             [
              0.1111111111111111,
              "#46039f"
             ],
             [
              0.2222222222222222,
              "#7201a8"
             ],
             [
              0.3333333333333333,
              "#9c179e"
             ],
             [
              0.4444444444444444,
              "#bd3786"
             ],
             [
              0.5555555555555556,
              "#d8576b"
             ],
             [
              0.6666666666666666,
              "#ed7953"
             ],
             [
              0.7777777777777778,
              "#fb9f3a"
             ],
             [
              0.8888888888888888,
              "#fdca26"
             ],
             [
              1,
              "#f0f921"
             ]
            ],
            "type": "heatmap"
           }
          ],
          "heatmapgl": [
           {
            "colorbar": {
             "outlinewidth": 0,
             "ticks": ""
            },
            "colorscale": [
             [
              0,
              "#0d0887"
             ],
             [
              0.1111111111111111,
              "#46039f"
             ],
             [
              0.2222222222222222,
              "#7201a8"
             ],
             [
              0.3333333333333333,
              "#9c179e"
             ],
             [
              0.4444444444444444,
              "#bd3786"
             ],
             [
              0.5555555555555556,
              "#d8576b"
             ],
             [
              0.6666666666666666,
              "#ed7953"
             ],
             [
              0.7777777777777778,
              "#fb9f3a"
             ],
             [
              0.8888888888888888,
              "#fdca26"
             ],
             [
              1,
              "#f0f921"
             ]
            ],
            "type": "heatmapgl"
           }
          ],
          "histogram": [
           {
            "marker": {
             "pattern": {
              "fillmode": "overlay",
              "size": 10,
              "solidity": 0.2
             }
            },
            "type": "histogram"
           }
          ],
          "histogram2d": [
           {
            "colorbar": {
             "outlinewidth": 0,
             "ticks": ""
            },
            "colorscale": [
             [
              0,
              "#0d0887"
             ],
             [
              0.1111111111111111,
              "#46039f"
             ],
             [
              0.2222222222222222,
              "#7201a8"
             ],
             [
              0.3333333333333333,
              "#9c179e"
             ],
             [
              0.4444444444444444,
              "#bd3786"
             ],
             [
              0.5555555555555556,
              "#d8576b"
             ],
             [
              0.6666666666666666,
              "#ed7953"
             ],
             [
              0.7777777777777778,
              "#fb9f3a"
             ],
             [
              0.8888888888888888,
              "#fdca26"
             ],
             [
              1,
              "#f0f921"
             ]
            ],
            "type": "histogram2d"
           }
          ],
          "histogram2dcontour": [
           {
            "colorbar": {
             "outlinewidth": 0,
             "ticks": ""
            },
            "colorscale": [
             [
              0,
              "#0d0887"
             ],
             [
              0.1111111111111111,
              "#46039f"
             ],
             [
              0.2222222222222222,
              "#7201a8"
             ],
             [
              0.3333333333333333,
              "#9c179e"
             ],
             [
              0.4444444444444444,
              "#bd3786"
             ],
             [
              0.5555555555555556,
              "#d8576b"
             ],
             [
              0.6666666666666666,
              "#ed7953"
             ],
             [
              0.7777777777777778,
              "#fb9f3a"
             ],
             [
              0.8888888888888888,
              "#fdca26"
             ],
             [
              1,
              "#f0f921"
             ]
            ],
            "type": "histogram2dcontour"
           }
          ],
          "mesh3d": [
           {
            "colorbar": {
             "outlinewidth": 0,
             "ticks": ""
            },
            "type": "mesh3d"
           }
          ],
          "parcoords": [
           {
            "line": {
             "colorbar": {
              "outlinewidth": 0,
              "ticks": ""
             }
            },
            "type": "parcoords"
           }
          ],
          "pie": [
           {
            "automargin": true,
            "type": "pie"
           }
          ],
          "scatter": [
           {
            "fillpattern": {
             "fillmode": "overlay",
             "size": 10,
             "solidity": 0.2
            },
            "type": "scatter"
           }
          ],
          "scatter3d": [
           {
            "line": {
             "colorbar": {
              "outlinewidth": 0,
              "ticks": ""
             }
            },
            "marker": {
             "colorbar": {
              "outlinewidth": 0,
              "ticks": ""
             }
            },
            "type": "scatter3d"
           }
          ],
          "scattercarpet": [
           {
            "marker": {
             "colorbar": {
              "outlinewidth": 0,
              "ticks": ""
             }
            },
            "type": "scattercarpet"
           }
          ],
          "scattergeo": [
           {
            "marker": {
             "colorbar": {
              "outlinewidth": 0,
              "ticks": ""
             }
            },
            "type": "scattergeo"
           }
          ],
          "scattergl": [
           {
            "marker": {
             "colorbar": {
              "outlinewidth": 0,
              "ticks": ""
             }
            },
            "type": "scattergl"
           }
          ],
          "scattermapbox": [
           {
            "marker": {
             "colorbar": {
              "outlinewidth": 0,
              "ticks": ""
             }
            },
            "type": "scattermapbox"
           }
          ],
          "scatterpolar": [
           {
            "marker": {
             "colorbar": {
              "outlinewidth": 0,
              "ticks": ""
             }
            },
            "type": "scatterpolar"
           }
          ],
          "scatterpolargl": [
           {
            "marker": {
             "colorbar": {
              "outlinewidth": 0,
              "ticks": ""
             }
            },
            "type": "scatterpolargl"
           }
          ],
          "scatterternary": [
           {
            "marker": {
             "colorbar": {
              "outlinewidth": 0,
              "ticks": ""
             }
            },
            "type": "scatterternary"
           }
          ],
          "surface": [
           {
            "colorbar": {
             "outlinewidth": 0,
             "ticks": ""
            },
            "colorscale": [
             [
              0,
              "#0d0887"
             ],
             [
              0.1111111111111111,
              "#46039f"
             ],
             [
              0.2222222222222222,
              "#7201a8"
             ],
             [
              0.3333333333333333,
              "#9c179e"
             ],
             [
              0.4444444444444444,
              "#bd3786"
             ],
             [
              0.5555555555555556,
              "#d8576b"
             ],
             [
              0.6666666666666666,
              "#ed7953"
             ],
             [
              0.7777777777777778,
              "#fb9f3a"
             ],
             [
              0.8888888888888888,
              "#fdca26"
             ],
             [
              1,
              "#f0f921"
             ]
            ],
            "type": "surface"
           }
          ],
          "table": [
           {
            "cells": {
             "fill": {
              "color": "#EBF0F8"
             },
             "line": {
              "color": "white"
             }
            },
            "header": {
             "fill": {
              "color": "#C8D4E3"
             },
             "line": {
              "color": "white"
             }
            },
            "type": "table"
           }
          ]
         },
         "layout": {
          "annotationdefaults": {
           "arrowcolor": "#2a3f5f",
           "arrowhead": 0,
           "arrowwidth": 1
          },
          "autotypenumbers": "strict",
          "coloraxis": {
           "colorbar": {
            "outlinewidth": 0,
            "ticks": ""
           }
          },
          "colorscale": {
           "diverging": [
            [
             0,
             "#8e0152"
            ],
            [
             0.1,
             "#c51b7d"
            ],
            [
             0.2,
             "#de77ae"
            ],
            [
             0.3,
             "#f1b6da"
            ],
            [
             0.4,
             "#fde0ef"
            ],
            [
             0.5,
             "#f7f7f7"
            ],
            [
             0.6,
             "#e6f5d0"
            ],
            [
             0.7,
             "#b8e186"
            ],
            [
             0.8,
             "#7fbc41"
            ],
            [
             0.9,
             "#4d9221"
            ],
            [
             1,
             "#276419"
            ]
           ],
           "sequential": [
            [
             0,
             "#0d0887"
            ],
            [
             0.1111111111111111,
             "#46039f"
            ],
            [
             0.2222222222222222,
             "#7201a8"
            ],
            [
             0.3333333333333333,
             "#9c179e"
            ],
            [
             0.4444444444444444,
             "#bd3786"
            ],
            [
             0.5555555555555556,
             "#d8576b"
            ],
            [
             0.6666666666666666,
             "#ed7953"
            ],
            [
             0.7777777777777778,
             "#fb9f3a"
            ],
            [
             0.8888888888888888,
             "#fdca26"
            ],
            [
             1,
             "#f0f921"
            ]
           ],
           "sequentialminus": [
            [
             0,
             "#0d0887"
            ],
            [
             0.1111111111111111,
             "#46039f"
            ],
            [
             0.2222222222222222,
             "#7201a8"
            ],
            [
             0.3333333333333333,
             "#9c179e"
            ],
            [
             0.4444444444444444,
             "#bd3786"
            ],
            [
             0.5555555555555556,
             "#d8576b"
            ],
            [
             0.6666666666666666,
             "#ed7953"
            ],
            [
             0.7777777777777778,
             "#fb9f3a"
            ],
            [
             0.8888888888888888,
             "#fdca26"
            ],
            [
             1,
             "#f0f921"
            ]
           ]
          },
          "colorway": [
           "#636efa",
           "#EF553B",
           "#00cc96",
           "#ab63fa",
           "#FFA15A",
           "#19d3f3",
           "#FF6692",
           "#B6E880",
           "#FF97FF",
           "#FECB52"
          ],
          "font": {
           "color": "#2a3f5f"
          },
          "geo": {
           "bgcolor": "white",
           "lakecolor": "white",
           "landcolor": "#E5ECF6",
           "showlakes": true,
           "showland": true,
           "subunitcolor": "white"
          },
          "hoverlabel": {
           "align": "left"
          },
          "hovermode": "closest",
          "mapbox": {
           "style": "light"
          },
          "paper_bgcolor": "white",
          "plot_bgcolor": "#E5ECF6",
          "polar": {
           "angularaxis": {
            "gridcolor": "white",
            "linecolor": "white",
            "ticks": ""
           },
           "bgcolor": "#E5ECF6",
           "radialaxis": {
            "gridcolor": "white",
            "linecolor": "white",
            "ticks": ""
           }
          },
          "scene": {
           "xaxis": {
            "backgroundcolor": "#E5ECF6",
            "gridcolor": "white",
            "gridwidth": 2,
            "linecolor": "white",
            "showbackground": true,
            "ticks": "",
            "zerolinecolor": "white"
           },
           "yaxis": {
            "backgroundcolor": "#E5ECF6",
            "gridcolor": "white",
            "gridwidth": 2,
            "linecolor": "white",
            "showbackground": true,
            "ticks": "",
            "zerolinecolor": "white"
           },
           "zaxis": {
            "backgroundcolor": "#E5ECF6",
            "gridcolor": "white",
            "gridwidth": 2,
            "linecolor": "white",
            "showbackground": true,
            "ticks": "",
            "zerolinecolor": "white"
           }
          },
          "shapedefaults": {
           "line": {
            "color": "#2a3f5f"
           }
          },
          "ternary": {
           "aaxis": {
            "gridcolor": "white",
            "linecolor": "white",
            "ticks": ""
           },
           "baxis": {
            "gridcolor": "white",
            "linecolor": "white",
            "ticks": ""
           },
           "bgcolor": "#E5ECF6",
           "caxis": {
            "gridcolor": "white",
            "linecolor": "white",
            "ticks": ""
           }
          },
          "title": {
           "x": 0.05
          },
          "xaxis": {
           "automargin": true,
           "gridcolor": "white",
           "linecolor": "white",
           "ticks": "",
           "title": {
            "standoff": 15
           },
           "zerolinecolor": "white",
           "zerolinewidth": 2
          },
          "yaxis": {
           "automargin": true,
           "gridcolor": "white",
           "linecolor": "white",
           "ticks": "",
           "title": {
            "standoff": 15
           },
           "zerolinecolor": "white",
           "zerolinewidth": 2
          }
         }
        },
        "xaxis": {
         "anchor": "y",
         "domain": [
          0,
          1
         ],
         "title": {
          "text": "Strategy"
         }
        },
        "yaxis": {
         "anchor": "x",
         "domain": [
          0,
          1
         ],
         "title": {
          "text": "Return [%]"
         }
        }
       }
      }
     },
     "metadata": {},
     "output_type": "display_data"
    }
   ],
   "source": [
    "#取引ない月込み\n",
    "fig = px.box(df[\"Return [%]\"], points = \"all\")\n",
    "fig.update_layout(\n",
    "    xaxis_title = \"Strategy\",\n",
    "    yaxis_title = \"Return [%]\"\n",
    ")\n",
    "fig.show()"
   ]
  },
  {
   "cell_type": "code",
   "execution_count": 42,
   "metadata": {},
   "outputs": [
    {
     "name": "stdout",
     "output_type": "stream",
     "text": [
      "----------WORST----------\n",
      "Start                     2020-04-01 00:00:00\n",
      "End                       2020-09-30 00:00:00\n",
      "Duration                    182 days 00:00:00\n",
      "Exposure Time [%]                   81.967213\n",
      "Equity Final [$]                  631986.5815\n",
      "Equity Peak [$]                     1000000.0\n",
      "Return [%]                         -36.801342\n",
      "Buy & Hold Return [%]              -45.884146\n",
      "Return (Ann.) [%]                  -61.243248\n",
      "Volatility (Ann.) [%]               14.257169\n",
      "Sharpe Ratio                              0.0\n",
      "Sortino Ratio                             0.0\n",
      "Calmar Ratio                              0.0\n",
      "Max. Drawdown [%]                  -37.165342\n",
      "Avg. Drawdown [%]                  -37.165342\n",
      "Max. Drawdown Duration      152 days 00:00:00\n",
      "Avg. Drawdown Duration      152 days 00:00:00\n",
      "# Trades                                    1\n",
      "Win Rate [%]                              0.0\n",
      "Best Trade [%]                     -36.817784\n",
      "Worst Trade [%]                    -36.817784\n",
      "Avg. Trade [%]                     -36.817784\n",
      "Max. Trade Duration         146 days 00:00:00\n",
      "Avg. Trade Duration         146 days 00:00:00\n",
      "Profit Factor                             0.0\n",
      "Expectancy [%]                     -36.817784\n",
      "SQN                                       NaN\n",
      "_strategy                       RsiOscillator\n",
      "_equity_curve                             ...\n",
      "_trades                      Size  EntryBa...\n",
      "dtype: object\n"
     ]
    },
    {
     "data": {
      "text/html": [
       "<div>\n",
       "<style scoped>\n",
       "    .dataframe tbody tr th:only-of-type {\n",
       "        vertical-align: middle;\n",
       "    }\n",
       "\n",
       "    .dataframe tbody tr th {\n",
       "        vertical-align: top;\n",
       "    }\n",
       "\n",
       "    .dataframe thead th {\n",
       "        text-align: right;\n",
       "    }\n",
       "</style>\n",
       "<table border=\"1\" class=\"dataframe\">\n",
       "  <thead>\n",
       "    <tr style=\"text-align: right;\">\n",
       "      <th></th>\n",
       "      <th>Size</th>\n",
       "      <th>EntryBar</th>\n",
       "      <th>ExitBar</th>\n",
       "      <th>EntryPrice</th>\n",
       "      <th>ExitPrice</th>\n",
       "      <th>PnL</th>\n",
       "      <th>ReturnPct</th>\n",
       "      <th>EntryTime</th>\n",
       "      <th>ExitTime</th>\n",
       "      <th>Duration</th>\n",
       "    </tr>\n",
       "  </thead>\n",
       "  <tbody>\n",
       "    <tr>\n",
       "      <th>0</th>\n",
       "      <td>910</td>\n",
       "      <td>22</td>\n",
       "      <td>121</td>\n",
       "      <td>1098.41035</td>\n",
       "      <td>694.0</td>\n",
       "      <td>-368013.4185</td>\n",
       "      <td>-0.368178</td>\n",
       "      <td>2020-05-07</td>\n",
       "      <td>2020-09-30</td>\n",
       "      <td>146 days</td>\n",
       "    </tr>\n",
       "  </tbody>\n",
       "</table>\n",
       "</div>"
      ],
      "text/plain": [
       "   Size  EntryBar  ExitBar  EntryPrice  ExitPrice          PnL  ReturnPct  \\\n",
       "0   910        22      121  1098.41035      694.0 -368013.4185  -0.368178   \n",
       "\n",
       "   EntryTime   ExitTime Duration  \n",
       "0 2020-05-07 2020-09-30 146 days  "
      ]
     },
     "metadata": {},
     "output_type": "display_data"
    },
    {
     "name": "stdout",
     "output_type": "stream",
     "text": [
      "----------MIN2----------\n",
      "Start                     2020-10-02 00:00:00\n",
      "End                       2021-03-31 00:00:00\n",
      "Duration                    180 days 00:00:00\n",
      "Exposure Time [%]                   62.295082\n",
      "Equity Final [$]                  774888.8389\n",
      "Equity Peak [$]                  1004406.8389\n",
      "Return [%]                         -22.511116\n",
      "Buy & Hold Return [%]              -42.243767\n",
      "Return (Ann.) [%]                  -40.950555\n",
      "Volatility (Ann.) [%]               18.091922\n",
      "Sharpe Ratio                              0.0\n",
      "Sortino Ratio                             0.0\n",
      "Calmar Ratio                              0.0\n",
      "Max. Drawdown [%]                  -26.566725\n",
      "Avg. Drawdown [%]                   -14.55582\n",
      "Max. Drawdown Duration       99 days 00:00:00\n",
      "Avg. Drawdown Duration       57 days 00:00:00\n",
      "# Trades                                    1\n",
      "Win Rate [%]                              0.0\n",
      "Best Trade [%]                     -22.522351\n",
      "Worst Trade [%]                    -22.522351\n",
      "Avg. Trade [%]                     -22.522351\n",
      "Max. Trade Duration         112 days 00:00:00\n",
      "Avg. Trade Duration         112 days 00:00:00\n",
      "Profit Factor                             0.0\n",
      "Expectancy [%]                     -22.522351\n",
      "SQN                                       NaN\n",
      "_strategy                       RsiOscillator\n",
      "_equity_curve                             ...\n",
      "_trades                      Size  EntryBa...\n",
      "dtype: object\n"
     ]
    },
    {
     "data": {
      "text/html": [
       "<div>\n",
       "<style scoped>\n",
       "    .dataframe tbody tr th:only-of-type {\n",
       "        vertical-align: middle;\n",
       "    }\n",
       "\n",
       "    .dataframe tbody tr th {\n",
       "        vertical-align: top;\n",
       "    }\n",
       "\n",
       "    .dataframe thead th {\n",
       "        text-align: right;\n",
       "    }\n",
       "</style>\n",
       "<table border=\"1\" class=\"dataframe\">\n",
       "  <thead>\n",
       "    <tr style=\"text-align: right;\">\n",
       "      <th></th>\n",
       "      <th>Size</th>\n",
       "      <th>EntryBar</th>\n",
       "      <th>ExitBar</th>\n",
       "      <th>EntryPrice</th>\n",
       "      <th>ExitPrice</th>\n",
       "      <th>PnL</th>\n",
       "      <th>ReturnPct</th>\n",
       "      <th>EntryTime</th>\n",
       "      <th>ExitTime</th>\n",
       "      <th>Duration</th>\n",
       "    </tr>\n",
       "  </thead>\n",
       "  <tbody>\n",
       "    <tr>\n",
       "      <th>0</th>\n",
       "      <td>1866</td>\n",
       "      <td>46</td>\n",
       "      <td>121</td>\n",
       "      <td>535.63835</td>\n",
       "      <td>415.0</td>\n",
       "      <td>-225111.1611</td>\n",
       "      <td>-0.225224</td>\n",
       "      <td>2020-12-09</td>\n",
       "      <td>2021-03-31</td>\n",
       "      <td>112 days</td>\n",
       "    </tr>\n",
       "  </tbody>\n",
       "</table>\n",
       "</div>"
      ],
      "text/plain": [
       "   Size  EntryBar  ExitBar  EntryPrice  ExitPrice          PnL  ReturnPct  \\\n",
       "0  1866        46      121   535.63835      415.0 -225111.1611  -0.225224   \n",
       "\n",
       "   EntryTime   ExitTime Duration  \n",
       "0 2020-12-09 2021-03-31 112 days  "
      ]
     },
     "metadata": {},
     "output_type": "display_data"
    },
    {
     "name": "stdout",
     "output_type": "stream",
     "text": [
      "----------MIN3----------\n",
      "Start                     2018-04-02 00:00:00\n",
      "End                       2018-09-28 00:00:00\n",
      "Duration                    179 days 00:00:00\n",
      "Exposure Time [%]                   78.461538\n",
      "Equity Final [$]                 830042.40805\n",
      "Equity Peak [$]                 1070315.40805\n",
      "Return [%]                         -16.995759\n",
      "Buy & Hold Return [%]              -25.256223\n",
      "Return (Ann.) [%]                  -30.308629\n",
      "Volatility (Ann.) [%]               16.374175\n",
      "Sharpe Ratio                              0.0\n",
      "Sortino Ratio                             0.0\n",
      "Calmar Ratio                              0.0\n",
      "Max. Drawdown [%]                  -22.448803\n",
      "Avg. Drawdown [%]                   -11.91536\n",
      "Max. Drawdown Duration       85 days 00:00:00\n",
      "Avg. Drawdown Duration       46 days 00:00:00\n",
      "# Trades                                    1\n",
      "Win Rate [%]                              0.0\n",
      "Best Trade [%]                     -17.009663\n",
      "Worst Trade [%]                    -17.009663\n",
      "Avg. Trade [%]                     -17.009663\n",
      "Max. Trade Duration         141 days 00:00:00\n",
      "Avg. Trade Duration         141 days 00:00:00\n",
      "Profit Factor                             0.0\n",
      "Expectancy [%]                     -17.009663\n",
      "SQN                                       NaN\n",
      "_strategy                       RsiOscillator\n",
      "_equity_curve                             ...\n",
      "_trades                      Size  EntryBa...\n",
      "dtype: object\n"
     ]
    },
    {
     "data": {
      "text/html": [
       "<div>\n",
       "<style scoped>\n",
       "    .dataframe tbody tr th:only-of-type {\n",
       "        vertical-align: middle;\n",
       "    }\n",
       "\n",
       "    .dataframe tbody tr th {\n",
       "        vertical-align: top;\n",
       "    }\n",
       "\n",
       "    .dataframe thead th {\n",
       "        text-align: right;\n",
       "    }\n",
       "</style>\n",
       "<table border=\"1\" class=\"dataframe\">\n",
       "  <thead>\n",
       "    <tr style=\"text-align: right;\">\n",
       "      <th></th>\n",
       "      <th>Size</th>\n",
       "      <th>EntryBar</th>\n",
       "      <th>ExitBar</th>\n",
       "      <th>EntryPrice</th>\n",
       "      <th>ExitPrice</th>\n",
       "      <th>PnL</th>\n",
       "      <th>ReturnPct</th>\n",
       "      <th>EntryTime</th>\n",
       "      <th>ExitTime</th>\n",
       "      <th>Duration</th>\n",
       "    </tr>\n",
       "  </thead>\n",
       "  <tbody>\n",
       "    <tr>\n",
       "      <th>0</th>\n",
       "      <td>809</td>\n",
       "      <td>28</td>\n",
       "      <td>129</td>\n",
       "      <td>1235.08355</td>\n",
       "      <td>1025.0</td>\n",
       "      <td>-169957.59195</td>\n",
       "      <td>-0.170097</td>\n",
       "      <td>2018-05-10</td>\n",
       "      <td>2018-09-28</td>\n",
       "      <td>141 days</td>\n",
       "    </tr>\n",
       "  </tbody>\n",
       "</table>\n",
       "</div>"
      ],
      "text/plain": [
       "   Size  EntryBar  ExitBar  EntryPrice  ExitPrice           PnL  ReturnPct  \\\n",
       "0   809        28      129  1235.08355     1025.0 -169957.59195  -0.170097   \n",
       "\n",
       "   EntryTime   ExitTime Duration  \n",
       "0 2018-05-10 2018-09-28 141 days  "
      ]
     },
     "metadata": {},
     "output_type": "display_data"
    },
    {
     "name": "stdout",
     "output_type": "stream",
     "text": [
      "----------BEST----------\n",
      "Start                     2019-04-01 00:00:00\n",
      "End                       2019-09-30 00:00:00\n",
      "Duration                    182 days 00:00:00\n",
      "Exposure Time [%]                   15.702479\n",
      "Equity Final [$]                 1113225.2611\n",
      "Equity Peak [$]                  1118734.1359\n",
      "Return [%]                          11.322526\n",
      "Buy & Hold Return [%]               -7.304348\n",
      "Return (Ann.) [%]                   25.030493\n",
      "Volatility (Ann.) [%]                11.22694\n",
      "Sharpe Ratio                         2.229503\n",
      "Sortino Ratio                        6.724555\n",
      "Calmar Ratio                         9.645925\n",
      "Max. Drawdown [%]                   -2.594929\n",
      "Avg. Drawdown [%]                   -1.306278\n",
      "Max. Drawdown Duration       13 days 00:00:00\n",
      "Avg. Drawdown Duration        6 days 00:00:00\n",
      "# Trades                                    1\n",
      "Win Rate [%]                            100.0\n",
      "Best Trade [%]                      11.880056\n",
      "Worst Trade [%]                     11.880056\n",
      "Avg. Trade [%]                      11.880056\n",
      "Max. Trade Duration          26 days 00:00:00\n",
      "Avg. Trade Duration          26 days 00:00:00\n",
      "Profit Factor                             NaN\n",
      "Expectancy [%]                      11.880056\n",
      "SQN                                       NaN\n",
      "_strategy                       RsiOscillator\n",
      "_equity_curve                             ...\n",
      "_trades                      Size  EntryBa...\n",
      "dtype: object\n"
     ]
    },
    {
     "data": {
      "text/html": [
       "<div>\n",
       "<style scoped>\n",
       "    .dataframe tbody tr th:only-of-type {\n",
       "        vertical-align: middle;\n",
       "    }\n",
       "\n",
       "    .dataframe tbody tr th {\n",
       "        vertical-align: top;\n",
       "    }\n",
       "\n",
       "    .dataframe thead th {\n",
       "        text-align: right;\n",
       "    }\n",
       "</style>\n",
       "<table border=\"1\" class=\"dataframe\">\n",
       "  <thead>\n",
       "    <tr style=\"text-align: right;\">\n",
       "      <th></th>\n",
       "      <th>Size</th>\n",
       "      <th>EntryBar</th>\n",
       "      <th>ExitBar</th>\n",
       "      <th>EntryPrice</th>\n",
       "      <th>ExitPrice</th>\n",
       "      <th>PnL</th>\n",
       "      <th>ReturnPct</th>\n",
       "      <th>EntryTime</th>\n",
       "      <th>ExitTime</th>\n",
       "      <th>Duration</th>\n",
       "    </tr>\n",
       "  </thead>\n",
       "  <tbody>\n",
       "    <tr>\n",
       "      <th>0</th>\n",
       "      <td>877</td>\n",
       "      <td>21</td>\n",
       "      <td>39</td>\n",
       "      <td>1139.6133</td>\n",
       "      <td>1275.0</td>\n",
       "      <td>118734.1359</td>\n",
       "      <td>0.118801</td>\n",
       "      <td>2019-05-08</td>\n",
       "      <td>2019-06-03</td>\n",
       "      <td>26 days</td>\n",
       "    </tr>\n",
       "  </tbody>\n",
       "</table>\n",
       "</div>"
      ],
      "text/plain": [
       "   Size  EntryBar  ExitBar  EntryPrice  ExitPrice          PnL  ReturnPct  \\\n",
       "0   877        21       39   1139.6133     1275.0  118734.1359   0.118801   \n",
       "\n",
       "   EntryTime   ExitTime Duration  \n",
       "0 2019-05-08 2019-06-03  26 days  "
      ]
     },
     "metadata": {},
     "output_type": "display_data"
    },
    {
     "data": {
      "text/html": [
       "<div style=\"display: table;\"><div style=\"display: table-row;\"><div style=\"display: table-cell;\"><b title=\"bokeh.models.layouts.Row\">Row</b>(</div><div style=\"display: table-cell;\">id&nbsp;=&nbsp;'29372', <span id=\"30103\" style=\"cursor: pointer;\">&hellip;)</span></div></div><div class=\"30102\" style=\"display: none;\"><div style=\"display: table-cell;\"></div><div style=\"display: table-cell;\">align&nbsp;=&nbsp;'start',</div></div><div class=\"30102\" style=\"display: none;\"><div style=\"display: table-cell;\"></div><div style=\"display: table-cell;\">aspect_ratio&nbsp;=&nbsp;None,</div></div><div class=\"30102\" style=\"display: none;\"><div style=\"display: table-cell;\"></div><div style=\"display: table-cell;\">background&nbsp;=&nbsp;None,</div></div><div class=\"30102\" style=\"display: none;\"><div style=\"display: table-cell;\"></div><div style=\"display: table-cell;\">children&nbsp;=&nbsp;[GridBox(id='29369', ...), ToolbarBox(id='29371', ...)],</div></div><div class=\"30102\" style=\"display: none;\"><div style=\"display: table-cell;\"></div><div style=\"display: table-cell;\">cols&nbsp;=&nbsp;'auto',</div></div><div class=\"30102\" style=\"display: none;\"><div style=\"display: table-cell;\"></div><div style=\"display: table-cell;\">css_classes&nbsp;=&nbsp;[],</div></div><div class=\"30102\" style=\"display: none;\"><div style=\"display: table-cell;\"></div><div style=\"display: table-cell;\">disabled&nbsp;=&nbsp;False,</div></div><div class=\"30102\" style=\"display: none;\"><div style=\"display: table-cell;\"></div><div style=\"display: table-cell;\">height&nbsp;=&nbsp;None,</div></div><div class=\"30102\" style=\"display: none;\"><div style=\"display: table-cell;\"></div><div style=\"display: table-cell;\">height_policy&nbsp;=&nbsp;'auto',</div></div><div class=\"30102\" style=\"display: none;\"><div style=\"display: table-cell;\"></div><div style=\"display: table-cell;\">js_event_callbacks&nbsp;=&nbsp;{},</div></div><div class=\"30102\" style=\"display: none;\"><div style=\"display: table-cell;\"></div><div style=\"display: table-cell;\">js_property_callbacks&nbsp;=&nbsp;{},</div></div><div class=\"30102\" style=\"display: none;\"><div style=\"display: table-cell;\"></div><div style=\"display: table-cell;\">margin&nbsp;=&nbsp;(0, 0, 0, 0),</div></div><div class=\"30102\" style=\"display: none;\"><div style=\"display: table-cell;\"></div><div style=\"display: table-cell;\">max_height&nbsp;=&nbsp;None,</div></div><div class=\"30102\" style=\"display: none;\"><div style=\"display: table-cell;\"></div><div style=\"display: table-cell;\">max_width&nbsp;=&nbsp;None,</div></div><div class=\"30102\" style=\"display: none;\"><div style=\"display: table-cell;\"></div><div style=\"display: table-cell;\">min_height&nbsp;=&nbsp;None,</div></div><div class=\"30102\" style=\"display: none;\"><div style=\"display: table-cell;\"></div><div style=\"display: table-cell;\">min_width&nbsp;=&nbsp;None,</div></div><div class=\"30102\" style=\"display: none;\"><div style=\"display: table-cell;\"></div><div style=\"display: table-cell;\">name&nbsp;=&nbsp;None,</div></div><div class=\"30102\" style=\"display: none;\"><div style=\"display: table-cell;\"></div><div style=\"display: table-cell;\">sizing_mode&nbsp;=&nbsp;'stretch_width',</div></div><div class=\"30102\" style=\"display: none;\"><div style=\"display: table-cell;\"></div><div style=\"display: table-cell;\">spacing&nbsp;=&nbsp;0,</div></div><div class=\"30102\" style=\"display: none;\"><div style=\"display: table-cell;\"></div><div style=\"display: table-cell;\">subscribed_events&nbsp;=&nbsp;[],</div></div><div class=\"30102\" style=\"display: none;\"><div style=\"display: table-cell;\"></div><div style=\"display: table-cell;\">syncable&nbsp;=&nbsp;True,</div></div><div class=\"30102\" style=\"display: none;\"><div style=\"display: table-cell;\"></div><div style=\"display: table-cell;\">tags&nbsp;=&nbsp;[],</div></div><div class=\"30102\" style=\"display: none;\"><div style=\"display: table-cell;\"></div><div style=\"display: table-cell;\">visible&nbsp;=&nbsp;True,</div></div><div class=\"30102\" style=\"display: none;\"><div style=\"display: table-cell;\"></div><div style=\"display: table-cell;\">width&nbsp;=&nbsp;None,</div></div><div class=\"30102\" style=\"display: none;\"><div style=\"display: table-cell;\"></div><div style=\"display: table-cell;\">width_policy&nbsp;=&nbsp;'auto')</div></div></div>\n",
       "<script>\n",
       "(function() {\n",
       "  let expanded = false;\n",
       "  const ellipsis = document.getElementById(\"30103\");\n",
       "  ellipsis.addEventListener(\"click\", function() {\n",
       "    const rows = document.getElementsByClassName(\"30102\");\n",
       "    for (let i = 0; i < rows.length; i++) {\n",
       "      const el = rows[i];\n",
       "      el.style.display = expanded ? \"none\" : \"table-row\";\n",
       "    }\n",
       "    ellipsis.innerHTML = expanded ? \"&hellip;)\" : \"&lsaquo;&lsaquo;&lsaquo;\";\n",
       "    expanded = !expanded;\n",
       "  });\n",
       "})();\n",
       "</script>\n"
      ],
      "text/plain": [
       "Row(id='29372', ...)"
      ]
     },
     "execution_count": 42,
     "metadata": {},
     "output_type": "execute_result"
    }
   ],
   "source": [
    "#最低と最高の期間のバックテストを表示\n",
    "\n",
    "print(\"----------WORST----------\")\n",
    "bt = Backtest(\n",
    "    df_min, # チャートデータ\n",
    "    eval(classname), # 売買戦略\n",
    "    cash=initial, # 最初の所持金\n",
    "    commission=0.00495, # 取引手数料\n",
    "    margin=1.0, # レバレッジ倍率の逆数（0.5で2倍レバレッジ）\n",
    "    trade_on_close=False, # True：現在の終値で取引，False：次の時間の始値で取引\n",
    "    exclusive_orders=True, #自動でポジションをクローズ(オープン)\n",
    ")\n",
    "output = bt.run() # バックテスト実行\n",
    "print(output) # 実行結果(データ)\n",
    "display(output._trades)\n",
    "bt.plot(filename = fname + str(output._strategy) + \"_min.html\") # 実行結果（グラフ）\n",
    "\n",
    "print(\"----------MIN2----------\")\n",
    "bt = Backtest(\n",
    "    df_min2, # チャートデータ\n",
    "    eval(classname), # 売買戦略\n",
    "    cash=initial, # 最初の所持金\n",
    "    commission=0.00495, # 取引手数料\n",
    "    margin=1.0, # レバレッジ倍率の逆数（0.5で2倍レバレッジ）\n",
    "    trade_on_close=False, # True：現在の終値で取引，False：次の時間の始値で取引\n",
    "    exclusive_orders=True, #自動でポジションをクローズ(オープン)\n",
    ")\n",
    "output = bt.run() # バックテスト実行\n",
    "print(output) # 実行結果(データ)\n",
    "display(output._trades)\n",
    "bt.plot(filename = fname + str(output._strategy) + \"_min2.html\") # 実行結果（グラフ）\n",
    "\n",
    "print(\"----------MIN3----------\")\n",
    "bt = Backtest(\n",
    "    df_min3, # チャートデータ\n",
    "    eval(classname), # 売買戦略\n",
    "    cash=initial, # 最初の所持金\n",
    "    commission=0.00495, # 取引手数料\n",
    "    margin=1.0, # レバレッジ倍率の逆数（0.5で2倍レバレッジ）\n",
    "    trade_on_close=False, # True：現在の終値で取引，False：次の時間の始値で取引\n",
    "    exclusive_orders=True, #自動でポジションをクローズ(オープン)\n",
    ")\n",
    "output = bt.run() # バックテスト実行\n",
    "print(output) # 実行結果(データ)\n",
    "display(output._trades)\n",
    "bt.plot(filename = fname + str(output._strategy) + \"_min3.html\") # 実行結果（グラフ）\n",
    "\n",
    "print(\"----------BEST----------\")\n",
    "bt = Backtest(\n",
    "    df_max, # チャートデータ\n",
    "    eval(classname), # 売買戦略\n",
    "    cash=initial, # 最初の所持金\n",
    "    commission=0.00495, # 取引手数料\n",
    "    margin=1.0, # レバレッジ倍率の逆数（0.5で2倍レバレッジ）\n",
    "    trade_on_close=False, # True：現在の終値で取引，False：次の時間の始値で取引\n",
    "    exclusive_orders=True, #自動でポジションをクローズ(オープン)\n",
    ")\n",
    "output = bt.run() # バックテスト実行\n",
    "print(output) # 実行結果(データ)\n",
    "display(output._trades)\n",
    "bt.plot(filename = fname + str(output._strategy) + \"_max.html\") # 実行結果（グラフ）"
   ]
  }
 ],
 "metadata": {
  "kernelspec": {
   "display_name": "Python 3.10.6 64-bit",
   "language": "python",
   "name": "python3"
  },
  "language_info": {
   "codemirror_mode": {
    "name": "ipython",
    "version": 3
   },
   "file_extension": ".py",
   "mimetype": "text/x-python",
   "name": "python",
   "nbconvert_exporter": "python",
   "pygments_lexer": "ipython3",
   "version": "3.10.6"
  },
  "orig_nbformat": 4,
  "vscode": {
   "interpreter": {
    "hash": "369f2c481f4da34e4445cda3fffd2e751bd1c4d706f27375911949ba6bb62e1c"
   }
  }
 },
 "nbformat": 4,
 "nbformat_minor": 2
}
