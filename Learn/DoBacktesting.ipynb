{
 "cells": [
  {
   "cell_type": "code",
   "execution_count": 15,
   "metadata": {},
   "outputs": [],
   "source": [
    "import pandas_datareader.data as web\n",
    "import datetime"
   ]
  },
  {
   "cell_type": "code",
   "execution_count": 16,
   "metadata": {},
   "outputs": [],
   "source": [
    "start = datetime.date(2018, 1, 1)\n",
    "end = datetime.date.today()\n",
    "data = web.DataReader(\"AAPL\", \"yahoo\", start, end)"
   ]
  },
  {
   "cell_type": "code",
   "execution_count": 17,
   "metadata": {},
   "outputs": [],
   "source": [
    "from backtesting import Backtest, Strategy\n",
    "from backtesting.lib import crossover\n",
    "import talib as ta"
   ]
  },
  {
   "cell_type": "code",
   "execution_count": 18,
   "metadata": {},
   "outputs": [],
   "source": [
    "def MACD(close, n1, n2, ns):\n",
    "    macd, macdsignal, macdhist = ta.MACD(close, fastperiod=n1, slowerperiod=n2, signalperiod=ns)\n",
    "    return macd, macdsignal"
   ]
  },
  {
   "cell_type": "code",
   "execution_count": 19,
   "metadata": {},
   "outputs": [],
   "source": [
    "class MACDCross(Strategy):\n",
    "    n1 = 12 #短期EMAの期間\n",
    "    n2 = 26 #長期EMAの期間\n",
    "    ns = 9 #シグナル（MACDのSMA）の期間\n",
    "\n",
    "    def init(self):\n",
    "        self.macd, self.macdsignal = self.I(MACD, self.data.Close, self.n1, self.n2, self.ns)\n",
    "\n",
    "    def next(self): # チャートデータの行ごとに呼び出される\n",
    "        if crossover(self.macd, self.macdsignal): #macdがsignalを上回った時\n",
    "            self.buy() # 買い\n",
    "        elif crossover(self.macdsignal, self.macd): #signalがmacdを上回った時\n",
    "            self.position.close() # 売り"
   ]
  },
  {
   "cell_type": "code",
   "execution_count": 20,
   "metadata": {},
   "outputs": [
    {
     "ename": "RuntimeError",
     "evalue": "Indicator \"MACD(C,12,26,9)\" errored with exception: MACD() got an unexpected keyword argument 'slowerperiod'",
     "output_type": "error",
     "traceback": [
      "\u001b[1;31m---------------------------------------------------------------------------\u001b[0m",
      "\u001b[1;31mTypeError\u001b[0m                                 Traceback (most recent call last)",
      "File \u001b[1;32mc:\\Python310\\lib\\site-packages\\backtesting\\backtesting.py:127\u001b[0m, in \u001b[0;36mStrategy.I\u001b[1;34m(self, func, name, plot, overlay, color, scatter, *args, **kwargs)\u001b[0m\n\u001b[0;32m    126\u001b[0m \u001b[39mtry\u001b[39;00m:\n\u001b[1;32m--> 127\u001b[0m     value \u001b[39m=\u001b[39m func(\u001b[39m*\u001b[39margs, \u001b[39m*\u001b[39m\u001b[39m*\u001b[39mkwargs)\n\u001b[0;32m    128\u001b[0m \u001b[39mexcept\u001b[39;00m \u001b[39mException\u001b[39;00m \u001b[39mas\u001b[39;00m e:\n",
      "\u001b[1;32mセル6 を c:\\Work\\Python\\SystemTrade\\Learn\\Backtesting.ipynb\u001b[0m in \u001b[0;36mMACD\u001b[1;34m(close, n1, n2, ns)\u001b[0m\n\u001b[0;32m      <a href='vscode-notebook-cell:/c%3A/Work/Python/SystemTrade/Learn/Backtesting.ipynb#W5sZmlsZQ%3D%3D?line=0'>1</a>\u001b[0m \u001b[39mdef\u001b[39;00m \u001b[39mMACD\u001b[39m(close, n1, n2, ns):\n\u001b[1;32m----> <a href='vscode-notebook-cell:/c%3A/Work/Python/SystemTrade/Learn/Backtesting.ipynb#W5sZmlsZQ%3D%3D?line=1'>2</a>\u001b[0m     macd, macdsignal, macdhist \u001b[39m=\u001b[39m ta\u001b[39m.\u001b[39;49mMACD(close, fastperiod\u001b[39m=\u001b[39;49mn1, slowerperiod\u001b[39m=\u001b[39;49mn2, signalperiod\u001b[39m=\u001b[39;49mns)\n\u001b[0;32m      <a href='vscode-notebook-cell:/c%3A/Work/Python/SystemTrade/Learn/Backtesting.ipynb#W5sZmlsZQ%3D%3D?line=2'>3</a>\u001b[0m     \u001b[39mreturn\u001b[39;00m macd, macdsignal\n",
      "File \u001b[1;32mc:\\Python310\\lib\\site-packages\\talib\\__init__.py:64\u001b[0m, in \u001b[0;36m_wrapper.<locals>.wrapper\u001b[1;34m(*args, **kwds)\u001b[0m\n\u001b[0;32m     62\u001b[0m     _kwds \u001b[39m=\u001b[39m kwds\n\u001b[1;32m---> 64\u001b[0m result \u001b[39m=\u001b[39m func(\u001b[39m*\u001b[39m_args, \u001b[39m*\u001b[39m\u001b[39m*\u001b[39m_kwds)\n\u001b[0;32m     66\u001b[0m \u001b[39m# check to see if we got a streaming result\u001b[39;00m\n",
      "File \u001b[1;32mtalib/_func.pxi:3424\u001b[0m, in \u001b[0;36mtalib._ta_lib.MACD\u001b[1;34m()\u001b[0m\n",
      "\u001b[1;31mTypeError\u001b[0m: MACD() got an unexpected keyword argument 'slowerperiod'",
      "\nDuring handling of the above exception, another exception occurred:\n",
      "\u001b[1;31mRuntimeError\u001b[0m                              Traceback (most recent call last)",
      "\u001b[1;32mセル6 を c:\\Work\\Python\\SystemTrade\\Learn\\Backtesting.ipynb\u001b[0m in \u001b[0;36m<cell line: 12>\u001b[1;34m()\u001b[0m\n\u001b[0;32m      <a href='vscode-notebook-cell:/c%3A/Work/Python/SystemTrade/Learn/Backtesting.ipynb#W5sZmlsZQ%3D%3D?line=0'>1</a>\u001b[0m \u001b[39m# バックテストを設定\u001b[39;00m\n\u001b[0;32m      <a href='vscode-notebook-cell:/c%3A/Work/Python/SystemTrade/Learn/Backtesting.ipynb#W5sZmlsZQ%3D%3D?line=1'>2</a>\u001b[0m bt \u001b[39m=\u001b[39m Backtest(\n\u001b[0;32m      <a href='vscode-notebook-cell:/c%3A/Work/Python/SystemTrade/Learn/Backtesting.ipynb#W5sZmlsZQ%3D%3D?line=2'>3</a>\u001b[0m     data, \u001b[39m# チャートデータ\u001b[39;00m\n\u001b[0;32m      <a href='vscode-notebook-cell:/c%3A/Work/Python/SystemTrade/Learn/Backtesting.ipynb#W5sZmlsZQ%3D%3D?line=3'>4</a>\u001b[0m     MACDCross, \u001b[39m# 売買戦略\u001b[39;00m\n\u001b[1;32m   (...)\u001b[0m\n\u001b[0;32m      <a href='vscode-notebook-cell:/c%3A/Work/Python/SystemTrade/Learn/Backtesting.ipynb#W5sZmlsZQ%3D%3D?line=8'>9</a>\u001b[0m     exclusive_orders\u001b[39m=\u001b[39m\u001b[39mTrue\u001b[39;00m \u001b[39m#自動でポジションをクローズ(オープン)\u001b[39;00m\n\u001b[0;32m     <a href='vscode-notebook-cell:/c%3A/Work/Python/SystemTrade/Learn/Backtesting.ipynb#W5sZmlsZQ%3D%3D?line=9'>10</a>\u001b[0m )\n\u001b[1;32m---> <a href='vscode-notebook-cell:/c%3A/Work/Python/SystemTrade/Learn/Backtesting.ipynb#W5sZmlsZQ%3D%3D?line=11'>12</a>\u001b[0m output \u001b[39m=\u001b[39m bt\u001b[39m.\u001b[39;49mrun()\n\u001b[0;32m     <a href='vscode-notebook-cell:/c%3A/Work/Python/SystemTrade/Learn/Backtesting.ipynb#W5sZmlsZQ%3D%3D?line=12'>13</a>\u001b[0m \u001b[39mprint\u001b[39m(output)\n\u001b[0;32m     <a href='vscode-notebook-cell:/c%3A/Work/Python/SystemTrade/Learn/Backtesting.ipynb#W5sZmlsZQ%3D%3D?line=13'>14</a>\u001b[0m bt\u001b[39m.\u001b[39mplot()\n",
      "File \u001b[1;32mc:\\Python310\\lib\\site-packages\\backtesting\\backtesting.py:1139\u001b[0m, in \u001b[0;36mBacktest.run\u001b[1;34m(self, **kwargs)\u001b[0m\n\u001b[0;32m   1136\u001b[0m broker: _Broker \u001b[39m=\u001b[39m \u001b[39mself\u001b[39m\u001b[39m.\u001b[39m_broker(data\u001b[39m=\u001b[39mdata)\n\u001b[0;32m   1137\u001b[0m strategy: Strategy \u001b[39m=\u001b[39m \u001b[39mself\u001b[39m\u001b[39m.\u001b[39m_strategy(broker, data, kwargs)\n\u001b[1;32m-> 1139\u001b[0m strategy\u001b[39m.\u001b[39;49minit()\n\u001b[0;32m   1140\u001b[0m data\u001b[39m.\u001b[39m_update()  \u001b[39m# Strategy.init might have changed/added to data.df\u001b[39;00m\n\u001b[0;32m   1142\u001b[0m \u001b[39m# Indicators used in Strategy.next()\u001b[39;00m\n",
      "\u001b[1;32mセル6 を c:\\Work\\Python\\SystemTrade\\Learn\\Backtesting.ipynb\u001b[0m in \u001b[0;36mMACDCross.init\u001b[1;34m(self)\u001b[0m\n\u001b[0;32m      <a href='vscode-notebook-cell:/c%3A/Work/Python/SystemTrade/Learn/Backtesting.ipynb#W5sZmlsZQ%3D%3D?line=5'>6</a>\u001b[0m \u001b[39mdef\u001b[39;00m \u001b[39minit\u001b[39m(\u001b[39mself\u001b[39m):\n\u001b[1;32m----> <a href='vscode-notebook-cell:/c%3A/Work/Python/SystemTrade/Learn/Backtesting.ipynb#W5sZmlsZQ%3D%3D?line=6'>7</a>\u001b[0m     \u001b[39mself\u001b[39m\u001b[39m.\u001b[39mmacd, \u001b[39mself\u001b[39m\u001b[39m.\u001b[39mmacdsignal \u001b[39m=\u001b[39m \u001b[39mself\u001b[39;49m\u001b[39m.\u001b[39;49mI(MACD, \u001b[39mself\u001b[39;49m\u001b[39m.\u001b[39;49mdata\u001b[39m.\u001b[39;49mClose, \u001b[39mself\u001b[39;49m\u001b[39m.\u001b[39;49mn1, \u001b[39mself\u001b[39;49m\u001b[39m.\u001b[39;49mn2, \u001b[39mself\u001b[39;49m\u001b[39m.\u001b[39;49mns)\n",
      "File \u001b[1;32mc:\\Python310\\lib\\site-packages\\backtesting\\backtesting.py:129\u001b[0m, in \u001b[0;36mStrategy.I\u001b[1;34m(self, func, name, plot, overlay, color, scatter, *args, **kwargs)\u001b[0m\n\u001b[0;32m    127\u001b[0m     value \u001b[39m=\u001b[39m func(\u001b[39m*\u001b[39margs, \u001b[39m*\u001b[39m\u001b[39m*\u001b[39mkwargs)\n\u001b[0;32m    128\u001b[0m \u001b[39mexcept\u001b[39;00m \u001b[39mException\u001b[39;00m \u001b[39mas\u001b[39;00m e:\n\u001b[1;32m--> 129\u001b[0m     \u001b[39mraise\u001b[39;00m \u001b[39mRuntimeError\u001b[39;00m(\u001b[39mf\u001b[39m\u001b[39m'\u001b[39m\u001b[39mIndicator \u001b[39m\u001b[39m\"\u001b[39m\u001b[39m{\u001b[39;00mname\u001b[39m}\u001b[39;00m\u001b[39m\"\u001b[39m\u001b[39m errored with exception: \u001b[39m\u001b[39m{\u001b[39;00me\u001b[39m}\u001b[39;00m\u001b[39m'\u001b[39m)\n\u001b[0;32m    131\u001b[0m \u001b[39mif\u001b[39;00m \u001b[39misinstance\u001b[39m(value, pd\u001b[39m.\u001b[39mDataFrame):\n\u001b[0;32m    132\u001b[0m     value \u001b[39m=\u001b[39m value\u001b[39m.\u001b[39mvalues\u001b[39m.\u001b[39mT\n",
      "\u001b[1;31mRuntimeError\u001b[0m: Indicator \"MACD(C,12,26,9)\" errored with exception: MACD() got an unexpected keyword argument 'slowerperiod'"
     ]
    }
   ],
   "source": [
    "# バックテストを設定\n",
    "bt = Backtest(\n",
    "    data, # チャートデータ\n",
    "    MACDCross, # 売買戦略\n",
    "    cash=1000, # 最初の所持金\n",
    "    commission=0.00495, # 取引手数料\n",
    "    margin=1.0, # レバレッジ倍率の逆数（0.5で2倍レバレッジ）\n",
    "    trade_on_close=True, # True：現在の終値で取引，False：次の時間の始値で取引\n",
    "    exclusive_orders=True #自動でポジションをクローズ(オープン)\n",
    ")\n",
    "\n",
    "output = bt.run()\n",
    "print(output)\n",
    "bt.plot()"
   ]
  },
  {
   "cell_type": "code",
   "execution_count": null,
   "metadata": {},
   "outputs": [],
   "source": [
    "# output2=bt.optimize(n1=range(10, 100, 10),n2=range(10, 300, 10),ns=range(10, 50, 5), maximize='Equity Final [$]', method='grid')\n",
    "# print(output2)\n",
    "# bt.plot()"
   ]
  },
  {
   "cell_type": "code",
   "execution_count": null,
   "metadata": {},
   "outputs": [],
   "source": []
  }
 ],
 "metadata": {
  "kernelspec": {
   "display_name": "Python 3.10.6 64-bit",
   "language": "python",
   "name": "python3"
  },
  "language_info": {
   "codemirror_mode": {
    "name": "ipython",
    "version": 3
   },
   "file_extension": ".py",
   "mimetype": "text/x-python",
   "name": "python",
   "nbconvert_exporter": "python",
   "pygments_lexer": "ipython3",
   "version": "3.10.6"
  },
  "orig_nbformat": 4,
  "vscode": {
   "interpreter": {
    "hash": "369f2c481f4da34e4445cda3fffd2e751bd1c4d706f27375911949ba6bb62e1c"
   }
  }
 },
 "nbformat": 4,
 "nbformat_minor": 2
}
